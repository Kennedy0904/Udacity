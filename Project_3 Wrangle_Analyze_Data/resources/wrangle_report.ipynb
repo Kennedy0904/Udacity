{
 "cells": [
  {
   "cell_type": "markdown",
   "metadata": {},
   "source": [
    "# WeRateDogs Twitter Archive - Wrangle Report\n",
    "In this report I outline the wrangling efforts to assemble and clean the data required for analysis of the\n",
    "WeRateDogs Twitter Archive.\n",
    "\n",
    "## Data Gathering\n",
    "I gathered data from 3 sources, stored in separate files:\n",
    "1. WeRateDogs Twitter Enhanced archive, manually downloaded from the Udacity servers.\n",
    "2. The image predictions file, programmatically downloaded from the Udacity servers.\n",
    "3. The entire set of each tweets’ JSON data, downloaded by querying the Twitter API using the Tweepy\n",
    "library. The `favourite_count` and `retweet_count` were extracted programmatically from this file.\n",
    "\n",
    "I loaded the 3 raw data files into separate dataset: **`df_archive`**, **`df_predictions`** and **`df_json_data`**.\n",
    "\n",
    "## Data Assessment \n",
    "I began the assessment by viewing the information on each table, identifying several quality and tidiness issues using both programmatically (**describe()**, **info()**, **isna()**, etc.) and visualization (display table and check for potential issues) approaches.\n",
    "\n",
    "## Data Cleaning\n",
    "\n",
    "All rows containing non-null values in the `retweeted_status_id`, `retweeted_status_user_id`, and `retweeted_status_timestamp` , and also in the `in_reply_to_status_id` and `in_reply_to_user_id` columns were dropped, as per the requirements. These columns were then also dropped.\n",
    "\n",
    "The `timestamp` column was converted to datetime data type.\n",
    "\n",
    "All `tweet_id` are converted to string.\n",
    "\n",
    "The 4 dog stage columns were melted into the `stage` column; tweets without stages were set to ‘none’.\n",
    "\n",
    "Several had 2 stages set, so I kept only the one with the lower overall count.\n",
    "\n",
    "The html strings in the `source` column were replaced with the display portion of itself.\n",
    "\n",
    "The `rating_numerator` and `rating_denominator` columns were checked for value ranges; I decided to keep only tweets with single ratings. Several tweets’ ratings were manually corrected with values from the text. Tweets with large numerators were dropped, as the text didn’t contain a valid rating (# out of 10).\n",
    "\n",
    "The odd words in the `name` column were replaced with ‘none’.\n",
    "\n",
    "Tweets with missing values in `expanded_urls`, (not retweets or replies) were actually missing the urls from the text itself. These tweets were dropped.\n",
    "\n",
    "The **`df_predictions`** table itself was not cleaned. There were many tweets with no dog breed predicted, these were left as is. The best prediction for breed and associated confidence level were extracted and merged into the **`df_archive`** table.\n",
    "\n",
    "The **`df_json_data`** table itself was not cleaned. The `retweet_count` and `favorite_count` columns were merged into the archive table, and the data type reset to int. One tweet was missing both counts so was dropped.\n",
    "\n",
    "The remaining cleaned columns in the **`df_archive`**  table were reordered, then the table was saved to the new *`twitter_archive_master.csv`* file. The **`df_predictions`** and **`df_json_data`**  tables had not been cleaned, so were not saved."
   ]
  }
 ],
 "metadata": {
  "kernelspec": {
   "display_name": "Python 3",
   "language": "python",
   "name": "python3"
  },
  "language_info": {
   "codemirror_mode": {
    "name": "ipython",
    "version": 3
   },
   "file_extension": ".py",
   "mimetype": "text/x-python",
   "name": "python",
   "nbconvert_exporter": "python",
   "pygments_lexer": "ipython3",
   "version": "3.7.5"
  }
 },
 "nbformat": 4,
 "nbformat_minor": 4
}
