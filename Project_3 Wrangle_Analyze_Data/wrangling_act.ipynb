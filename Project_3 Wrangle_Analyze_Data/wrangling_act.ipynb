{
 "cells": [
  {
   "cell_type": "markdown",
   "metadata": {},
   "source": [
    "# Project: Wrangling and Analyze Data\n",
    "\n",
    "\n",
    "## Table of Contents\n",
    "<ul>\n",
    "    <li><a href=\"#intro\">Introduction</a></li>\n",
    "    <li><a href=\"#gather\">Gather Data</a></li>\n",
    "    <li><a href=\"#assess\">Assess Data</a></li>\n",
    "    <li><a href=\"#clean\">Clean Data</a></li>\n",
    "    <li><a href=\"#analyze\">Analyze Data</a></li>\n",
    "</ul>"
   ]
  },
  {
   "cell_type": "markdown",
   "metadata": {},
   "source": [
    "<a id='intro'></a>\n",
    "## Introduction"
   ]
  },
  {
   "cell_type": "markdown",
   "metadata": {},
   "source": [
    "The \"We Rate Dogs\" Twitter archive contains over 5000 tweets, which have been filtered to create the enhanced archive that forms the basis of this analysis. The goal of this project is to wrangle the data - gather, assess, and clean - into a tidy dataset, and then provide analyses and visualizations."
   ]
  },
  {
   "cell_type": "markdown",
   "metadata": {},
   "source": [
    "<a id='gather'></a>\n",
    "## Gather Data"
   ]
  },
  {
   "cell_type": "code",
   "execution_count": 627,
   "metadata": {},
   "outputs": [],
   "source": [
    "# Import library\n",
    "import pandas as pd\n",
    "import numpy as np\n",
    "import requests\n",
    "import os\n",
    "import tweepy\n",
    "import json\n",
    "import time\n",
    "import re\n",
    "import matplotlib.pyplot as plt\n",
    "from matplotlib import cm\n",
    "import seaborn as sns\n",
    "import random\n",
    "%matplotlib inline"
   ]
  },
  {
   "cell_type": "markdown",
   "metadata": {},
   "source": [
    "### Enhanced Twitter Archive\n",
    "The WeRateDogs Twitter archive provided as the starting point, and is download manually from the Udacity server: `twitter_archive_enhanced.csv`"
   ]
  },
  {
   "cell_type": "code",
   "execution_count": null,
   "metadata": {},
   "outputs": [],
   "source": [
    "df_twitter_archive = pd.read_csv('dataset/twitter-archive-enhanced.csv')"
   ]
  },
  {
   "cell_type": "markdown",
   "metadata": {},
   "source": [
    "### Image Predictions File\n",
    "This file contains the tweet image predictions, i.e., what breed of dog (or other object, animal, etc.) is present in each tweet according to a neural network. This file is also hosted on Udacity's servers and is downloaded [here](https://d17h27t6h515a5.cloudfront.net/topher/2017/August/599fd2ad_image-predictions/image-predictions.tsv) programmatically using the Requests library."
   ]
  },
  {
   "cell_type": "code",
   "execution_count": 3,
   "metadata": {},
   "outputs": [],
   "source": [
    "# Download file using requests\n",
    "url = 'https://d17h27t6h515a5.cloudfront.net/topher/2017/August/599fd2ad_image-predictions/image-predictions.tsv'\n",
    "folder_name = 'dataset'\n",
    "response = requests.get(url)\n",
    "with open(os.path.join(folder_name, url.split(\"/\")[-1]), mode = 'wb') as file:\n",
    "    file.write(response.content)"
   ]
  },
  {
   "cell_type": "code",
   "execution_count": 4,
   "metadata": {
    "scrolled": true
   },
   "outputs": [
    {
     "data": {
      "text/plain": [
       "['image-predictions.tsv', 'twitter-archive-enhanced.csv']"
      ]
     },
     "execution_count": 4,
     "metadata": {},
     "output_type": "execute_result"
    }
   ],
   "source": [
    "# Check if the file is downloaded\n",
    "os.listdir(folder_name)"
   ]
  },
  {
   "cell_type": "code",
   "execution_count": 5,
   "metadata": {},
   "outputs": [],
   "source": [
    "df_predictions = pd.read_csv('dataset/image-predictions.tsv', sep=\"\\t\") # can use delimiter=\"\\t\" too"
   ]
  },
  {
   "cell_type": "markdown",
   "metadata": {},
   "source": [
    "### Download Tweet JSON Data\n",
    "Query the Twitter API using Python's Tweepy library to get the entire set of JSON data for each of the tweets in the WeRateDogs Twitter archive. Each tweet's JSON data is written to its own line in a file called \"tweet_json.txt file\"."
   ]
  },
  {
   "cell_type": "code",
   "execution_count": 6,
   "metadata": {},
   "outputs": [
    {
     "name": "stdout",
     "output_type": "stream",
     "text": [
      "Authentication OK\n"
     ]
    }
   ],
   "source": [
    "# Create the Twitter API object and set rate limit params\n",
    "consumer_key = 'HIDDEN'\n",
    "consumer_secret = 'HIDDEN'\n",
    "access_token = 'HIDDEN'\n",
    "access_token_secret = 'HIDDEN'\n",
    "\n",
    "auth = tweepy.OAuthHandler(consumer_key, consumer_secret)\n",
    "auth.set_access_token(access_token, access_token_secret)\n",
    "\n",
    "api = tweepy.API(auth)\n",
    "\n",
    "# Test authentication\n",
    "try:\n",
    "    api.verify_credentials()\n",
    "    print(\"Authentication OK\")\n",
    "except:\n",
    "    print(\"Error during authentication\")"
   ]
  },
  {
   "cell_type": "code",
   "execution_count": 7,
   "metadata": {},
   "outputs": [
    {
     "name": "stdout",
     "output_type": "stream",
     "text": [
      "# of tweet_ids: 2356\n",
      "\n",
      "TweepError for id:  888202515573088257\n",
      "TweepError for id:  873697596434513921\n",
      "loop # 100\n",
      "TweepError for id:  872668790621863937\n",
      "TweepError for id:  872261713294495745\n",
      "TweepError for id:  869988702071779329\n",
      "TweepError for id:  866816280283807744\n",
      "TweepError for id:  861769973181624320\n",
      "TweepError for id:  856602993587888130\n",
      "loop # 200\n",
      "TweepError for id:  851953902622658560\n",
      "TweepError for id:  845459076796616705\n",
      "TweepError for id:  844704788403113984\n",
      "TweepError for id:  842892208864923648\n",
      "TweepError for id:  837366284874571778\n",
      "TweepError for id:  837012587749474308\n",
      "loop # 300\n",
      "TweepError for id:  829374341691346946\n",
      "TweepError for id:  827228250799742977\n",
      "loop # 400\n",
      "loop # 500\n",
      "TweepError for id:  812747805718642688\n",
      "TweepError for id:  802247111496568832\n",
      "loop # 600\n",
      "loop # 700\n",
      "TweepError for id:  779123168116150273\n",
      "TweepError for id:  775096608509886464\n",
      "loop # 800\n",
      "TweepError for id:  771004394259247104\n",
      "TweepError for id:  770743923962707968\n",
      "TweepError for id:  759566828574212096\n",
      "loop # 900\n"
     ]
    },
    {
     "name": "stderr",
     "output_type": "stream",
     "text": [
      "Rate limit reached. Sleeping for: 382\n"
     ]
    },
    {
     "name": "stdout",
     "output_type": "stream",
     "text": [
      "TweepError for id:  758740312047005698\n",
      "TweepError for id:  754011816964026368\n",
      "loop # 1000\n",
      "loop # 1100\n",
      "loop # 1200\n",
      "loop # 1300\n",
      "loop # 1400\n",
      "loop # 1500\n",
      "loop # 1600\n",
      "loop # 1700\n",
      "TweepError for id:  680055455951884288\n",
      "loop # 1800\n"
     ]
    },
    {
     "name": "stderr",
     "output_type": "stream",
     "text": [
      "Rate limit reached. Sleeping for: 375\n"
     ]
    },
    {
     "name": "stdout",
     "output_type": "stream",
     "text": [
      "TweepError for id:  676957860086095872\n",
      "loop # 1900\n",
      "loop # 2000\n",
      "loop # 2100\n",
      "loop # 2200\n",
      "loop # 2300\n",
      "\n",
      "Time elapsed (HH:MM:SS):  00:35:53\n",
      "\n",
      "Number of TweepErrors:  27\n",
      "\n",
      "888202515573088257 [{'code': 144, 'message': 'No status found with that ID.'}]\n",
      "873697596434513921 [{'code': 144, 'message': 'No status found with that ID.'}]\n",
      "872668790621863937 [{'code': 144, 'message': 'No status found with that ID.'}]\n",
      "872261713294495745 [{'code': 144, 'message': 'No status found with that ID.'}]\n",
      "869988702071779329 [{'code': 144, 'message': 'No status found with that ID.'}]\n",
      "866816280283807744 [{'code': 144, 'message': 'No status found with that ID.'}]\n",
      "861769973181624320 [{'code': 144, 'message': 'No status found with that ID.'}]\n",
      "856602993587888130 [{'code': 144, 'message': 'No status found with that ID.'}]\n",
      "851953902622658560 [{'code': 144, 'message': 'No status found with that ID.'}]\n",
      "845459076796616705 [{'code': 144, 'message': 'No status found with that ID.'}]\n",
      "844704788403113984 [{'code': 144, 'message': 'No status found with that ID.'}]\n",
      "842892208864923648 [{'code': 144, 'message': 'No status found with that ID.'}]\n",
      "837366284874571778 [{'code': 144, 'message': 'No status found with that ID.'}]\n",
      "837012587749474308 [{'code': 144, 'message': 'No status found with that ID.'}]\n",
      "829374341691346946 [{'code': 144, 'message': 'No status found with that ID.'}]\n",
      "827228250799742977 [{'code': 144, 'message': 'No status found with that ID.'}]\n",
      "812747805718642688 [{'code': 144, 'message': 'No status found with that ID.'}]\n",
      "802247111496568832 [{'code': 144, 'message': 'No status found with that ID.'}]\n",
      "779123168116150273 [{'code': 144, 'message': 'No status found with that ID.'}]\n",
      "775096608509886464 [{'code': 144, 'message': 'No status found with that ID.'}]\n",
      "771004394259247104 [{'code': 179, 'message': 'Sorry, you are not authorized to see this status.'}]\n",
      "770743923962707968 [{'code': 144, 'message': 'No status found with that ID.'}]\n",
      "759566828574212096 [{'code': 144, 'message': 'No status found with that ID.'}]\n",
      "758740312047005698 Failed to send request: ('Connection aborted.', OSError(\"(10054, 'WSAECONNRESET')\"))\n",
      "754011816964026368 [{'code': 144, 'message': 'No status found with that ID.'}]\n",
      "680055455951884288 [{'code': 144, 'message': 'No status found with that ID.'}]\n",
      "676957860086095872 Failed to send request: ('Connection aborted.', OSError(\"(10054, 'WSAECONNRESET')\"))\n"
     ]
    }
   ],
   "source": [
    "# Get a list of tweet_ids from the enhanced twitter archive to use for \n",
    "# downloading with the Twitter API\n",
    "\n",
    "tweet_ids = df_twitter_archive.tweet_id.values\n",
    "print(\"# of tweet_ids: \" + str(len(tweet_ids)) + \"\\n\")\n",
    "\n",
    "count = 0\n",
    "tweet_json_list = []\n",
    "fails_dict = {}\n",
    "\n",
    "start_time = time.time()\n",
    "\n",
    "for tweet_id in tweet_ids:\n",
    "    count += 1\n",
    "    try:\n",
    "        # attempt to get the tweet's JSON data and append to the tweet JSON list\n",
    "        tweet = api.get_status(tweet_id,\n",
    "                               tweet_mode = 'extended',\n",
    "                               wait_on_rate_limit = True,\n",
    "                               wait_on_rate_limit_notify = True)\n",
    "        tweet_json_list.append(tweet._json)\n",
    "    except tweepy.TweepError as err:\n",
    "        # save the error to the fail dictionary for review\n",
    "        print(\"TweepError for id:  \" + str(tweet_id))\n",
    "        fails_dict[tweet_id] = err\n",
    "        pass\n",
    "    # To save space, only print out loop/tweet id for every 100th tweet\n",
    "    if count % 100 == 0:\n",
    "        print(\"loop # \" + str(count))\n",
    "\n",
    "elapsed_time = time.time() - start_time\n",
    "\n",
    "elapsed_time_str = time.strftime(\"%H:%M:%S\", time.gmtime(elapsed_time))\n",
    "print(\"\\nTime elapsed (HH:MM:SS):  \" + elapsed_time_str + \"\\n\")\n",
    "\n",
    "# display list of tweets with errors\n",
    "print(\"Number of TweepErrors:  {}\\n\".format(len(fails_dict)))\n",
    "for tweet_id in fails_dict:\n",
    "    print(tweet_id, fails_dict[tweet_id])"
   ]
  },
  {
   "cell_type": "code",
   "execution_count": 46,
   "metadata": {},
   "outputs": [],
   "source": [
    "tweet_json_file = 'tweet_json.txt'"
   ]
  },
  {
   "cell_type": "code",
   "execution_count": 41,
   "metadata": {},
   "outputs": [],
   "source": [
    "# save the JSON data in the list to the output file\n",
    "with open(directory + tweet_json_file, 'w') as outfile:\n",
    "    for tweet_json in tweet_json_list:\n",
    "        json.dump(tweet_json, outfile)\n",
    "        outfile.write('\\n')"
   ]
  },
  {
   "cell_type": "code",
   "execution_count": 47,
   "metadata": {},
   "outputs": [
    {
     "data": {
      "text/plain": [
       "['image-predictions.tsv', 'tweet_json.txt', 'twitter-archive-enhanced.csv']"
      ]
     },
     "execution_count": 47,
     "metadata": {},
     "output_type": "execute_result"
    }
   ],
   "source": [
    "# Check if the file is downloaded\n",
    "os.listdir(folder_name)"
   ]
  },
  {
   "cell_type": "code",
   "execution_count": 53,
   "metadata": {},
   "outputs": [],
   "source": [
    "df_tweet_data_extra.to_csv('dataset/tweet_data_extra.csv', index = False)"
   ]
  },
  {
   "cell_type": "markdown",
   "metadata": {},
   "source": [
    "#### Read in JSON data to DataFrame\n",
    "Extract the required fields from each tweet's JSON data and store in a separate file, tweet_data_extra.csv, for use during the assessment phase."
   ]
  },
  {
   "cell_type": "code",
   "execution_count": 50,
   "metadata": {
    "scrolled": false
   },
   "outputs": [
    {
     "data": {
      "text/html": [
       "<div>\n",
       "<style scoped>\n",
       "    .dataframe tbody tr th:only-of-type {\n",
       "        vertical-align: middle;\n",
       "    }\n",
       "\n",
       "    .dataframe tbody tr th {\n",
       "        vertical-align: top;\n",
       "    }\n",
       "\n",
       "    .dataframe thead th {\n",
       "        text-align: right;\n",
       "    }\n",
       "</style>\n",
       "<table border=\"1\" class=\"dataframe\">\n",
       "  <thead>\n",
       "    <tr style=\"text-align: right;\">\n",
       "      <th></th>\n",
       "      <th>tweet_id</th>\n",
       "      <th>retweet_count</th>\n",
       "      <th>favorite_count</th>\n",
       "    </tr>\n",
       "  </thead>\n",
       "  <tbody>\n",
       "    <tr>\n",
       "      <th>0</th>\n",
       "      <td>892420643555336193</td>\n",
       "      <td>7724</td>\n",
       "      <td>36291</td>\n",
       "    </tr>\n",
       "    <tr>\n",
       "      <th>1</th>\n",
       "      <td>892177421306343426</td>\n",
       "      <td>5718</td>\n",
       "      <td>31291</td>\n",
       "    </tr>\n",
       "    <tr>\n",
       "      <th>2</th>\n",
       "      <td>891815181378084864</td>\n",
       "      <td>3786</td>\n",
       "      <td>23563</td>\n",
       "    </tr>\n",
       "    <tr>\n",
       "      <th>3</th>\n",
       "      <td>891689557279858688</td>\n",
       "      <td>7878</td>\n",
       "      <td>39583</td>\n",
       "    </tr>\n",
       "    <tr>\n",
       "      <th>4</th>\n",
       "      <td>891327558926688256</td>\n",
       "      <td>8506</td>\n",
       "      <td>37791</td>\n",
       "    </tr>\n",
       "    <tr>\n",
       "      <th>5</th>\n",
       "      <td>891087950875897856</td>\n",
       "      <td>2848</td>\n",
       "      <td>19040</td>\n",
       "    </tr>\n",
       "    <tr>\n",
       "      <th>6</th>\n",
       "      <td>890971913173991426</td>\n",
       "      <td>1855</td>\n",
       "      <td>11090</td>\n",
       "    </tr>\n",
       "    <tr>\n",
       "      <th>7</th>\n",
       "      <td>890729181411237888</td>\n",
       "      <td>17240</td>\n",
       "      <td>61134</td>\n",
       "    </tr>\n",
       "    <tr>\n",
       "      <th>8</th>\n",
       "      <td>890609185150312448</td>\n",
       "      <td>3924</td>\n",
       "      <td>26198</td>\n",
       "    </tr>\n",
       "    <tr>\n",
       "      <th>9</th>\n",
       "      <td>890240255349198849</td>\n",
       "      <td>6718</td>\n",
       "      <td>29936</td>\n",
       "    </tr>\n",
       "    <tr>\n",
       "      <th>10</th>\n",
       "      <td>890006608113172480</td>\n",
       "      <td>6700</td>\n",
       "      <td>28817</td>\n",
       "    </tr>\n",
       "    <tr>\n",
       "      <th>11</th>\n",
       "      <td>889880896479866881</td>\n",
       "      <td>4564</td>\n",
       "      <td>26214</td>\n",
       "    </tr>\n",
       "    <tr>\n",
       "      <th>12</th>\n",
       "      <td>889665388333682689</td>\n",
       "      <td>9151</td>\n",
       "      <td>45129</td>\n",
       "    </tr>\n",
       "    <tr>\n",
       "      <th>13</th>\n",
       "      <td>889638837579907072</td>\n",
       "      <td>4105</td>\n",
       "      <td>25401</td>\n",
       "    </tr>\n",
       "    <tr>\n",
       "      <th>14</th>\n",
       "      <td>889531135344209921</td>\n",
       "      <td>2061</td>\n",
       "      <td>14213</td>\n",
       "    </tr>\n",
       "    <tr>\n",
       "      <th>15</th>\n",
       "      <td>889278841981685760</td>\n",
       "      <td>4874</td>\n",
       "      <td>23665</td>\n",
       "    </tr>\n",
       "    <tr>\n",
       "      <th>16</th>\n",
       "      <td>888917238123831296</td>\n",
       "      <td>4114</td>\n",
       "      <td>27348</td>\n",
       "    </tr>\n",
       "    <tr>\n",
       "      <th>17</th>\n",
       "      <td>888804989199671297</td>\n",
       "      <td>3881</td>\n",
       "      <td>24034</td>\n",
       "    </tr>\n",
       "    <tr>\n",
       "      <th>18</th>\n",
       "      <td>888554962724278272</td>\n",
       "      <td>3184</td>\n",
       "      <td>18558</td>\n",
       "    </tr>\n",
       "    <tr>\n",
       "      <th>19</th>\n",
       "      <td>888078434458587136</td>\n",
       "      <td>3166</td>\n",
       "      <td>20455</td>\n",
       "    </tr>\n",
       "    <tr>\n",
       "      <th>20</th>\n",
       "      <td>887705289381826560</td>\n",
       "      <td>4921</td>\n",
       "      <td>28420</td>\n",
       "    </tr>\n",
       "    <tr>\n",
       "      <th>21</th>\n",
       "      <td>887517139158093824</td>\n",
       "      <td>10771</td>\n",
       "      <td>43569</td>\n",
       "    </tr>\n",
       "    <tr>\n",
       "      <th>22</th>\n",
       "      <td>887473957103951883</td>\n",
       "      <td>16456</td>\n",
       "      <td>64585</td>\n",
       "    </tr>\n",
       "    <tr>\n",
       "      <th>23</th>\n",
       "      <td>887343217045368832</td>\n",
       "      <td>9570</td>\n",
       "      <td>31623</td>\n",
       "    </tr>\n",
       "    <tr>\n",
       "      <th>24</th>\n",
       "      <td>887101392804085760</td>\n",
       "      <td>5452</td>\n",
       "      <td>28772</td>\n",
       "    </tr>\n",
       "    <tr>\n",
       "      <th>25</th>\n",
       "      <td>886983233522544640</td>\n",
       "      <td>7018</td>\n",
       "      <td>32841</td>\n",
       "    </tr>\n",
       "    <tr>\n",
       "      <th>26</th>\n",
       "      <td>886736880519319552</td>\n",
       "      <td>2940</td>\n",
       "      <td>11264</td>\n",
       "    </tr>\n",
       "    <tr>\n",
       "      <th>27</th>\n",
       "      <td>886680336477933568</td>\n",
       "      <td>4086</td>\n",
       "      <td>21109</td>\n",
       "    </tr>\n",
       "    <tr>\n",
       "      <th>28</th>\n",
       "      <td>886366144734445568</td>\n",
       "      <td>2894</td>\n",
       "      <td>19877</td>\n",
       "    </tr>\n",
       "    <tr>\n",
       "      <th>29</th>\n",
       "      <td>886267009285017600</td>\n",
       "      <td>4</td>\n",
       "      <td>111</td>\n",
       "    </tr>\n",
       "  </tbody>\n",
       "</table>\n",
       "</div>"
      ],
      "text/plain": [
       "              tweet_id  retweet_count  favorite_count\n",
       "0   892420643555336193           7724           36291\n",
       "1   892177421306343426           5718           31291\n",
       "2   891815181378084864           3786           23563\n",
       "3   891689557279858688           7878           39583\n",
       "4   891327558926688256           8506           37791\n",
       "5   891087950875897856           2848           19040\n",
       "6   890971913173991426           1855           11090\n",
       "7   890729181411237888          17240           61134\n",
       "8   890609185150312448           3924           26198\n",
       "9   890240255349198849           6718           29936\n",
       "10  890006608113172480           6700           28817\n",
       "11  889880896479866881           4564           26214\n",
       "12  889665388333682689           9151           45129\n",
       "13  889638837579907072           4105           25401\n",
       "14  889531135344209921           2061           14213\n",
       "15  889278841981685760           4874           23665\n",
       "16  888917238123831296           4114           27348\n",
       "17  888804989199671297           3881           24034\n",
       "18  888554962724278272           3184           18558\n",
       "19  888078434458587136           3166           20455\n",
       "20  887705289381826560           4921           28420\n",
       "21  887517139158093824          10771           43569\n",
       "22  887473957103951883          16456           64585\n",
       "23  887343217045368832           9570           31623\n",
       "24  887101392804085760           5452           28772\n",
       "25  886983233522544640           7018           32841\n",
       "26  886736880519319552           2940           11264\n",
       "27  886680336477933568           4086           21109\n",
       "28  886366144734445568           2894           19877\n",
       "29  886267009285017600              4             111"
      ]
     },
     "execution_count": 50,
     "metadata": {},
     "output_type": "execute_result"
    }
   ],
   "source": [
    "# read in the JSON data from the text file, and save to a DataFrame\n",
    "tweet_json_data = []\n",
    "\n",
    "with open(folder_name + \"/\" + tweet_json_file, 'r') as json_file:\n",
    "    # read the first line to start the loop\n",
    "    line = json_file.readline()\n",
    "    while line:\n",
    "        data = json.loads(line)\n",
    "\n",
    "        # extract variables from the JSON data\n",
    "        data_id = data['id']\n",
    "        data_retweet_count = data['retweet_count']\n",
    "        data_favorite_count = data['favorite_count']\n",
    "        \n",
    "        # create a dictionary with the JSON data, then add to a list\n",
    "        json_data = {'tweet_id': data_id, \n",
    "                     'retweet_count': data_retweet_count, \n",
    "                     'favorite_count': data_favorite_count\n",
    "                    }\n",
    "        tweet_json_data.append(json_data)\n",
    "\n",
    "        # read the next line of JSON data\n",
    "        line = json_file.readline()\n",
    "        # ----- while -----\n",
    "\n",
    "# convert the tweet JSON data dictionary list to a DataFrame\n",
    "df_tweet_data_extra = pd.DataFrame(tweet_json_data, \n",
    "                                   columns = ['tweet_id',\n",
    "                                              'retweet_count',\n",
    "                                              'favorite_count'])\n",
    "\n",
    "df_tweet_data_extra.head(30)"
   ]
  },
  {
   "cell_type": "markdown",
   "metadata": {},
   "source": [
    "<a id='assess'></a>\n",
    "## Assess Data"
   ]
  },
  {
   "cell_type": "code",
   "execution_count": 54,
   "metadata": {},
   "outputs": [],
   "source": [
    "# Load the data from gathered files\n",
    "df_archive = pd.read_csv('dataset/twitter-archive-enhanced.csv')\n",
    "df_predictions = pd.read_csv('dataset/image-predictions.tsv', sep = '\\\\t', engine = 'python')\n",
    "df_json_data = pd.read_csv('dataset/tweet_data_extra.csv')"
   ]
  },
  {
   "cell_type": "markdown",
   "metadata": {},
   "source": [
    "### Dataset 1: `df_archive`"
   ]
  },
  {
   "cell_type": "code",
   "execution_count": 55,
   "metadata": {
    "scrolled": false
   },
   "outputs": [
    {
     "name": "stdout",
     "output_type": "stream",
     "text": [
      "<class 'pandas.core.frame.DataFrame'>\n",
      "RangeIndex: 2356 entries, 0 to 2355\n",
      "Data columns (total 17 columns):\n",
      " #   Column                      Non-Null Count  Dtype  \n",
      "---  ------                      --------------  -----  \n",
      " 0   tweet_id                    2356 non-null   int64  \n",
      " 1   in_reply_to_status_id       78 non-null     float64\n",
      " 2   in_reply_to_user_id         78 non-null     float64\n",
      " 3   timestamp                   2356 non-null   object \n",
      " 4   source                      2356 non-null   object \n",
      " 5   text                        2356 non-null   object \n",
      " 6   retweeted_status_id         181 non-null    float64\n",
      " 7   retweeted_status_user_id    181 non-null    float64\n",
      " 8   retweeted_status_timestamp  181 non-null    object \n",
      " 9   expanded_urls               2297 non-null   object \n",
      " 10  rating_numerator            2356 non-null   int64  \n",
      " 11  rating_denominator          2356 non-null   int64  \n",
      " 12  name                        2356 non-null   object \n",
      " 13  doggo                       2356 non-null   object \n",
      " 14  floofer                     2356 non-null   object \n",
      " 15  pupper                      2356 non-null   object \n",
      " 16  puppo                       2356 non-null   object \n",
      "dtypes: float64(4), int64(3), object(10)\n",
      "memory usage: 313.0+ KB\n"
     ]
    }
   ],
   "source": [
    "df_archive.info()"
   ]
  },
  {
   "cell_type": "markdown",
   "metadata": {},
   "source": [
    "#### NOTES:\n",
    ">The info() method reveals several quality and tidiness issues:\n",
    "- There are 181 retweets (`retweeted_status_id`, `retweeted_status_user_id`, `retweeted_status_timestamp`)\n",
    "- There are 78 replies (`in_reply_to_status_id`, `in_reply_to_user_id`)\n",
    "- There are 2297 tweets with `expanded_urls` (links to images) indicating 59 tweets with missing data \n",
    "- The `timestamp` field in string format (object)\n",
    "- `tweet_id`, `in_reply_to_status_id`, `in_reply_to_user_id`,  `retweeted_status_id`, and `retweeted_status_user_id` field in float/int format.\n",
    "- There are 4 columns for dog stages (`doggo`, `floofer`, `pupper`, `puppo`)\n",
    "- The columns related to retweets are not applicable for original tweets\n",
    "- The columns related to replies are not applicable for original tweets"
   ]
  },
  {
   "cell_type": "code",
   "execution_count": 57,
   "metadata": {
    "scrolled": false
   },
   "outputs": [
    {
     "name": "stdout",
     "output_type": "stream",
     "text": [
      "Duplicated: 0\n"
     ]
    }
   ],
   "source": [
    "# Check if duplicated\n",
    "print(\"Duplicated: {}\".format(sum(df_archive.duplicated())))"
   ]
  },
  {
   "cell_type": "code",
   "execution_count": 59,
   "metadata": {},
   "outputs": [
    {
     "data": {
      "text/html": [
       "<div>\n",
       "<style scoped>\n",
       "    .dataframe tbody tr th:only-of-type {\n",
       "        vertical-align: middle;\n",
       "    }\n",
       "\n",
       "    .dataframe tbody tr th {\n",
       "        vertical-align: top;\n",
       "    }\n",
       "\n",
       "    .dataframe thead th {\n",
       "        text-align: right;\n",
       "    }\n",
       "</style>\n",
       "<table border=\"1\" class=\"dataframe\">\n",
       "  <thead>\n",
       "    <tr style=\"text-align: right;\">\n",
       "      <th></th>\n",
       "      <th>tweet_id</th>\n",
       "      <th>in_reply_to_status_id</th>\n",
       "      <th>in_reply_to_user_id</th>\n",
       "      <th>timestamp</th>\n",
       "      <th>source</th>\n",
       "      <th>text</th>\n",
       "      <th>retweeted_status_id</th>\n",
       "      <th>retweeted_status_user_id</th>\n",
       "      <th>retweeted_status_timestamp</th>\n",
       "      <th>expanded_urls</th>\n",
       "      <th>rating_numerator</th>\n",
       "      <th>rating_denominator</th>\n",
       "      <th>name</th>\n",
       "      <th>doggo</th>\n",
       "      <th>floofer</th>\n",
       "      <th>pupper</th>\n",
       "      <th>puppo</th>\n",
       "    </tr>\n",
       "  </thead>\n",
       "  <tbody>\n",
       "    <tr>\n",
       "      <th>883</th>\n",
       "      <td>760252756032651264</td>\n",
       "      <td>NaN</td>\n",
       "      <td>NaN</td>\n",
       "      <td>2016-08-01 23:15:56 +0000</td>\n",
       "      <td>&lt;a href=\"http://twitter.com/download/iphone\" r...</td>\n",
       "      <td>This is Fido. He can tell the weather. Not goo...</td>\n",
       "      <td>NaN</td>\n",
       "      <td>NaN</td>\n",
       "      <td>NaN</td>\n",
       "      <td>https://twitter.com/dog_rates/status/760252756...</td>\n",
       "      <td>4</td>\n",
       "      <td>10</td>\n",
       "      <td>Fido</td>\n",
       "      <td>None</td>\n",
       "      <td>None</td>\n",
       "      <td>None</td>\n",
       "      <td>None</td>\n",
       "    </tr>\n",
       "    <tr>\n",
       "      <th>482</th>\n",
       "      <td>815390420867969024</td>\n",
       "      <td>NaN</td>\n",
       "      <td>NaN</td>\n",
       "      <td>2017-01-01 02:53:20 +0000</td>\n",
       "      <td>&lt;a href=\"http://twitter.com/download/iphone\" r...</td>\n",
       "      <td>Happy New Year from the squad! 13/10 for all h...</td>\n",
       "      <td>NaN</td>\n",
       "      <td>NaN</td>\n",
       "      <td>NaN</td>\n",
       "      <td>https://twitter.com/dog_rates/status/815390420...</td>\n",
       "      <td>13</td>\n",
       "      <td>10</td>\n",
       "      <td>None</td>\n",
       "      <td>None</td>\n",
       "      <td>None</td>\n",
       "      <td>None</td>\n",
       "      <td>None</td>\n",
       "    </tr>\n",
       "    <tr>\n",
       "      <th>443</th>\n",
       "      <td>819347104292290561</td>\n",
       "      <td>NaN</td>\n",
       "      <td>NaN</td>\n",
       "      <td>2017-01-12 00:55:47 +0000</td>\n",
       "      <td>&lt;a href=\"http://twitter.com/download/iphone\" r...</td>\n",
       "      <td>Say hello to Anna and Elsa. They fall asleep i...</td>\n",
       "      <td>NaN</td>\n",
       "      <td>NaN</td>\n",
       "      <td>NaN</td>\n",
       "      <td>https://twitter.com/dog_rates/status/819347104...</td>\n",
       "      <td>12</td>\n",
       "      <td>10</td>\n",
       "      <td>Anna</td>\n",
       "      <td>None</td>\n",
       "      <td>None</td>\n",
       "      <td>None</td>\n",
       "      <td>None</td>\n",
       "    </tr>\n",
       "    <tr>\n",
       "      <th>1994</th>\n",
       "      <td>672604026190569472</td>\n",
       "      <td>NaN</td>\n",
       "      <td>NaN</td>\n",
       "      <td>2015-12-04 02:31:10 +0000</td>\n",
       "      <td>&lt;a href=\"http://twitter.com/download/iphone\" r...</td>\n",
       "      <td>This is a baby Rand Paul. Curls for days. 11/1...</td>\n",
       "      <td>NaN</td>\n",
       "      <td>NaN</td>\n",
       "      <td>NaN</td>\n",
       "      <td>https://twitter.com/dog_rates/status/672604026...</td>\n",
       "      <td>11</td>\n",
       "      <td>10</td>\n",
       "      <td>a</td>\n",
       "      <td>None</td>\n",
       "      <td>None</td>\n",
       "      <td>None</td>\n",
       "      <td>None</td>\n",
       "    </tr>\n",
       "    <tr>\n",
       "      <th>290</th>\n",
       "      <td>838150277551247360</td>\n",
       "      <td>8.381455e+17</td>\n",
       "      <td>21955058.0</td>\n",
       "      <td>2017-03-04 22:12:52 +0000</td>\n",
       "      <td>&lt;a href=\"http://twitter.com/download/iphone\" r...</td>\n",
       "      <td>@markhoppus 182/10</td>\n",
       "      <td>NaN</td>\n",
       "      <td>NaN</td>\n",
       "      <td>NaN</td>\n",
       "      <td>NaN</td>\n",
       "      <td>182</td>\n",
       "      <td>10</td>\n",
       "      <td>None</td>\n",
       "      <td>None</td>\n",
       "      <td>None</td>\n",
       "      <td>None</td>\n",
       "      <td>None</td>\n",
       "    </tr>\n",
       "    <tr>\n",
       "      <th>1103</th>\n",
       "      <td>735256018284875776</td>\n",
       "      <td>NaN</td>\n",
       "      <td>NaN</td>\n",
       "      <td>2016-05-24 23:47:49 +0000</td>\n",
       "      <td>&lt;a href=\"http://twitter.com/download/iphone\" r...</td>\n",
       "      <td>This is Kellogg. He accidentally opened the fr...</td>\n",
       "      <td>NaN</td>\n",
       "      <td>NaN</td>\n",
       "      <td>NaN</td>\n",
       "      <td>https://twitter.com/dog_rates/status/735256018...</td>\n",
       "      <td>8</td>\n",
       "      <td>10</td>\n",
       "      <td>Kellogg</td>\n",
       "      <td>doggo</td>\n",
       "      <td>None</td>\n",
       "      <td>None</td>\n",
       "      <td>None</td>\n",
       "    </tr>\n",
       "    <tr>\n",
       "      <th>987</th>\n",
       "      <td>749036806121881602</td>\n",
       "      <td>NaN</td>\n",
       "      <td>NaN</td>\n",
       "      <td>2016-07-02 00:27:45 +0000</td>\n",
       "      <td>&lt;a href=\"http://twitter.com/download/iphone\" r...</td>\n",
       "      <td>This is Dietrich. He hops at random. Other dog...</td>\n",
       "      <td>NaN</td>\n",
       "      <td>NaN</td>\n",
       "      <td>NaN</td>\n",
       "      <td>https://twitter.com/dog_rates/status/749036806...</td>\n",
       "      <td>8</td>\n",
       "      <td>10</td>\n",
       "      <td>Dietrich</td>\n",
       "      <td>None</td>\n",
       "      <td>None</td>\n",
       "      <td>None</td>\n",
       "      <td>None</td>\n",
       "    </tr>\n",
       "    <tr>\n",
       "      <th>1664</th>\n",
       "      <td>682788441537560576</td>\n",
       "      <td>NaN</td>\n",
       "      <td>NaN</td>\n",
       "      <td>2016-01-01 05:00:24 +0000</td>\n",
       "      <td>&lt;a href=\"http://twitter.com/download/iphone\" r...</td>\n",
       "      <td>Happy New Year from your fav holiday squad! 🎉 ...</td>\n",
       "      <td>NaN</td>\n",
       "      <td>NaN</td>\n",
       "      <td>NaN</td>\n",
       "      <td>https://twitter.com/dog_rates/status/682788441...</td>\n",
       "      <td>12</td>\n",
       "      <td>10</td>\n",
       "      <td>None</td>\n",
       "      <td>None</td>\n",
       "      <td>None</td>\n",
       "      <td>pupper</td>\n",
       "      <td>None</td>\n",
       "    </tr>\n",
       "    <tr>\n",
       "      <th>2198</th>\n",
       "      <td>668815180734689280</td>\n",
       "      <td>NaN</td>\n",
       "      <td>NaN</td>\n",
       "      <td>2015-11-23 15:35:39 +0000</td>\n",
       "      <td>&lt;a href=\"http://twitter.com/download/iphone\" r...</td>\n",
       "      <td>This is a wild Toblerone from Papua New Guinea...</td>\n",
       "      <td>NaN</td>\n",
       "      <td>NaN</td>\n",
       "      <td>NaN</td>\n",
       "      <td>https://twitter.com/dog_rates/status/668815180...</td>\n",
       "      <td>7</td>\n",
       "      <td>10</td>\n",
       "      <td>a</td>\n",
       "      <td>None</td>\n",
       "      <td>None</td>\n",
       "      <td>None</td>\n",
       "      <td>None</td>\n",
       "    </tr>\n",
       "    <tr>\n",
       "      <th>1419</th>\n",
       "      <td>698342080612007937</td>\n",
       "      <td>NaN</td>\n",
       "      <td>NaN</td>\n",
       "      <td>2016-02-13 03:05:01 +0000</td>\n",
       "      <td>&lt;a href=\"http://twitter.com/download/iphone\" r...</td>\n",
       "      <td>This is Maximus. He's training for the tetherb...</td>\n",
       "      <td>NaN</td>\n",
       "      <td>NaN</td>\n",
       "      <td>NaN</td>\n",
       "      <td>https://twitter.com/dog_rates/status/698342080...</td>\n",
       "      <td>11</td>\n",
       "      <td>10</td>\n",
       "      <td>Maximus</td>\n",
       "      <td>None</td>\n",
       "      <td>None</td>\n",
       "      <td>None</td>\n",
       "      <td>None</td>\n",
       "    </tr>\n",
       "  </tbody>\n",
       "</table>\n",
       "</div>"
      ],
      "text/plain": [
       "                tweet_id  in_reply_to_status_id  in_reply_to_user_id  \\\n",
       "883   760252756032651264                    NaN                  NaN   \n",
       "482   815390420867969024                    NaN                  NaN   \n",
       "443   819347104292290561                    NaN                  NaN   \n",
       "1994  672604026190569472                    NaN                  NaN   \n",
       "290   838150277551247360           8.381455e+17           21955058.0   \n",
       "1103  735256018284875776                    NaN                  NaN   \n",
       "987   749036806121881602                    NaN                  NaN   \n",
       "1664  682788441537560576                    NaN                  NaN   \n",
       "2198  668815180734689280                    NaN                  NaN   \n",
       "1419  698342080612007937                    NaN                  NaN   \n",
       "\n",
       "                      timestamp  \\\n",
       "883   2016-08-01 23:15:56 +0000   \n",
       "482   2017-01-01 02:53:20 +0000   \n",
       "443   2017-01-12 00:55:47 +0000   \n",
       "1994  2015-12-04 02:31:10 +0000   \n",
       "290   2017-03-04 22:12:52 +0000   \n",
       "1103  2016-05-24 23:47:49 +0000   \n",
       "987   2016-07-02 00:27:45 +0000   \n",
       "1664  2016-01-01 05:00:24 +0000   \n",
       "2198  2015-11-23 15:35:39 +0000   \n",
       "1419  2016-02-13 03:05:01 +0000   \n",
       "\n",
       "                                                 source  \\\n",
       "883   <a href=\"http://twitter.com/download/iphone\" r...   \n",
       "482   <a href=\"http://twitter.com/download/iphone\" r...   \n",
       "443   <a href=\"http://twitter.com/download/iphone\" r...   \n",
       "1994  <a href=\"http://twitter.com/download/iphone\" r...   \n",
       "290   <a href=\"http://twitter.com/download/iphone\" r...   \n",
       "1103  <a href=\"http://twitter.com/download/iphone\" r...   \n",
       "987   <a href=\"http://twitter.com/download/iphone\" r...   \n",
       "1664  <a href=\"http://twitter.com/download/iphone\" r...   \n",
       "2198  <a href=\"http://twitter.com/download/iphone\" r...   \n",
       "1419  <a href=\"http://twitter.com/download/iphone\" r...   \n",
       "\n",
       "                                                   text  retweeted_status_id  \\\n",
       "883   This is Fido. He can tell the weather. Not goo...                  NaN   \n",
       "482   Happy New Year from the squad! 13/10 for all h...                  NaN   \n",
       "443   Say hello to Anna and Elsa. They fall asleep i...                  NaN   \n",
       "1994  This is a baby Rand Paul. Curls for days. 11/1...                  NaN   \n",
       "290                                  @markhoppus 182/10                  NaN   \n",
       "1103  This is Kellogg. He accidentally opened the fr...                  NaN   \n",
       "987   This is Dietrich. He hops at random. Other dog...                  NaN   \n",
       "1664  Happy New Year from your fav holiday squad! 🎉 ...                  NaN   \n",
       "2198  This is a wild Toblerone from Papua New Guinea...                  NaN   \n",
       "1419  This is Maximus. He's training for the tetherb...                  NaN   \n",
       "\n",
       "      retweeted_status_user_id retweeted_status_timestamp  \\\n",
       "883                        NaN                        NaN   \n",
       "482                        NaN                        NaN   \n",
       "443                        NaN                        NaN   \n",
       "1994                       NaN                        NaN   \n",
       "290                        NaN                        NaN   \n",
       "1103                       NaN                        NaN   \n",
       "987                        NaN                        NaN   \n",
       "1664                       NaN                        NaN   \n",
       "2198                       NaN                        NaN   \n",
       "1419                       NaN                        NaN   \n",
       "\n",
       "                                          expanded_urls  rating_numerator  \\\n",
       "883   https://twitter.com/dog_rates/status/760252756...                 4   \n",
       "482   https://twitter.com/dog_rates/status/815390420...                13   \n",
       "443   https://twitter.com/dog_rates/status/819347104...                12   \n",
       "1994  https://twitter.com/dog_rates/status/672604026...                11   \n",
       "290                                                 NaN               182   \n",
       "1103  https://twitter.com/dog_rates/status/735256018...                 8   \n",
       "987   https://twitter.com/dog_rates/status/749036806...                 8   \n",
       "1664  https://twitter.com/dog_rates/status/682788441...                12   \n",
       "2198  https://twitter.com/dog_rates/status/668815180...                 7   \n",
       "1419  https://twitter.com/dog_rates/status/698342080...                11   \n",
       "\n",
       "      rating_denominator      name  doggo floofer  pupper puppo  \n",
       "883                   10      Fido   None    None    None  None  \n",
       "482                   10      None   None    None    None  None  \n",
       "443                   10      Anna   None    None    None  None  \n",
       "1994                  10         a   None    None    None  None  \n",
       "290                   10      None   None    None    None  None  \n",
       "1103                  10   Kellogg  doggo    None    None  None  \n",
       "987                   10  Dietrich   None    None    None  None  \n",
       "1664                  10      None   None    None  pupper  None  \n",
       "2198                  10         a   None    None    None  None  \n",
       "1419                  10   Maximus   None    None    None  None  "
      ]
     },
     "execution_count": 59,
     "metadata": {},
     "output_type": "execute_result"
    }
   ],
   "source": [
    "# Random sample\n",
    "df_archive.sample(10)"
   ]
  },
  {
   "cell_type": "markdown",
   "metadata": {},
   "source": [
    "#### NOTES:\n",
    "Several quality and tidiness issues found from random samples:\n",
    ">**Quality:**\n",
    "- Some of the rows from the output consist invalid value in `name` column, eg. \"a\" and \"None\". <br/><br/>\n",
    ">\n",
    ">**Tidiness:**\n",
    "- The columns with numerical data that are typically used for analysis are located to the far right of the table, and the columns with long strings are on the left; this makes it difficult to readily see the data that will be used for analyses."
   ]
  },
  {
   "cell_type": "code",
   "execution_count": 93,
   "metadata": {},
   "outputs": [
    {
     "name": "stdout",
     "output_type": "stream",
     "text": [
      "Number of unique names in dataset: 957\n"
     ]
    },
    {
     "data": {
      "text/plain": [
       "Alfie        5\n",
       "Archie       4\n",
       "Bailey       7\n",
       "Bear         4\n",
       "Bella        6\n",
       "Bentley      5\n",
       "Bo           9\n",
       "Boomer       4\n",
       "Brody        4\n",
       "Buddy        7\n",
       "Charlie     12\n",
       "Chester      5\n",
       "Cooper      11\n",
       "Daisy        7\n",
       "Dave         6\n",
       "Derek        4\n",
       "Finn         5\n",
       "George       5\n",
       "Gus          5\n",
       "Hank         4\n",
       "Jack         6\n",
       "Jax          6\n",
       "Koda         6\n",
       "Larry        5\n",
       "Leo          6\n",
       "Lola        10\n",
       "Louis        5\n",
       "Lucy        11\n",
       "Milo         6\n",
       "None       745\n",
       "Oakley       5\n",
       "Oliver      11\n",
       "Oscar        6\n",
       "Penny       10\n",
       "Phil         5\n",
       "Rusty        6\n",
       "Sadie        8\n",
       "Sammy        5\n",
       "Scout        6\n",
       "Shadow       4\n",
       "Stanley      6\n",
       "Sunny        5\n",
       "Toby         7\n",
       "Tucker      10\n",
       "Winston      9\n",
       "a           55\n",
       "an           7\n",
       "just         4\n",
       "the          8\n",
       "very         5\n",
       "Name: name, dtype: int64"
      ]
     },
     "execution_count": 93,
     "metadata": {},
     "output_type": "execute_result"
    }
   ],
   "source": [
    "# Investigate name column\n",
    "print(\"+Number of unique names in dataset: {}\".\n",
    "      format(df_archive['name'].nunique()))\n",
    "df_archive['name'].value_counts().head(50).sort_index()"
   ]
  },
  {
   "cell_type": "markdown",
   "metadata": {},
   "source": [
    "#### NOTES:\n",
    ">It looks like the dog names are all capitalized, so words that begin in lowercase are probably not names, like \"a\", \"an\", \"just\", etc."
   ]
  },
  {
   "cell_type": "code",
   "execution_count": 113,
   "metadata": {},
   "outputs": [
    {
     "data": {
      "text/plain": [
       "a               55\n",
       "actually         2\n",
       "all              1\n",
       "an               7\n",
       "by               1\n",
       "getting          2\n",
       "his              1\n",
       "incredibly       1\n",
       "infuriating      1\n",
       "just             4\n",
       "life             1\n",
       "light            1\n",
       "mad              2\n",
       "my               1\n",
       "not              2\n",
       "officially       1\n",
       "old              1\n",
       "one              4\n",
       "quite            4\n",
       "space            1\n",
       "such             1\n",
       "the              8\n",
       "this             1\n",
       "unacceptable     1\n",
       "very             5\n",
       "Name: name, dtype: int64"
      ]
     },
     "execution_count": 113,
     "metadata": {},
     "output_type": "execute_result"
    }
   ],
   "source": [
    "# List all names that are NOT capitalized\n",
    "err_names_mask = df_archive['name'].str.contains(r'^[a-z]', regex = True)\n",
    "df_archive[err_names_mask].name.value_counts().sort_index()"
   ]
  },
  {
   "cell_type": "markdown",
   "metadata": {},
   "source": [
    "#### NOTES:\n",
    ">This list contains non-capitalized words from the name column for 109 tweets, none of which are a valid name."
   ]
  },
  {
   "cell_type": "code",
   "execution_count": 114,
   "metadata": {},
   "outputs": [
    {
     "data": {
      "text/plain": [
       "109"
      ]
     },
     "execution_count": 114,
     "metadata": {},
     "output_type": "execute_result"
    }
   ],
   "source": [
    "len(df_archive[err_names_mask])"
   ]
  },
  {
   "cell_type": "markdown",
   "metadata": {},
   "source": [
    "**Assess** `expanded_urls`"
   ]
  },
  {
   "cell_type": "code",
   "execution_count": 117,
   "metadata": {},
   "outputs": [
    {
     "data": {
      "text/plain": [
       "59"
      ]
     },
     "execution_count": 117,
     "metadata": {},
     "output_type": "execute_result"
    }
   ],
   "source": [
    "# Check missing value\n",
    "df_archive['expanded_urls'].isna().sum()"
   ]
  },
  {
   "cell_type": "markdown",
   "metadata": {},
   "source": [
    "Among these 59 rows, how many tweets are original tweet (not retweets/replies) ?"
   ]
  },
  {
   "cell_type": "code",
   "execution_count": 170,
   "metadata": {},
   "outputs": [
    {
     "data": {
      "text/html": [
       "<div>\n",
       "<style scoped>\n",
       "    .dataframe tbody tr th:only-of-type {\n",
       "        vertical-align: middle;\n",
       "    }\n",
       "\n",
       "    .dataframe tbody tr th {\n",
       "        vertical-align: top;\n",
       "    }\n",
       "\n",
       "    .dataframe thead th {\n",
       "        text-align: right;\n",
       "    }\n",
       "</style>\n",
       "<table border=\"1\" class=\"dataframe\">\n",
       "  <thead>\n",
       "    <tr style=\"text-align: right;\">\n",
       "      <th></th>\n",
       "      <th>tweet_id</th>\n",
       "      <th>text</th>\n",
       "      <th>rating_numerator</th>\n",
       "      <th>rating_denominator</th>\n",
       "      <th>expanded_urls</th>\n",
       "    </tr>\n",
       "  </thead>\n",
       "  <tbody>\n",
       "    <tr>\n",
       "      <th>375</th>\n",
       "      <td>828361771580813312</td>\n",
       "      <td>Beebop and Doobert should start a band 12/10 w...</td>\n",
       "      <td>12</td>\n",
       "      <td>10</td>\n",
       "      <td>NaN</td>\n",
       "    </tr>\n",
       "    <tr>\n",
       "      <th>707</th>\n",
       "      <td>785515384317313025</td>\n",
       "      <td>Today, 10/10, should be National Dog Rates Day</td>\n",
       "      <td>10</td>\n",
       "      <td>10</td>\n",
       "      <td>NaN</td>\n",
       "    </tr>\n",
       "    <tr>\n",
       "      <th>1445</th>\n",
       "      <td>696518437233913856</td>\n",
       "      <td>Oh my god 10/10 for every little hot dog pupper</td>\n",
       "      <td>10</td>\n",
       "      <td>10</td>\n",
       "      <td>NaN</td>\n",
       "    </tr>\n",
       "  </tbody>\n",
       "</table>\n",
       "</div>"
      ],
      "text/plain": [
       "                tweet_id                                               text  \\\n",
       "375   828361771580813312  Beebop and Doobert should start a band 12/10 w...   \n",
       "707   785515384317313025     Today, 10/10, should be National Dog Rates Day   \n",
       "1445  696518437233913856    Oh my god 10/10 for every little hot dog pupper   \n",
       "\n",
       "      rating_numerator  rating_denominator expanded_urls  \n",
       "375                 12                  10           NaN  \n",
       "707                 10                  10           NaN  \n",
       "1445                10                  10           NaN  "
      ]
     },
     "execution_count": 170,
     "metadata": {},
     "output_type": "execute_result"
    }
   ],
   "source": [
    "mask = df_archive['expanded_urls'].isna() &\\\n",
    "        df_archive['in_reply_to_status_id'].isna() &\\\n",
    "        df_archive['retweeted_status_id'].isna()\n",
    "df_archive.loc[mask, ['tweet_id', 'text', 'rating_numerator', 'rating_denominator', 'expanded_urls']]"
   ]
  },
  {
   "cell_type": "markdown",
   "metadata": {},
   "source": [
    "#### NOTES:\n",
    ">Of the 59 tweets that are missing data in `expanded_urls`, 56 are replies or retweets. The remaining 3 tweets (at indexes 375, 707 and 1445) with NaN in the `expanded_urls` column all have valid ratings but no urls within the text column.\n",
    ">\n",
    ">The question now is whether these tweets are part of the **`df_predictions`** or **`df_json_data`** tables."
   ]
  },
  {
   "cell_type": "code",
   "execution_count": 128,
   "metadata": {},
   "outputs": [
    {
     "data": {
      "text/plain": [
       "0"
      ]
     },
     "execution_count": 128,
     "metadata": {},
     "output_type": "execute_result"
    }
   ],
   "source": [
    "# Check if these tweets are exists in df_predictions\n",
    "tweet_id = ['828361771580813312', '785515384317313025', '696518437233913856']\n",
    "sum(df_predictions['tweet_id'].isin(tweet_id))"
   ]
  },
  {
   "cell_type": "code",
   "execution_count": 129,
   "metadata": {},
   "outputs": [
    {
     "data": {
      "text/plain": [
       "3"
      ]
     },
     "execution_count": 129,
     "metadata": {},
     "output_type": "execute_result"
    }
   ],
   "source": [
    "# Check if these tweets are exists in df_json_data\n",
    "sum(df_json_data['tweet_id'].isin(tweet_id))"
   ]
  },
  {
   "cell_type": "code",
   "execution_count": 131,
   "metadata": {
    "scrolled": true
   },
   "outputs": [
    {
     "data": {
      "text/html": [
       "<div>\n",
       "<style scoped>\n",
       "    .dataframe tbody tr th:only-of-type {\n",
       "        vertical-align: middle;\n",
       "    }\n",
       "\n",
       "    .dataframe tbody tr th {\n",
       "        vertical-align: top;\n",
       "    }\n",
       "\n",
       "    .dataframe thead th {\n",
       "        text-align: right;\n",
       "    }\n",
       "</style>\n",
       "<table border=\"1\" class=\"dataframe\">\n",
       "  <thead>\n",
       "    <tr style=\"text-align: right;\">\n",
       "      <th></th>\n",
       "      <th>tweet_id</th>\n",
       "      <th>retweet_count</th>\n",
       "      <th>favorite_count</th>\n",
       "    </tr>\n",
       "  </thead>\n",
       "  <tbody>\n",
       "    <tr>\n",
       "      <th>360</th>\n",
       "      <td>828361771580813312</td>\n",
       "      <td>173</td>\n",
       "      <td>2216</td>\n",
       "    </tr>\n",
       "    <tr>\n",
       "      <th>689</th>\n",
       "      <td>785515384317313025</td>\n",
       "      <td>1288</td>\n",
       "      <td>6230</td>\n",
       "    </tr>\n",
       "    <tr>\n",
       "      <th>1420</th>\n",
       "      <td>696518437233913856</td>\n",
       "      <td>1704</td>\n",
       "      <td>3906</td>\n",
       "    </tr>\n",
       "  </tbody>\n",
       "</table>\n",
       "</div>"
      ],
      "text/plain": [
       "                tweet_id  retweet_count  favorite_count\n",
       "360   828361771580813312            173            2216\n",
       "689   785515384317313025           1288            6230\n",
       "1420  696518437233913856           1704            3906"
      ]
     },
     "execution_count": 131,
     "metadata": {},
     "output_type": "execute_result"
    }
   ],
   "source": [
    "df_json_data[df_json_data['tweet_id'].isin(tweet_id)]"
   ]
  },
  {
   "cell_type": "markdown",
   "metadata": {},
   "source": [
    "#### NOTES:\n",
    ">It turns out that these 3 tweets are NOT in the **`df_predictions`** table, and even though they ARE in the **`df_json_data`** table, there was NO image url extracted from the JSON data."
   ]
  },
  {
   "cell_type": "markdown",
   "metadata": {},
   "source": [
    "**Assess** `rating_numerator` and `rating_denominator`"
   ]
  },
  {
   "cell_type": "code",
   "execution_count": 135,
   "metadata": {
    "scrolled": true
   },
   "outputs": [
    {
     "data": {
      "text/html": [
       "<div>\n",
       "<style scoped>\n",
       "    .dataframe tbody tr th:only-of-type {\n",
       "        vertical-align: middle;\n",
       "    }\n",
       "\n",
       "    .dataframe tbody tr th {\n",
       "        vertical-align: top;\n",
       "    }\n",
       "\n",
       "    .dataframe thead th {\n",
       "        text-align: right;\n",
       "    }\n",
       "</style>\n",
       "<table border=\"1\" class=\"dataframe\">\n",
       "  <thead>\n",
       "    <tr style=\"text-align: right;\">\n",
       "      <th></th>\n",
       "      <th>rating_numerator</th>\n",
       "      <th>rating_denominator</th>\n",
       "    </tr>\n",
       "  </thead>\n",
       "  <tbody>\n",
       "    <tr>\n",
       "      <th>count</th>\n",
       "      <td>2356.000000</td>\n",
       "      <td>2356.000000</td>\n",
       "    </tr>\n",
       "    <tr>\n",
       "      <th>mean</th>\n",
       "      <td>13.126486</td>\n",
       "      <td>10.455433</td>\n",
       "    </tr>\n",
       "    <tr>\n",
       "      <th>std</th>\n",
       "      <td>45.876648</td>\n",
       "      <td>6.745237</td>\n",
       "    </tr>\n",
       "    <tr>\n",
       "      <th>min</th>\n",
       "      <td>0.000000</td>\n",
       "      <td>0.000000</td>\n",
       "    </tr>\n",
       "    <tr>\n",
       "      <th>25%</th>\n",
       "      <td>10.000000</td>\n",
       "      <td>10.000000</td>\n",
       "    </tr>\n",
       "    <tr>\n",
       "      <th>50%</th>\n",
       "      <td>11.000000</td>\n",
       "      <td>10.000000</td>\n",
       "    </tr>\n",
       "    <tr>\n",
       "      <th>75%</th>\n",
       "      <td>12.000000</td>\n",
       "      <td>10.000000</td>\n",
       "    </tr>\n",
       "    <tr>\n",
       "      <th>max</th>\n",
       "      <td>1776.000000</td>\n",
       "      <td>170.000000</td>\n",
       "    </tr>\n",
       "  </tbody>\n",
       "</table>\n",
       "</div>"
      ],
      "text/plain": [
       "       rating_numerator  rating_denominator\n",
       "count       2356.000000         2356.000000\n",
       "mean          13.126486           10.455433\n",
       "std           45.876648            6.745237\n",
       "min            0.000000            0.000000\n",
       "25%           10.000000           10.000000\n",
       "50%           11.000000           10.000000\n",
       "75%           12.000000           10.000000\n",
       "max         1776.000000          170.000000"
      ]
     },
     "execution_count": 135,
     "metadata": {},
     "output_type": "execute_result"
    }
   ],
   "source": [
    "# Describe rating\n",
    "df_archive[['rating_numerator', 'rating_denominator']].describe()"
   ]
  },
  {
   "cell_type": "markdown",
   "metadata": {},
   "source": [
    "#### NOTES:\n",
    ">For `rating_numerator` and rating_denominator, the describe() method shows some quality issues:\n",
    "- The max values are huge: 1776, 170.\n",
    "- The minimum is 0 for both."
   ]
  },
  {
   "cell_type": "code",
   "execution_count": 139,
   "metadata": {},
   "outputs": [
    {
     "data": {
      "text/plain": [
       "170       1\n",
       "150       1\n",
       "130       1\n",
       "120       1\n",
       "110       1\n",
       "90        1\n",
       "80        2\n",
       "70        1\n",
       "50        3\n",
       "40        1\n",
       "20        2\n",
       "16        1\n",
       "15        1\n",
       "11        3\n",
       "10     2333\n",
       "7         1\n",
       "2         1\n",
       "0         1\n",
       "Name: rating_denominator, dtype: int64"
      ]
     },
     "execution_count": 139,
     "metadata": {},
     "output_type": "execute_result"
    }
   ],
   "source": [
    "df_archive['rating_denominator'].value_counts().sort_index(ascending = False)"
   ]
  },
  {
   "cell_type": "markdown",
   "metadata": {},
   "source": [
    "#### NOTES:\n",
    ">It's interesting that many of the larger numbers are multiples of 10. When looking at some of those tweets we see that there is more than 1 dog in the photo. Ignoring the retweets and replies we have the following list."
   ]
  },
  {
   "cell_type": "code",
   "execution_count": 421,
   "metadata": {},
   "outputs": [
    {
     "data": {
      "text/html": [
       "<div>\n",
       "<style scoped>\n",
       "    .dataframe tbody tr th:only-of-type {\n",
       "        vertical-align: middle;\n",
       "    }\n",
       "\n",
       "    .dataframe tbody tr th {\n",
       "        vertical-align: top;\n",
       "    }\n",
       "\n",
       "    .dataframe thead th {\n",
       "        text-align: right;\n",
       "    }\n",
       "</style>\n",
       "<table border=\"1\" class=\"dataframe\">\n",
       "  <thead>\n",
       "    <tr style=\"text-align: right;\">\n",
       "      <th></th>\n",
       "      <th>tweet_id</th>\n",
       "      <th>text</th>\n",
       "      <th>rating_numerator</th>\n",
       "      <th>rating_denominator</th>\n",
       "    </tr>\n",
       "  </thead>\n",
       "  <tbody>\n",
       "    <tr>\n",
       "      <th>433</th>\n",
       "      <td>820690176645140481</td>\n",
       "      <td>The floofs have been released I repeat the flo...</td>\n",
       "      <td>84</td>\n",
       "      <td>70</td>\n",
       "    </tr>\n",
       "    <tr>\n",
       "      <th>516</th>\n",
       "      <td>810984652412424192</td>\n",
       "      <td>Meet Sam. She smiles 24/7 &amp;amp; secretly aspir...</td>\n",
       "      <td>24</td>\n",
       "      <td>7</td>\n",
       "    </tr>\n",
       "    <tr>\n",
       "      <th>902</th>\n",
       "      <td>758467244762497024</td>\n",
       "      <td>Why does this never happen at my front door......</td>\n",
       "      <td>165</td>\n",
       "      <td>150</td>\n",
       "    </tr>\n",
       "    <tr>\n",
       "      <th>1068</th>\n",
       "      <td>740373189193256964</td>\n",
       "      <td>After so many requests, this is Bretagne. She ...</td>\n",
       "      <td>9</td>\n",
       "      <td>11</td>\n",
       "    </tr>\n",
       "    <tr>\n",
       "      <th>1120</th>\n",
       "      <td>731156023742988288</td>\n",
       "      <td>Say hello to this unbelievably well behaved sq...</td>\n",
       "      <td>204</td>\n",
       "      <td>170</td>\n",
       "    </tr>\n",
       "    <tr>\n",
       "      <th>1165</th>\n",
       "      <td>722974582966214656</td>\n",
       "      <td>Happy 4/20 from the squad! 13/10 for all https...</td>\n",
       "      <td>4</td>\n",
       "      <td>20</td>\n",
       "    </tr>\n",
       "    <tr>\n",
       "      <th>1202</th>\n",
       "      <td>716439118184652801</td>\n",
       "      <td>This is Bluebert. He just saw that both #Final...</td>\n",
       "      <td>50</td>\n",
       "      <td>50</td>\n",
       "    </tr>\n",
       "    <tr>\n",
       "      <th>1228</th>\n",
       "      <td>713900603437621249</td>\n",
       "      <td>Happy Saturday here's 9 puppers on a bench. 99...</td>\n",
       "      <td>99</td>\n",
       "      <td>90</td>\n",
       "    </tr>\n",
       "    <tr>\n",
       "      <th>1254</th>\n",
       "      <td>710658690886586372</td>\n",
       "      <td>Here's a brigade of puppers. All look very pre...</td>\n",
       "      <td>80</td>\n",
       "      <td>80</td>\n",
       "    </tr>\n",
       "    <tr>\n",
       "      <th>1274</th>\n",
       "      <td>709198395643068416</td>\n",
       "      <td>From left to right:\\nCletus, Jerome, Alejandro...</td>\n",
       "      <td>45</td>\n",
       "      <td>50</td>\n",
       "    </tr>\n",
       "    <tr>\n",
       "      <th>1351</th>\n",
       "      <td>704054845121142784</td>\n",
       "      <td>Here is a whole flock of puppers.  60/50 I'll ...</td>\n",
       "      <td>60</td>\n",
       "      <td>50</td>\n",
       "    </tr>\n",
       "    <tr>\n",
       "      <th>1433</th>\n",
       "      <td>697463031882764288</td>\n",
       "      <td>Happy Wednesday here's a bucket of pups. 44/40...</td>\n",
       "      <td>44</td>\n",
       "      <td>40</td>\n",
       "    </tr>\n",
       "    <tr>\n",
       "      <th>1635</th>\n",
       "      <td>684222868335505415</td>\n",
       "      <td>Someone help the girl is being mugged. Several...</td>\n",
       "      <td>121</td>\n",
       "      <td>110</td>\n",
       "    </tr>\n",
       "    <tr>\n",
       "      <th>1662</th>\n",
       "      <td>682962037429899265</td>\n",
       "      <td>This is Darrel. He just robbed a 7/11 and is i...</td>\n",
       "      <td>7</td>\n",
       "      <td>11</td>\n",
       "    </tr>\n",
       "    <tr>\n",
       "      <th>1779</th>\n",
       "      <td>677716515794329600</td>\n",
       "      <td>IT'S PUPPERGEDDON. Total of 144/120 ...I think...</td>\n",
       "      <td>144</td>\n",
       "      <td>120</td>\n",
       "    </tr>\n",
       "    <tr>\n",
       "      <th>1843</th>\n",
       "      <td>675853064436391936</td>\n",
       "      <td>Here we have an entire platoon of puppers. Tot...</td>\n",
       "      <td>88</td>\n",
       "      <td>80</td>\n",
       "    </tr>\n",
       "    <tr>\n",
       "      <th>2335</th>\n",
       "      <td>666287406224695296</td>\n",
       "      <td>This is an Albanian 3 1/2 legged  Episcopalian...</td>\n",
       "      <td>1</td>\n",
       "      <td>2</td>\n",
       "    </tr>\n",
       "  </tbody>\n",
       "</table>\n",
       "</div>"
      ],
      "text/plain": [
       "                tweet_id                                               text  \\\n",
       "433   820690176645140481  The floofs have been released I repeat the flo...   \n",
       "516   810984652412424192  Meet Sam. She smiles 24/7 &amp; secretly aspir...   \n",
       "902   758467244762497024  Why does this never happen at my front door......   \n",
       "1068  740373189193256964  After so many requests, this is Bretagne. She ...   \n",
       "1120  731156023742988288  Say hello to this unbelievably well behaved sq...   \n",
       "1165  722974582966214656  Happy 4/20 from the squad! 13/10 for all https...   \n",
       "1202  716439118184652801  This is Bluebert. He just saw that both #Final...   \n",
       "1228  713900603437621249  Happy Saturday here's 9 puppers on a bench. 99...   \n",
       "1254  710658690886586372  Here's a brigade of puppers. All look very pre...   \n",
       "1274  709198395643068416  From left to right:\\nCletus, Jerome, Alejandro...   \n",
       "1351  704054845121142784  Here is a whole flock of puppers.  60/50 I'll ...   \n",
       "1433  697463031882764288  Happy Wednesday here's a bucket of pups. 44/40...   \n",
       "1635  684222868335505415  Someone help the girl is being mugged. Several...   \n",
       "1662  682962037429899265  This is Darrel. He just robbed a 7/11 and is i...   \n",
       "1779  677716515794329600  IT'S PUPPERGEDDON. Total of 144/120 ...I think...   \n",
       "1843  675853064436391936  Here we have an entire platoon of puppers. Tot...   \n",
       "2335  666287406224695296  This is an Albanian 3 1/2 legged  Episcopalian...   \n",
       "\n",
       "      rating_numerator  rating_denominator  \n",
       "433                 84                  70  \n",
       "516                 24                   7  \n",
       "902                165                 150  \n",
       "1068                 9                  11  \n",
       "1120               204                 170  \n",
       "1165                 4                  20  \n",
       "1202                50                  50  \n",
       "1228                99                  90  \n",
       "1254                80                  80  \n",
       "1274                45                  50  \n",
       "1351                60                  50  \n",
       "1433                44                  40  \n",
       "1635               121                 110  \n",
       "1662                 7                  11  \n",
       "1779               144                 120  \n",
       "1843                88                  80  \n",
       "2335                 1                   2  "
      ]
     },
     "execution_count": 421,
     "metadata": {},
     "output_type": "execute_result"
    }
   ],
   "source": [
    "# Find tweets that do NOT have denominator of 10,\n",
    "# and are NOT replies and are NOT retweets\n",
    "mask = ((df_archive['rating_denominator'] != 10) &\\\n",
    "        df_archive['in_reply_to_status_id'].isna() &\\\n",
    "        df_archive['retweeted_status_id'].isna())\n",
    "df_archive.loc[mask, ['tweet_id', 'text', 'rating_numerator', 'rating_denominator']]"
   ]
  },
  {
   "cell_type": "code",
   "execution_count": 422,
   "metadata": {
    "scrolled": true
   },
   "outputs": [
    {
     "data": {
      "text/plain": [
       "17"
      ]
     },
     "execution_count": 422,
     "metadata": {},
     "output_type": "execute_result"
    }
   ],
   "source": [
    "sum(mask)"
   ]
  },
  {
   "cell_type": "markdown",
   "metadata": {},
   "source": [
    "#### NOTES:\n",
    ">Ignoring the replies and retweets, there are 17 tweets with denominators that aren't 10.\n",
    ">\n",
    ">Many of these which are multiples of 10 are about multiple dogs, and the text indicates this, like \"floofs\", \"puppers\", \"squad\" and \"pups\". I'll just drop the tweets for multiples.\n",
    ">\n",
    ">And there are several rows which take the wrong values from the text as rating numerator and denominator. I will try to find the right rating value from text."
   ]
  },
  {
   "cell_type": "code",
   "execution_count": 138,
   "metadata": {
    "scrolled": false
   },
   "outputs": [
    {
     "data": {
      "text/plain": [
       "1776      1\n",
       "960       1\n",
       "666       1\n",
       "420       2\n",
       "204       1\n",
       "182       1\n",
       "165       1\n",
       "144       1\n",
       "143       1\n",
       "121       1\n",
       "99        1\n",
       "88        1\n",
       "84        1\n",
       "80        1\n",
       "75        2\n",
       "60        1\n",
       "50        1\n",
       "45        1\n",
       "44        1\n",
       "27        1\n",
       "26        1\n",
       "24        1\n",
       "20        1\n",
       "17        1\n",
       "15        2\n",
       "14       54\n",
       "13      351\n",
       "12      558\n",
       "11      464\n",
       "10      461\n",
       "9       158\n",
       "8       102\n",
       "7        55\n",
       "6        32\n",
       "5        37\n",
       "4        17\n",
       "3        19\n",
       "2         9\n",
       "1         9\n",
       "0         2\n",
       "Name: rating_numerator, dtype: int64"
      ]
     },
     "execution_count": 138,
     "metadata": {},
     "output_type": "execute_result"
    }
   ],
   "source": [
    "df_archive['rating_numerator'].value_counts().sort_index(ascending = False)"
   ]
  },
  {
   "cell_type": "code",
   "execution_count": 424,
   "metadata": {},
   "outputs": [
    {
     "data": {
      "text/plain": [
       "28"
      ]
     },
     "execution_count": 424,
     "metadata": {},
     "output_type": "execute_result"
    }
   ],
   "source": [
    "sum(df_archive.rating_numerator >= 15)"
   ]
  },
  {
   "cell_type": "markdown",
   "metadata": {},
   "source": [
    "#### NOTES:\n",
    ">For numerator, majority are within 15, thus, I chose 15 as the boundary for `rating_numerator`."
   ]
  },
  {
   "cell_type": "code",
   "execution_count": 211,
   "metadata": {},
   "outputs": [
    {
     "data": {
      "text/html": [
       "<div>\n",
       "<style scoped>\n",
       "    .dataframe tbody tr th:only-of-type {\n",
       "        vertical-align: middle;\n",
       "    }\n",
       "\n",
       "    .dataframe tbody tr th {\n",
       "        vertical-align: top;\n",
       "    }\n",
       "\n",
       "    .dataframe thead th {\n",
       "        text-align: right;\n",
       "    }\n",
       "</style>\n",
       "<table border=\"1\" class=\"dataframe\">\n",
       "  <thead>\n",
       "    <tr style=\"text-align: right;\">\n",
       "      <th></th>\n",
       "      <th>text</th>\n",
       "      <th>tweet_id</th>\n",
       "      <th>rating_numerator</th>\n",
       "      <th>rating_denominator</th>\n",
       "    </tr>\n",
       "  </thead>\n",
       "  <tbody>\n",
       "    <tr>\n",
       "      <th>315</th>\n",
       "      <td>When you're so blinded by your systematic plag...</td>\n",
       "      <td>835152434251116546</td>\n",
       "      <td>0</td>\n",
       "      <td>10</td>\n",
       "    </tr>\n",
       "  </tbody>\n",
       "</table>\n",
       "</div>"
      ],
      "text/plain": [
       "                                                  text            tweet_id  \\\n",
       "315  When you're so blinded by your systematic plag...  835152434251116546   \n",
       "\n",
       "     rating_numerator  rating_denominator  \n",
       "315                 0                  10  "
      ]
     },
     "execution_count": 211,
     "metadata": {},
     "output_type": "execute_result"
    }
   ],
   "source": [
    "# Find numerator and denominator of 0\n",
    "# and are NOT replies and are NOT retweets\n",
    "mask = (((df_archive.rating_denominator == 0) | \\\n",
    "         (df_archive.rating_numerator == 0)) & \\\n",
    "        df_archive.in_reply_to_status_id.isna() & \\\n",
    "        df_archive.retweeted_status_id.isna())\n",
    "mask_cols = ['text', 'tweet_id', 'rating_numerator', 'rating_denominator']\n",
    "df_archive[mask][mask_cols]"
   ]
  },
  {
   "cell_type": "markdown",
   "metadata": {},
   "source": [
    "#### NOTES:\n",
    ">And lastly, here is a tweet with numerator (rating) of '0'. It looks legit!"
   ]
  },
  {
   "cell_type": "markdown",
   "metadata": {},
   "source": [
    "**Assess** `source`"
   ]
  },
  {
   "cell_type": "code",
   "execution_count": 212,
   "metadata": {
    "scrolled": true
   },
   "outputs": [
    {
     "data": {
      "text/plain": [
       "<a href=\"http://twitter.com/download/iphone\" rel=\"nofollow\">Twitter for iPhone</a>     2221\n",
       "<a href=\"http://vine.co\" rel=\"nofollow\">Vine - Make a Scene</a>                          91\n",
       "<a href=\"http://twitter.com\" rel=\"nofollow\">Twitter Web Client</a>                       33\n",
       "<a href=\"https://about.twitter.com/products/tweetdeck\" rel=\"nofollow\">TweetDeck</a>      11\n",
       "Name: source, dtype: int64"
      ]
     },
     "execution_count": 212,
     "metadata": {},
     "output_type": "execute_result"
    }
   ],
   "source": [
    "df_archive['source'].value_counts()"
   ]
  },
  {
   "cell_type": "markdown",
   "metadata": {},
   "source": [
    "#### NOTES:\n",
    ">There are only 4 types of sources, and they can be simplified by using the display string portion just before the final \"<\\a>\":\n",
    "- Twitter for iPhone\n",
    "- Vine - Make a Scene\n",
    "- Twitter Web Client\n",
    "- TweetDeck"
   ]
  },
  {
   "cell_type": "markdown",
   "metadata": {},
   "source": [
    "**Assess** `doggo`, `floofer`, `pupper`, and `puppo`"
   ]
  },
  {
   "cell_type": "code",
   "execution_count": 222,
   "metadata": {
    "scrolled": true
   },
   "outputs": [
    {
     "name": "stdout",
     "output_type": "stream",
     "text": [
      "doggo\n",
      "None     2259\n",
      "doggo      97\n",
      "Name: doggo, dtype: int64\n",
      "\n",
      "\n",
      "floofer\n",
      "None       2346\n",
      "floofer      10\n",
      "Name: floofer, dtype: int64\n",
      "\n",
      "\n",
      "pupper\n",
      "None      2099\n",
      "pupper     257\n",
      "Name: pupper, dtype: int64\n",
      "\n",
      "\n",
      "puppo\n",
      "None     2326\n",
      "puppo      30\n",
      "Name: puppo, dtype: int64\n",
      "\n",
      "\n"
     ]
    }
   ],
   "source": [
    "cols = ['doggo', 'floofer', 'pupper', 'puppo']\n",
    "for c in cols:\n",
    "    print(c)\n",
    "    print(df_archive[c].value_counts())\n",
    "    print('\\n')"
   ]
  },
  {
   "cell_type": "markdown",
   "metadata": {},
   "source": [
    "### Dataset 2: `df_predictions`"
   ]
  },
  {
   "cell_type": "code",
   "execution_count": 223,
   "metadata": {
    "scrolled": true
   },
   "outputs": [
    {
     "name": "stdout",
     "output_type": "stream",
     "text": [
      "<class 'pandas.core.frame.DataFrame'>\n",
      "RangeIndex: 2075 entries, 0 to 2074\n",
      "Data columns (total 12 columns):\n",
      " #   Column    Non-Null Count  Dtype  \n",
      "---  ------    --------------  -----  \n",
      " 0   tweet_id  2075 non-null   int64  \n",
      " 1   jpg_url   2075 non-null   object \n",
      " 2   img_num   2075 non-null   int64  \n",
      " 3   p1        2075 non-null   object \n",
      " 4   p1_conf   2075 non-null   float64\n",
      " 5   p1_dog    2075 non-null   bool   \n",
      " 6   p2        2075 non-null   object \n",
      " 7   p2_conf   2075 non-null   float64\n",
      " 8   p2_dog    2075 non-null   bool   \n",
      " 9   p3        2075 non-null   object \n",
      " 10  p3_conf   2075 non-null   float64\n",
      " 11  p3_dog    2075 non-null   bool   \n",
      "dtypes: bool(3), float64(3), int64(2), object(4)\n",
      "memory usage: 152.1+ KB\n"
     ]
    }
   ],
   "source": [
    "df_predictions.info()"
   ]
  },
  {
   "cell_type": "code",
   "execution_count": 224,
   "metadata": {
    "scrolled": true
   },
   "outputs": [
    {
     "data": {
      "text/html": [
       "<div>\n",
       "<style scoped>\n",
       "    .dataframe tbody tr th:only-of-type {\n",
       "        vertical-align: middle;\n",
       "    }\n",
       "\n",
       "    .dataframe tbody tr th {\n",
       "        vertical-align: top;\n",
       "    }\n",
       "\n",
       "    .dataframe thead th {\n",
       "        text-align: right;\n",
       "    }\n",
       "</style>\n",
       "<table border=\"1\" class=\"dataframe\">\n",
       "  <thead>\n",
       "    <tr style=\"text-align: right;\">\n",
       "      <th></th>\n",
       "      <th>tweet_id</th>\n",
       "      <th>jpg_url</th>\n",
       "      <th>img_num</th>\n",
       "      <th>p1</th>\n",
       "      <th>p1_conf</th>\n",
       "      <th>p1_dog</th>\n",
       "      <th>p2</th>\n",
       "      <th>p2_conf</th>\n",
       "      <th>p2_dog</th>\n",
       "      <th>p3</th>\n",
       "      <th>p3_conf</th>\n",
       "      <th>p3_dog</th>\n",
       "    </tr>\n",
       "  </thead>\n",
       "  <tbody>\n",
       "    <tr>\n",
       "      <th>588</th>\n",
       "      <td>679111216690831360</td>\n",
       "      <td>https://pbs.twimg.com/ext_tw_video_thumb/67911...</td>\n",
       "      <td>1</td>\n",
       "      <td>kelpie</td>\n",
       "      <td>0.189423</td>\n",
       "      <td>True</td>\n",
       "      <td>beagle</td>\n",
       "      <td>0.121988</td>\n",
       "      <td>True</td>\n",
       "      <td>basset</td>\n",
       "      <td>0.121171</td>\n",
       "      <td>True</td>\n",
       "    </tr>\n",
       "    <tr>\n",
       "      <th>862</th>\n",
       "      <td>697255105972801536</td>\n",
       "      <td>https://pbs.twimg.com/media/Ca0lzzmWwAA5u56.jpg</td>\n",
       "      <td>1</td>\n",
       "      <td>Great_Dane</td>\n",
       "      <td>0.173989</td>\n",
       "      <td>True</td>\n",
       "      <td>malinois</td>\n",
       "      <td>0.165888</td>\n",
       "      <td>True</td>\n",
       "      <td>Doberman</td>\n",
       "      <td>0.119890</td>\n",
       "      <td>True</td>\n",
       "    </tr>\n",
       "    <tr>\n",
       "      <th>1103</th>\n",
       "      <td>721503162398597120</td>\n",
       "      <td>https://pbs.twimg.com/media/CgNLS1PW8AAxWSN.jpg</td>\n",
       "      <td>3</td>\n",
       "      <td>Pomeranian</td>\n",
       "      <td>0.997750</td>\n",
       "      <td>True</td>\n",
       "      <td>Chihuahua</td>\n",
       "      <td>0.001248</td>\n",
       "      <td>True</td>\n",
       "      <td>Pekinese</td>\n",
       "      <td>0.000775</td>\n",
       "      <td>True</td>\n",
       "    </tr>\n",
       "    <tr>\n",
       "      <th>1322</th>\n",
       "      <td>756526248105566208</td>\n",
       "      <td>https://pbs.twimg.com/media/Cn-4m2CXYAErPGe.jpg</td>\n",
       "      <td>1</td>\n",
       "      <td>geyser</td>\n",
       "      <td>0.991273</td>\n",
       "      <td>False</td>\n",
       "      <td>volcano</td>\n",
       "      <td>0.004673</td>\n",
       "      <td>False</td>\n",
       "      <td>fountain</td>\n",
       "      <td>0.001234</td>\n",
       "      <td>False</td>\n",
       "    </tr>\n",
       "    <tr>\n",
       "      <th>85</th>\n",
       "      <td>667509364010450944</td>\n",
       "      <td>https://pbs.twimg.com/media/CUN4Or5UAAAa5K4.jpg</td>\n",
       "      <td>1</td>\n",
       "      <td>beagle</td>\n",
       "      <td>0.636169</td>\n",
       "      <td>True</td>\n",
       "      <td>Labrador_retriever</td>\n",
       "      <td>0.119256</td>\n",
       "      <td>True</td>\n",
       "      <td>golden_retriever</td>\n",
       "      <td>0.082549</td>\n",
       "      <td>True</td>\n",
       "    </tr>\n",
       "    <tr>\n",
       "      <th>560</th>\n",
       "      <td>677716515794329600</td>\n",
       "      <td>https://pbs.twimg.com/media/CWe7kw9W4AE8UJh.jpg</td>\n",
       "      <td>1</td>\n",
       "      <td>teddy</td>\n",
       "      <td>0.662908</td>\n",
       "      <td>False</td>\n",
       "      <td>crib</td>\n",
       "      <td>0.031891</td>\n",
       "      <td>False</td>\n",
       "      <td>chow</td>\n",
       "      <td>0.025438</td>\n",
       "      <td>True</td>\n",
       "    </tr>\n",
       "    <tr>\n",
       "      <th>696</th>\n",
       "      <td>684481074559381504</td>\n",
       "      <td>https://pbs.twimg.com/media/CX_D6AJWwAAnBIw.jpg</td>\n",
       "      <td>1</td>\n",
       "      <td>Chihuahua</td>\n",
       "      <td>0.937810</td>\n",
       "      <td>True</td>\n",
       "      <td>Pomeranian</td>\n",
       "      <td>0.020307</td>\n",
       "      <td>True</td>\n",
       "      <td>polecat</td>\n",
       "      <td>0.017357</td>\n",
       "      <td>False</td>\n",
       "    </tr>\n",
       "    <tr>\n",
       "      <th>1683</th>\n",
       "      <td>813944609378369540</td>\n",
       "      <td>https://pbs.twimg.com/media/Cveg1-NXgAASaaT.jpg</td>\n",
       "      <td>1</td>\n",
       "      <td>Labrador_retriever</td>\n",
       "      <td>0.427742</td>\n",
       "      <td>True</td>\n",
       "      <td>Great_Dane</td>\n",
       "      <td>0.190503</td>\n",
       "      <td>True</td>\n",
       "      <td>curly-coated_retriever</td>\n",
       "      <td>0.146427</td>\n",
       "      <td>True</td>\n",
       "    </tr>\n",
       "    <tr>\n",
       "      <th>1924</th>\n",
       "      <td>857263160327368704</td>\n",
       "      <td>https://pbs.twimg.com/media/C-WcS4MXoAADrBU.jpg</td>\n",
       "      <td>1</td>\n",
       "      <td>Samoyed</td>\n",
       "      <td>0.998021</td>\n",
       "      <td>True</td>\n",
       "      <td>Pomeranian</td>\n",
       "      <td>0.000922</td>\n",
       "      <td>True</td>\n",
       "      <td>keeshond</td>\n",
       "      <td>0.000311</td>\n",
       "      <td>True</td>\n",
       "    </tr>\n",
       "    <tr>\n",
       "      <th>166</th>\n",
       "      <td>668981893510119424</td>\n",
       "      <td>https://pbs.twimg.com/media/CUize-0WEAAerAK.jpg</td>\n",
       "      <td>1</td>\n",
       "      <td>jellyfish</td>\n",
       "      <td>0.447246</td>\n",
       "      <td>False</td>\n",
       "      <td>coral_reef</td>\n",
       "      <td>0.238625</td>\n",
       "      <td>False</td>\n",
       "      <td>goldfish</td>\n",
       "      <td>0.040227</td>\n",
       "      <td>False</td>\n",
       "    </tr>\n",
       "  </tbody>\n",
       "</table>\n",
       "</div>"
      ],
      "text/plain": [
       "                tweet_id                                            jpg_url  \\\n",
       "588   679111216690831360  https://pbs.twimg.com/ext_tw_video_thumb/67911...   \n",
       "862   697255105972801536    https://pbs.twimg.com/media/Ca0lzzmWwAA5u56.jpg   \n",
       "1103  721503162398597120    https://pbs.twimg.com/media/CgNLS1PW8AAxWSN.jpg   \n",
       "1322  756526248105566208    https://pbs.twimg.com/media/Cn-4m2CXYAErPGe.jpg   \n",
       "85    667509364010450944    https://pbs.twimg.com/media/CUN4Or5UAAAa5K4.jpg   \n",
       "560   677716515794329600    https://pbs.twimg.com/media/CWe7kw9W4AE8UJh.jpg   \n",
       "696   684481074559381504    https://pbs.twimg.com/media/CX_D6AJWwAAnBIw.jpg   \n",
       "1683  813944609378369540    https://pbs.twimg.com/media/Cveg1-NXgAASaaT.jpg   \n",
       "1924  857263160327368704    https://pbs.twimg.com/media/C-WcS4MXoAADrBU.jpg   \n",
       "166   668981893510119424    https://pbs.twimg.com/media/CUize-0WEAAerAK.jpg   \n",
       "\n",
       "      img_num                  p1   p1_conf  p1_dog                  p2  \\\n",
       "588         1              kelpie  0.189423    True              beagle   \n",
       "862         1          Great_Dane  0.173989    True            malinois   \n",
       "1103        3          Pomeranian  0.997750    True           Chihuahua   \n",
       "1322        1              geyser  0.991273   False             volcano   \n",
       "85          1              beagle  0.636169    True  Labrador_retriever   \n",
       "560         1               teddy  0.662908   False                crib   \n",
       "696         1           Chihuahua  0.937810    True          Pomeranian   \n",
       "1683        1  Labrador_retriever  0.427742    True          Great_Dane   \n",
       "1924        1             Samoyed  0.998021    True          Pomeranian   \n",
       "166         1           jellyfish  0.447246   False          coral_reef   \n",
       "\n",
       "       p2_conf  p2_dog                      p3   p3_conf  p3_dog  \n",
       "588   0.121988    True                  basset  0.121171    True  \n",
       "862   0.165888    True                Doberman  0.119890    True  \n",
       "1103  0.001248    True                Pekinese  0.000775    True  \n",
       "1322  0.004673   False                fountain  0.001234   False  \n",
       "85    0.119256    True        golden_retriever  0.082549    True  \n",
       "560   0.031891   False                    chow  0.025438    True  \n",
       "696   0.020307    True                 polecat  0.017357   False  \n",
       "1683  0.190503    True  curly-coated_retriever  0.146427    True  \n",
       "1924  0.000922    True                keeshond  0.000311    True  \n",
       "166   0.238625   False                goldfish  0.040227   False  "
      ]
     },
     "execution_count": 224,
     "metadata": {},
     "output_type": "execute_result"
    }
   ],
   "source": [
    "df_predictions.sample(10)"
   ]
  },
  {
   "cell_type": "code",
   "execution_count": 225,
   "metadata": {},
   "outputs": [
    {
     "data": {
      "text/plain": [
       "0"
      ]
     },
     "execution_count": 225,
     "metadata": {},
     "output_type": "execute_result"
    }
   ],
   "source": [
    "sum(df_predictions.duplicated())"
   ]
  },
  {
   "cell_type": "markdown",
   "metadata": {},
   "source": [
    "#### NOTES:\n",
    ">`df_predictions` has no issues on missing data or duplicated values."
   ]
  },
  {
   "cell_type": "markdown",
   "metadata": {},
   "source": [
    "**Assess** `p1_dog`, `p2_dog`, and `p3_dog`"
   ]
  },
  {
   "cell_type": "code",
   "execution_count": 227,
   "metadata": {
    "scrolled": false
   },
   "outputs": [
    {
     "name": "stdout",
     "output_type": "stream",
     "text": [
      "p1_dog\n",
      "True     1532\n",
      "False     543\n",
      "Name: p1_dog, dtype: int64\n",
      "\n",
      "\n",
      "p2_dog\n",
      "True     1553\n",
      "False     522\n",
      "Name: p2_dog, dtype: int64\n",
      "\n",
      "\n",
      "p3_dog\n",
      "True     1499\n",
      "False     576\n",
      "Name: p3_dog, dtype: int64\n",
      "\n",
      "\n"
     ]
    }
   ],
   "source": [
    "cols = ['p1_dog', 'p2_dog', 'p3_dog']\n",
    "for c in cols:\n",
    "    print(c)\n",
    "    print(df_predictions[c].value_counts())\n",
    "    print('\\n')"
   ]
  },
  {
   "cell_type": "code",
   "execution_count": 239,
   "metadata": {},
   "outputs": [
    {
     "data": {
      "text/html": [
       "<div>\n",
       "<style scoped>\n",
       "    .dataframe tbody tr th:only-of-type {\n",
       "        vertical-align: middle;\n",
       "    }\n",
       "\n",
       "    .dataframe tbody tr th {\n",
       "        vertical-align: top;\n",
       "    }\n",
       "\n",
       "    .dataframe thead th {\n",
       "        text-align: right;\n",
       "    }\n",
       "</style>\n",
       "<table border=\"1\" class=\"dataframe\">\n",
       "  <thead>\n",
       "    <tr style=\"text-align: right;\">\n",
       "      <th></th>\n",
       "      <th>tweet_id</th>\n",
       "      <th>p1</th>\n",
       "      <th>p1_dog</th>\n",
       "      <th>p2</th>\n",
       "      <th>p2_dog</th>\n",
       "      <th>p3</th>\n",
       "      <th>p3_dog</th>\n",
       "    </tr>\n",
       "  </thead>\n",
       "  <tbody>\n",
       "    <tr>\n",
       "      <th>6</th>\n",
       "      <td>666051853826850816</td>\n",
       "      <td>box_turtle</td>\n",
       "      <td>False</td>\n",
       "      <td>mud_turtle</td>\n",
       "      <td>False</td>\n",
       "      <td>terrapin</td>\n",
       "      <td>False</td>\n",
       "    </tr>\n",
       "    <tr>\n",
       "      <th>17</th>\n",
       "      <td>666104133288665088</td>\n",
       "      <td>hen</td>\n",
       "      <td>False</td>\n",
       "      <td>cock</td>\n",
       "      <td>False</td>\n",
       "      <td>partridge</td>\n",
       "      <td>False</td>\n",
       "    </tr>\n",
       "    <tr>\n",
       "      <th>18</th>\n",
       "      <td>666268910803644416</td>\n",
       "      <td>desktop_computer</td>\n",
       "      <td>False</td>\n",
       "      <td>desk</td>\n",
       "      <td>False</td>\n",
       "      <td>bookcase</td>\n",
       "      <td>False</td>\n",
       "    </tr>\n",
       "    <tr>\n",
       "      <th>21</th>\n",
       "      <td>666293911632134144</td>\n",
       "      <td>three-toed_sloth</td>\n",
       "      <td>False</td>\n",
       "      <td>otter</td>\n",
       "      <td>False</td>\n",
       "      <td>great_grey_owl</td>\n",
       "      <td>False</td>\n",
       "    </tr>\n",
       "    <tr>\n",
       "      <th>25</th>\n",
       "      <td>666362758909284353</td>\n",
       "      <td>guinea_pig</td>\n",
       "      <td>False</td>\n",
       "      <td>skunk</td>\n",
       "      <td>False</td>\n",
       "      <td>hamster</td>\n",
       "      <td>False</td>\n",
       "    </tr>\n",
       "    <tr>\n",
       "      <th>29</th>\n",
       "      <td>666411507551481857</td>\n",
       "      <td>coho</td>\n",
       "      <td>False</td>\n",
       "      <td>barracouta</td>\n",
       "      <td>False</td>\n",
       "      <td>gar</td>\n",
       "      <td>False</td>\n",
       "    </tr>\n",
       "    <tr>\n",
       "      <th>45</th>\n",
       "      <td>666786068205871104</td>\n",
       "      <td>snail</td>\n",
       "      <td>False</td>\n",
       "      <td>slug</td>\n",
       "      <td>False</td>\n",
       "      <td>acorn</td>\n",
       "      <td>False</td>\n",
       "    </tr>\n",
       "    <tr>\n",
       "      <th>50</th>\n",
       "      <td>666837028449972224</td>\n",
       "      <td>triceratops</td>\n",
       "      <td>False</td>\n",
       "      <td>armadillo</td>\n",
       "      <td>False</td>\n",
       "      <td>common_iguana</td>\n",
       "      <td>False</td>\n",
       "    </tr>\n",
       "    <tr>\n",
       "      <th>51</th>\n",
       "      <td>666983947667116034</td>\n",
       "      <td>swab</td>\n",
       "      <td>False</td>\n",
       "      <td>chain_saw</td>\n",
       "      <td>False</td>\n",
       "      <td>wig</td>\n",
       "      <td>False</td>\n",
       "    </tr>\n",
       "    <tr>\n",
       "      <th>53</th>\n",
       "      <td>667012601033924608</td>\n",
       "      <td>hyena</td>\n",
       "      <td>False</td>\n",
       "      <td>African_hunting_dog</td>\n",
       "      <td>False</td>\n",
       "      <td>coyote</td>\n",
       "      <td>False</td>\n",
       "    </tr>\n",
       "    <tr>\n",
       "      <th>56</th>\n",
       "      <td>667065535570550784</td>\n",
       "      <td>jigsaw_puzzle</td>\n",
       "      <td>False</td>\n",
       "      <td>doormat</td>\n",
       "      <td>False</td>\n",
       "      <td>space_heater</td>\n",
       "      <td>False</td>\n",
       "    </tr>\n",
       "    <tr>\n",
       "      <th>69</th>\n",
       "      <td>667188689915760640</td>\n",
       "      <td>vacuum</td>\n",
       "      <td>False</td>\n",
       "      <td>swab</td>\n",
       "      <td>False</td>\n",
       "      <td>toilet_tissue</td>\n",
       "      <td>False</td>\n",
       "    </tr>\n",
       "    <tr>\n",
       "      <th>73</th>\n",
       "      <td>667369227918143488</td>\n",
       "      <td>teddy</td>\n",
       "      <td>False</td>\n",
       "      <td>bath_towel</td>\n",
       "      <td>False</td>\n",
       "      <td>Christmas_stocking</td>\n",
       "      <td>False</td>\n",
       "    </tr>\n",
       "    <tr>\n",
       "      <th>77</th>\n",
       "      <td>667437278097252352</td>\n",
       "      <td>porcupine</td>\n",
       "      <td>False</td>\n",
       "      <td>bath_towel</td>\n",
       "      <td>False</td>\n",
       "      <td>badger</td>\n",
       "      <td>False</td>\n",
       "    </tr>\n",
       "    <tr>\n",
       "      <th>78</th>\n",
       "      <td>667443425659232256</td>\n",
       "      <td>goose</td>\n",
       "      <td>False</td>\n",
       "      <td>drake</td>\n",
       "      <td>False</td>\n",
       "      <td>hen</td>\n",
       "      <td>False</td>\n",
       "    </tr>\n",
       "    <tr>\n",
       "      <th>93</th>\n",
       "      <td>667549055577362432</td>\n",
       "      <td>electric_fan</td>\n",
       "      <td>False</td>\n",
       "      <td>spotlight</td>\n",
       "      <td>False</td>\n",
       "      <td>lampshade</td>\n",
       "      <td>False</td>\n",
       "    </tr>\n",
       "    <tr>\n",
       "      <th>94</th>\n",
       "      <td>667550882905632768</td>\n",
       "      <td>web_site</td>\n",
       "      <td>False</td>\n",
       "      <td>dishwasher</td>\n",
       "      <td>False</td>\n",
       "      <td>oscilloscope</td>\n",
       "      <td>False</td>\n",
       "    </tr>\n",
       "    <tr>\n",
       "      <th>96</th>\n",
       "      <td>667724302356258817</td>\n",
       "      <td>ibex</td>\n",
       "      <td>False</td>\n",
       "      <td>bighorn</td>\n",
       "      <td>False</td>\n",
       "      <td>ram</td>\n",
       "      <td>False</td>\n",
       "    </tr>\n",
       "    <tr>\n",
       "      <th>98</th>\n",
       "      <td>667766675769573376</td>\n",
       "      <td>fire_engine</td>\n",
       "      <td>False</td>\n",
       "      <td>tow_truck</td>\n",
       "      <td>False</td>\n",
       "      <td>jeep</td>\n",
       "      <td>False</td>\n",
       "    </tr>\n",
       "    <tr>\n",
       "      <th>100</th>\n",
       "      <td>667782464991965184</td>\n",
       "      <td>lorikeet</td>\n",
       "      <td>False</td>\n",
       "      <td>hummingbird</td>\n",
       "      <td>False</td>\n",
       "      <td>African_grey</td>\n",
       "      <td>False</td>\n",
       "    </tr>\n",
       "  </tbody>\n",
       "</table>\n",
       "</div>"
      ],
      "text/plain": [
       "               tweet_id                p1  p1_dog                   p2  \\\n",
       "6    666051853826850816        box_turtle   False           mud_turtle   \n",
       "17   666104133288665088               hen   False                 cock   \n",
       "18   666268910803644416  desktop_computer   False                 desk   \n",
       "21   666293911632134144  three-toed_sloth   False                otter   \n",
       "25   666362758909284353        guinea_pig   False                skunk   \n",
       "29   666411507551481857              coho   False           barracouta   \n",
       "45   666786068205871104             snail   False                 slug   \n",
       "50   666837028449972224       triceratops   False            armadillo   \n",
       "51   666983947667116034              swab   False            chain_saw   \n",
       "53   667012601033924608             hyena   False  African_hunting_dog   \n",
       "56   667065535570550784     jigsaw_puzzle   False              doormat   \n",
       "69   667188689915760640            vacuum   False                 swab   \n",
       "73   667369227918143488             teddy   False           bath_towel   \n",
       "77   667437278097252352         porcupine   False           bath_towel   \n",
       "78   667443425659232256             goose   False                drake   \n",
       "93   667549055577362432      electric_fan   False            spotlight   \n",
       "94   667550882905632768          web_site   False           dishwasher   \n",
       "96   667724302356258817              ibex   False              bighorn   \n",
       "98   667766675769573376       fire_engine   False            tow_truck   \n",
       "100  667782464991965184          lorikeet   False          hummingbird   \n",
       "\n",
       "     p2_dog                  p3  p3_dog  \n",
       "6     False            terrapin   False  \n",
       "17    False           partridge   False  \n",
       "18    False            bookcase   False  \n",
       "21    False      great_grey_owl   False  \n",
       "25    False             hamster   False  \n",
       "29    False                 gar   False  \n",
       "45    False               acorn   False  \n",
       "50    False       common_iguana   False  \n",
       "51    False                 wig   False  \n",
       "53    False              coyote   False  \n",
       "56    False        space_heater   False  \n",
       "69    False       toilet_tissue   False  \n",
       "73    False  Christmas_stocking   False  \n",
       "77    False              badger   False  \n",
       "78    False                 hen   False  \n",
       "93    False           lampshade   False  \n",
       "94    False        oscilloscope   False  \n",
       "96    False                 ram   False  \n",
       "98    False                jeep   False  \n",
       "100   False        African_grey   False  "
      ]
     },
     "execution_count": 239,
     "metadata": {},
     "output_type": "execute_result"
    }
   ],
   "source": [
    "# Check out 20 of the entries that don't predict dogs\n",
    "mask = ((~df_predictions.p1_dog) & \\\n",
    "        (~df_predictions.p2_dog) & \\\n",
    "        (~df_predictions.p3_dog))\n",
    "\n",
    "df_predictions.loc[mask, ['tweet_id', \n",
    "                   'p1', 'p1_dog', \n",
    "                   'p2', 'p2_dog', \n",
    "                   'p3', 'p3_dog']].head(20)"
   ]
  },
  {
   "cell_type": "code",
   "execution_count": 240,
   "metadata": {},
   "outputs": [
    {
     "data": {
      "text/plain": [
       "324"
      ]
     },
     "execution_count": 240,
     "metadata": {},
     "output_type": "execute_result"
    }
   ],
   "source": [
    "sum(mask)"
   ]
  },
  {
   "cell_type": "markdown",
   "metadata": {},
   "source": [
    "#### NOTES:\n",
    ">In each of the prediction columns there are over 500 instances where the algorithm did not predict a dog breed from the image. When combined, there are 324 cases where there is NO valid dog breed from any of the three predictions.\n",
    ">\n",
    ">The best prediction for dog breed could be combined with the twitter archive table; this is essentially another variable pertaining to the dog on which the archive is based."
   ]
  },
  {
   "cell_type": "markdown",
   "metadata": {},
   "source": [
    "### Dataset 3: `df_json_data`"
   ]
  },
  {
   "cell_type": "code",
   "execution_count": 241,
   "metadata": {
    "scrolled": true
   },
   "outputs": [
    {
     "name": "stdout",
     "output_type": "stream",
     "text": [
      "<class 'pandas.core.frame.DataFrame'>\n",
      "RangeIndex: 2329 entries, 0 to 2328\n",
      "Data columns (total 3 columns):\n",
      " #   Column          Non-Null Count  Dtype\n",
      "---  ------          --------------  -----\n",
      " 0   tweet_id        2329 non-null   int64\n",
      " 1   retweet_count   2329 non-null   int64\n",
      " 2   favorite_count  2329 non-null   int64\n",
      "dtypes: int64(3)\n",
      "memory usage: 54.7 KB\n"
     ]
    }
   ],
   "source": [
    "df_json_data.info()"
   ]
  },
  {
   "cell_type": "code",
   "execution_count": 242,
   "metadata": {
    "scrolled": false
   },
   "outputs": [
    {
     "data": {
      "text/html": [
       "<div>\n",
       "<style scoped>\n",
       "    .dataframe tbody tr th:only-of-type {\n",
       "        vertical-align: middle;\n",
       "    }\n",
       "\n",
       "    .dataframe tbody tr th {\n",
       "        vertical-align: top;\n",
       "    }\n",
       "\n",
       "    .dataframe thead th {\n",
       "        text-align: right;\n",
       "    }\n",
       "</style>\n",
       "<table border=\"1\" class=\"dataframe\">\n",
       "  <thead>\n",
       "    <tr style=\"text-align: right;\">\n",
       "      <th></th>\n",
       "      <th>tweet_id</th>\n",
       "      <th>retweet_count</th>\n",
       "      <th>favorite_count</th>\n",
       "    </tr>\n",
       "  </thead>\n",
       "  <tbody>\n",
       "    <tr>\n",
       "      <th>1973</th>\n",
       "      <td>672488522314567680</td>\n",
       "      <td>417</td>\n",
       "      <td>1071</td>\n",
       "    </tr>\n",
       "    <tr>\n",
       "      <th>606</th>\n",
       "      <td>795464331001561088</td>\n",
       "      <td>24300</td>\n",
       "      <td>50804</td>\n",
       "    </tr>\n",
       "    <tr>\n",
       "      <th>520</th>\n",
       "      <td>806629075125202948</td>\n",
       "      <td>35583</td>\n",
       "      <td>76435</td>\n",
       "    </tr>\n",
       "    <tr>\n",
       "      <th>1624</th>\n",
       "      <td>683742671509258241</td>\n",
       "      <td>3301</td>\n",
       "      <td>6467</td>\n",
       "    </tr>\n",
       "    <tr>\n",
       "      <th>2067</th>\n",
       "      <td>670778058496974848</td>\n",
       "      <td>71</td>\n",
       "      <td>319</td>\n",
       "    </tr>\n",
       "    <tr>\n",
       "      <th>632</th>\n",
       "      <td>792883833364439040</td>\n",
       "      <td>4379</td>\n",
       "      <td>11568</td>\n",
       "    </tr>\n",
       "    <tr>\n",
       "      <th>1953</th>\n",
       "      <td>672975131468300288</td>\n",
       "      <td>870</td>\n",
       "      <td>1622</td>\n",
       "    </tr>\n",
       "    <tr>\n",
       "      <th>1127</th>\n",
       "      <td>725786712245440512</td>\n",
       "      <td>1361</td>\n",
       "      <td>4151</td>\n",
       "    </tr>\n",
       "    <tr>\n",
       "      <th>1111</th>\n",
       "      <td>728387165835677696</td>\n",
       "      <td>956</td>\n",
       "      <td>3681</td>\n",
       "    </tr>\n",
       "    <tr>\n",
       "      <th>1649</th>\n",
       "      <td>682259524040966145</td>\n",
       "      <td>1204</td>\n",
       "      <td>4141</td>\n",
       "    </tr>\n",
       "  </tbody>\n",
       "</table>\n",
       "</div>"
      ],
      "text/plain": [
       "                tweet_id  retweet_count  favorite_count\n",
       "1973  672488522314567680            417            1071\n",
       "606   795464331001561088          24300           50804\n",
       "520   806629075125202948          35583           76435\n",
       "1624  683742671509258241           3301            6467\n",
       "2067  670778058496974848             71             319\n",
       "632   792883833364439040           4379           11568\n",
       "1953  672975131468300288            870            1622\n",
       "1127  725786712245440512           1361            4151\n",
       "1111  728387165835677696            956            3681\n",
       "1649  682259524040966145           1204            4141"
      ]
     },
     "execution_count": 242,
     "metadata": {},
     "output_type": "execute_result"
    }
   ],
   "source": [
    "df_json_data.sample(10)"
   ]
  },
  {
   "cell_type": "code",
   "execution_count": 246,
   "metadata": {},
   "outputs": [
    {
     "data": {
      "text/html": [
       "<div>\n",
       "<style scoped>\n",
       "    .dataframe tbody tr th:only-of-type {\n",
       "        vertical-align: middle;\n",
       "    }\n",
       "\n",
       "    .dataframe tbody tr th {\n",
       "        vertical-align: top;\n",
       "    }\n",
       "\n",
       "    .dataframe thead th {\n",
       "        text-align: right;\n",
       "    }\n",
       "</style>\n",
       "<table border=\"1\" class=\"dataframe\">\n",
       "  <thead>\n",
       "    <tr style=\"text-align: right;\">\n",
       "      <th></th>\n",
       "      <th>tweet_id</th>\n",
       "      <th>retweet_count</th>\n",
       "      <th>favorite_count</th>\n",
       "    </tr>\n",
       "  </thead>\n",
       "  <tbody>\n",
       "    <tr>\n",
       "      <th>count</th>\n",
       "      <td>2.329000e+03</td>\n",
       "      <td>2329.000000</td>\n",
       "      <td>2329.000000</td>\n",
       "    </tr>\n",
       "    <tr>\n",
       "      <th>mean</th>\n",
       "      <td>7.419285e+17</td>\n",
       "      <td>2712.544869</td>\n",
       "      <td>7580.943323</td>\n",
       "    </tr>\n",
       "    <tr>\n",
       "      <th>std</th>\n",
       "      <td>6.824683e+16</td>\n",
       "      <td>4586.992877</td>\n",
       "      <td>11763.805338</td>\n",
       "    </tr>\n",
       "    <tr>\n",
       "      <th>min</th>\n",
       "      <td>6.660209e+17</td>\n",
       "      <td>1.000000</td>\n",
       "      <td>0.000000</td>\n",
       "    </tr>\n",
       "    <tr>\n",
       "      <th>25%</th>\n",
       "      <td>6.782786e+17</td>\n",
       "      <td>548.000000</td>\n",
       "      <td>1321.000000</td>\n",
       "    </tr>\n",
       "    <tr>\n",
       "      <th>50%</th>\n",
       "      <td>7.182469e+17</td>\n",
       "      <td>1272.000000</td>\n",
       "      <td>3297.000000</td>\n",
       "    </tr>\n",
       "    <tr>\n",
       "      <th>75%</th>\n",
       "      <td>7.986731e+17</td>\n",
       "      <td>3155.000000</td>\n",
       "      <td>9287.000000</td>\n",
       "    </tr>\n",
       "    <tr>\n",
       "      <th>max</th>\n",
       "      <td>8.924206e+17</td>\n",
       "      <td>78055.000000</td>\n",
       "      <td>156601.000000</td>\n",
       "    </tr>\n",
       "  </tbody>\n",
       "</table>\n",
       "</div>"
      ],
      "text/plain": [
       "           tweet_id  retweet_count  favorite_count\n",
       "count  2.329000e+03    2329.000000     2329.000000\n",
       "mean   7.419285e+17    2712.544869     7580.943323\n",
       "std    6.824683e+16    4586.992877    11763.805338\n",
       "min    6.660209e+17       1.000000        0.000000\n",
       "25%    6.782786e+17     548.000000     1321.000000\n",
       "50%    7.182469e+17    1272.000000     3297.000000\n",
       "75%    7.986731e+17    3155.000000     9287.000000\n",
       "max    8.924206e+17   78055.000000   156601.000000"
      ]
     },
     "execution_count": 246,
     "metadata": {},
     "output_type": "execute_result"
    }
   ],
   "source": [
    "df_json_data.describe()"
   ]
  },
  {
   "cell_type": "code",
   "execution_count": 244,
   "metadata": {},
   "outputs": [
    {
     "data": {
      "text/plain": [
       "0"
      ]
     },
     "execution_count": 244,
     "metadata": {},
     "output_type": "execute_result"
    }
   ],
   "source": [
    "sum(df_json_data.duplicated())"
   ]
  },
  {
   "cell_type": "markdown",
   "metadata": {},
   "source": [
    "#### NOTES:\n",
    "> **`df_json_data`** is pretty clean too except the `tweet_id` should be converted to string."
   ]
  },
  {
   "cell_type": "markdown",
   "metadata": {},
   "source": [
    "## Assessment Summary"
   ]
  },
  {
   "cell_type": "markdown",
   "metadata": {},
   "source": [
    "### `df_archive`\n",
    "#### Quality\n",
    "<a href=\"#1.1\"><b>[ 1.1 ]</b></a>&emsp;There are 181 retweets (`retweeted_status_id`, `retweeted_status_user_id`, `retweeted_status_timestamp`)\n",
    "\n",
    "<a href=\"#1.2\"><b>[ 1.2 ]</b></a>&emsp;There are 78 replies (`in_reply_to_status_id`, `in_reply_to_user_id`)\n",
    "\n",
    "<a href=\"#1.3\"><b>[ 1.3 ]</b></a>&emsp;There are 2297 tweets with `expanded_urls` (links to images) indicating 59 tweets with missing data \n",
    "- 56 of these tweets are replies or retweets.\n",
    "- The remaining 3 tweets are NOT in the **`df_predictions`** table, and even though they ARE in the **`df_json_data`** table, there was NO image url extracted from the JSON data.\n",
    "\n",
    "<a href=\"#1.4\"><b>[ 1.4 ]</b></a>&emsp;The `timestamp` field in string format (object)\n",
    "\n",
    "<a href=\"#1.5\"><b>[ 1.5 ]</b></a>&emsp;Erroneous datatypes for `tweet_id`, `in_reply_to_status_id`, `in_reply_to_user_id`,  `retweeted_status_id`, and `retweeted_status_user_id` field.\n",
    "\n",
    "<a href=\"#1.6\"><b>[ 1.6 ]</b></a>&emsp;There are 109 tweets with regular words in the name column that are NOT a valid name.\n",
    "\n",
    "<a href=\"#1.7\"><b>[ 1.7 ]</b></a>&emsp;Ignoring the replies and retweets, there are 17 tweets with denominators that aren't 10.\n",
    "- Many of these which are multiples of 10 are about multiple dogs, and the text indicates this, like \"floofs\", \"puppers\", \"squad\" and \"pups\". I'll just drop the tweets for multiples.\n",
    "- And there are several rows which take the wrong values from the text as rating numerator and denominator. I will try to find the right rating value from text.\n",
    "\n",
    "<a href=\"#1.8\"><b>[ 1.8 ]</b></a>&emsp;Outliers found in `rating_numerator`. Set boundary of 15 for this field.\n",
    "\n",
    "<a href=\"#1.9\"><b>[ 1.9 ]</b></a>&emsp;There are only 4 types of sources, and they can be simplified by using the display string portion just before the final \"<\\a>\":\n",
    "- Twitter for iPhone\n",
    "- Vine - Make a Scene\n",
    "- Twitter Web Client\n",
    "- TweetDeck\n",
    "\n",
    "#### Tidiness\n",
    "<a href=\"#1.10\"><b>[ 1.10 ]</b></a>&emsp;The columns related to retweets are not applicable for original tweets. The Key Points indicates that we’re only interested in “original tweets”, no “retweets”; this data is stored in the columns `retweeted_status_id`, `retweeted_status_user_id`, `retweeted_status_timestamp`.\n",
    "\n",
    "<a href=\"#1.11\"><b>[ 1.11 ]</b></a>&emsp;The columns related to replies are not applicable for original tweets. Reply tweets are also not “original tweets” either; this data is stored in the `columns in_reply_to_status_id`, `in_reply_to_user_id`.\n",
    "\n",
    "<a href=\"#1.12\"><b>[ 1.12 ]</b></a>&emsp;There are 4 columns for dog stages (`doggo`, `floofer`, `pupper`, `puppo`).\n",
    "\n",
    "<a href=\"#1.13\"><b>[ 1.13 ]</b></a>&emsp;Columns with numerical data are located to the far right of the table, which makes it difficult to readily see the data that will be used for analyses."
   ]
  },
  {
   "cell_type": "markdown",
   "metadata": {},
   "source": [
    "### `df_predictions`\n",
    "#### Quality\n",
    "\n",
    "<a href=\"#2.1\"><b>[ 2.1 ]</b></a>&emsp;Erroneous datatypes for tweet_id.\n",
    "\n",
    "<a href=\"#2.2\"><b>[ 2.2 ]</b></a>&emsp;There are 2075 image predictions, 281 less than the number of tweets in the archive, so will be classified as \"missing data\".\n",
    "\n",
    "#### Tidiness\n",
    "<a href=\"#2.3\"><b>[ 2.3 ]</b></a>&emsp;The dog breed prediction with the highest confidence level can be combined with the `df_archive` table as the twitter table contains information that is all about the dog in the tweet."
   ]
  },
  {
   "cell_type": "markdown",
   "metadata": {},
   "source": [
    "### `df_json_data`\n",
    "#### Quality\n",
    "<a href=\"#3.1\"><b>[ 3.1 ]</b></a>&emsp;Erroneous datatypes for tweet_id. \n",
    "\n",
    "#### Tidiness\n",
    "<a href=\"#3.2\"><b>[ 3.2 ]</b></a>&emsp;This dataset should be combined with the `df_archive`. \n",
    "- <a href=\"3.2_additional\">Additional Cleaning</a> is required after table merged."
   ]
  },
  {
   "cell_type": "code",
   "execution_count": 236,
   "metadata": {
    "scrolled": false
   },
   "outputs": [
    {
     "data": {
      "text/html": [
       "<div>\n",
       "<style scoped>\n",
       "    .dataframe tbody tr th:only-of-type {\n",
       "        vertical-align: middle;\n",
       "    }\n",
       "\n",
       "    .dataframe tbody tr th {\n",
       "        vertical-align: top;\n",
       "    }\n",
       "\n",
       "    .dataframe thead th {\n",
       "        text-align: right;\n",
       "    }\n",
       "</style>\n",
       "<table border=\"1\" class=\"dataframe\">\n",
       "  <thead>\n",
       "    <tr style=\"text-align: right;\">\n",
       "      <th></th>\n",
       "      <th>tweet_id</th>\n",
       "      <th>jpg_url</th>\n",
       "      <th>img_num</th>\n",
       "      <th>p1</th>\n",
       "      <th>p1_conf</th>\n",
       "      <th>p1_dog</th>\n",
       "      <th>p2</th>\n",
       "      <th>p2_conf</th>\n",
       "      <th>p2_dog</th>\n",
       "      <th>p3</th>\n",
       "      <th>p3_conf</th>\n",
       "      <th>p3_dog</th>\n",
       "    </tr>\n",
       "  </thead>\n",
       "  <tbody>\n",
       "    <tr>\n",
       "      <th>0</th>\n",
       "      <td>666020888022790149</td>\n",
       "      <td>https://pbs.twimg.com/media/CT4udn0WwAA0aMy.jpg</td>\n",
       "      <td>1</td>\n",
       "      <td>Welsh_springer_spaniel</td>\n",
       "      <td>0.465074</td>\n",
       "      <td>True</td>\n",
       "      <td>collie</td>\n",
       "      <td>0.156665</td>\n",
       "      <td>True</td>\n",
       "      <td>Shetland_sheepdog</td>\n",
       "      <td>0.061428</td>\n",
       "      <td>True</td>\n",
       "    </tr>\n",
       "    <tr>\n",
       "      <th>1</th>\n",
       "      <td>666029285002620928</td>\n",
       "      <td>https://pbs.twimg.com/media/CT42GRgUYAA5iDo.jpg</td>\n",
       "      <td>1</td>\n",
       "      <td>redbone</td>\n",
       "      <td>0.506826</td>\n",
       "      <td>True</td>\n",
       "      <td>miniature_pinscher</td>\n",
       "      <td>0.074192</td>\n",
       "      <td>True</td>\n",
       "      <td>Rhodesian_ridgeback</td>\n",
       "      <td>0.072010</td>\n",
       "      <td>True</td>\n",
       "    </tr>\n",
       "    <tr>\n",
       "      <th>2</th>\n",
       "      <td>666033412701032449</td>\n",
       "      <td>https://pbs.twimg.com/media/CT4521TWwAEvMyu.jpg</td>\n",
       "      <td>1</td>\n",
       "      <td>German_shepherd</td>\n",
       "      <td>0.596461</td>\n",
       "      <td>True</td>\n",
       "      <td>malinois</td>\n",
       "      <td>0.138584</td>\n",
       "      <td>True</td>\n",
       "      <td>bloodhound</td>\n",
       "      <td>0.116197</td>\n",
       "      <td>True</td>\n",
       "    </tr>\n",
       "    <tr>\n",
       "      <th>3</th>\n",
       "      <td>666044226329800704</td>\n",
       "      <td>https://pbs.twimg.com/media/CT5Dr8HUEAA-lEu.jpg</td>\n",
       "      <td>1</td>\n",
       "      <td>Rhodesian_ridgeback</td>\n",
       "      <td>0.408143</td>\n",
       "      <td>True</td>\n",
       "      <td>redbone</td>\n",
       "      <td>0.360687</td>\n",
       "      <td>True</td>\n",
       "      <td>miniature_pinscher</td>\n",
       "      <td>0.222752</td>\n",
       "      <td>True</td>\n",
       "    </tr>\n",
       "    <tr>\n",
       "      <th>4</th>\n",
       "      <td>666049248165822465</td>\n",
       "      <td>https://pbs.twimg.com/media/CT5IQmsXIAAKY4A.jpg</td>\n",
       "      <td>1</td>\n",
       "      <td>miniature_pinscher</td>\n",
       "      <td>0.560311</td>\n",
       "      <td>True</td>\n",
       "      <td>Rottweiler</td>\n",
       "      <td>0.243682</td>\n",
       "      <td>True</td>\n",
       "      <td>Doberman</td>\n",
       "      <td>0.154629</td>\n",
       "      <td>True</td>\n",
       "    </tr>\n",
       "    <tr>\n",
       "      <th>...</th>\n",
       "      <td>...</td>\n",
       "      <td>...</td>\n",
       "      <td>...</td>\n",
       "      <td>...</td>\n",
       "      <td>...</td>\n",
       "      <td>...</td>\n",
       "      <td>...</td>\n",
       "      <td>...</td>\n",
       "      <td>...</td>\n",
       "      <td>...</td>\n",
       "      <td>...</td>\n",
       "      <td>...</td>\n",
       "    </tr>\n",
       "    <tr>\n",
       "      <th>2070</th>\n",
       "      <td>891327558926688256</td>\n",
       "      <td>https://pbs.twimg.com/media/DF6hr6BUMAAzZgT.jpg</td>\n",
       "      <td>2</td>\n",
       "      <td>basset</td>\n",
       "      <td>0.555712</td>\n",
       "      <td>True</td>\n",
       "      <td>English_springer</td>\n",
       "      <td>0.225770</td>\n",
       "      <td>True</td>\n",
       "      <td>German_short-haired_pointer</td>\n",
       "      <td>0.175219</td>\n",
       "      <td>True</td>\n",
       "    </tr>\n",
       "    <tr>\n",
       "      <th>2071</th>\n",
       "      <td>891689557279858688</td>\n",
       "      <td>https://pbs.twimg.com/media/DF_q7IAWsAEuuN8.jpg</td>\n",
       "      <td>1</td>\n",
       "      <td>paper_towel</td>\n",
       "      <td>0.170278</td>\n",
       "      <td>False</td>\n",
       "      <td>Labrador_retriever</td>\n",
       "      <td>0.168086</td>\n",
       "      <td>True</td>\n",
       "      <td>spatula</td>\n",
       "      <td>0.040836</td>\n",
       "      <td>False</td>\n",
       "    </tr>\n",
       "    <tr>\n",
       "      <th>2072</th>\n",
       "      <td>891815181378084864</td>\n",
       "      <td>https://pbs.twimg.com/media/DGBdLU1WsAANxJ9.jpg</td>\n",
       "      <td>1</td>\n",
       "      <td>Chihuahua</td>\n",
       "      <td>0.716012</td>\n",
       "      <td>True</td>\n",
       "      <td>malamute</td>\n",
       "      <td>0.078253</td>\n",
       "      <td>True</td>\n",
       "      <td>kelpie</td>\n",
       "      <td>0.031379</td>\n",
       "      <td>True</td>\n",
       "    </tr>\n",
       "    <tr>\n",
       "      <th>2073</th>\n",
       "      <td>892177421306343426</td>\n",
       "      <td>https://pbs.twimg.com/media/DGGmoV4XsAAUL6n.jpg</td>\n",
       "      <td>1</td>\n",
       "      <td>Chihuahua</td>\n",
       "      <td>0.323581</td>\n",
       "      <td>True</td>\n",
       "      <td>Pekinese</td>\n",
       "      <td>0.090647</td>\n",
       "      <td>True</td>\n",
       "      <td>papillon</td>\n",
       "      <td>0.068957</td>\n",
       "      <td>True</td>\n",
       "    </tr>\n",
       "    <tr>\n",
       "      <th>2074</th>\n",
       "      <td>892420643555336193</td>\n",
       "      <td>https://pbs.twimg.com/media/DGKD1-bXoAAIAUK.jpg</td>\n",
       "      <td>1</td>\n",
       "      <td>orange</td>\n",
       "      <td>0.097049</td>\n",
       "      <td>False</td>\n",
       "      <td>bagel</td>\n",
       "      <td>0.085851</td>\n",
       "      <td>False</td>\n",
       "      <td>banana</td>\n",
       "      <td>0.076110</td>\n",
       "      <td>False</td>\n",
       "    </tr>\n",
       "  </tbody>\n",
       "</table>\n",
       "<p>2075 rows × 12 columns</p>\n",
       "</div>"
      ],
      "text/plain": [
       "                tweet_id                                          jpg_url  \\\n",
       "0     666020888022790149  https://pbs.twimg.com/media/CT4udn0WwAA0aMy.jpg   \n",
       "1     666029285002620928  https://pbs.twimg.com/media/CT42GRgUYAA5iDo.jpg   \n",
       "2     666033412701032449  https://pbs.twimg.com/media/CT4521TWwAEvMyu.jpg   \n",
       "3     666044226329800704  https://pbs.twimg.com/media/CT5Dr8HUEAA-lEu.jpg   \n",
       "4     666049248165822465  https://pbs.twimg.com/media/CT5IQmsXIAAKY4A.jpg   \n",
       "...                  ...                                              ...   \n",
       "2070  891327558926688256  https://pbs.twimg.com/media/DF6hr6BUMAAzZgT.jpg   \n",
       "2071  891689557279858688  https://pbs.twimg.com/media/DF_q7IAWsAEuuN8.jpg   \n",
       "2072  891815181378084864  https://pbs.twimg.com/media/DGBdLU1WsAANxJ9.jpg   \n",
       "2073  892177421306343426  https://pbs.twimg.com/media/DGGmoV4XsAAUL6n.jpg   \n",
       "2074  892420643555336193  https://pbs.twimg.com/media/DGKD1-bXoAAIAUK.jpg   \n",
       "\n",
       "      img_num                      p1   p1_conf  p1_dog                  p2  \\\n",
       "0           1  Welsh_springer_spaniel  0.465074    True              collie   \n",
       "1           1                 redbone  0.506826    True  miniature_pinscher   \n",
       "2           1         German_shepherd  0.596461    True            malinois   \n",
       "3           1     Rhodesian_ridgeback  0.408143    True             redbone   \n",
       "4           1      miniature_pinscher  0.560311    True          Rottweiler   \n",
       "...       ...                     ...       ...     ...                 ...   \n",
       "2070        2                  basset  0.555712    True    English_springer   \n",
       "2071        1             paper_towel  0.170278   False  Labrador_retriever   \n",
       "2072        1               Chihuahua  0.716012    True            malamute   \n",
       "2073        1               Chihuahua  0.323581    True            Pekinese   \n",
       "2074        1                  orange  0.097049   False               bagel   \n",
       "\n",
       "       p2_conf  p2_dog                           p3   p3_conf  p3_dog  \n",
       "0     0.156665    True            Shetland_sheepdog  0.061428    True  \n",
       "1     0.074192    True          Rhodesian_ridgeback  0.072010    True  \n",
       "2     0.138584    True                   bloodhound  0.116197    True  \n",
       "3     0.360687    True           miniature_pinscher  0.222752    True  \n",
       "4     0.243682    True                     Doberman  0.154629    True  \n",
       "...        ...     ...                          ...       ...     ...  \n",
       "2070  0.225770    True  German_short-haired_pointer  0.175219    True  \n",
       "2071  0.168086    True                      spatula  0.040836   False  \n",
       "2072  0.078253    True                       kelpie  0.031379    True  \n",
       "2073  0.090647    True                     papillon  0.068957    True  \n",
       "2074  0.085851   False                       banana  0.076110   False  \n",
       "\n",
       "[2075 rows x 12 columns]"
      ]
     },
     "execution_count": 236,
     "metadata": {},
     "output_type": "execute_result"
    }
   ],
   "source": [
    "df_predictions"
   ]
  },
  {
   "cell_type": "markdown",
   "metadata": {},
   "source": [
    "<a id='clean'></a>\n",
    "## Clean Data"
   ]
  },
  {
   "cell_type": "code",
   "execution_count": 332,
   "metadata": {},
   "outputs": [],
   "source": [
    "# Create copies of the dataframes for cleaning\n",
    "df_archive_clean = df_archive.copy()\n",
    "df_predictions_clean = df_predictions.copy()\n",
    "df_json_data_clean = df_json_data.copy()"
   ]
  },
  {
   "cell_type": "code",
   "execution_count": 333,
   "metadata": {},
   "outputs": [
    {
     "data": {
      "text/plain": [
       "2356"
      ]
     },
     "execution_count": 333,
     "metadata": {},
     "output_type": "execute_result"
    }
   ],
   "source": [
    "len_archive = df_archive_clean.shape[0]; \n",
    "len_archive"
   ]
  },
  {
   "cell_type": "markdown",
   "metadata": {},
   "source": [
    "<a id='1.1'></a>\n",
    "### Problem 1.1 \n",
    "There are 181 retweets (`retweeted_status_id`, `retweeted_status_user_id`, `retweeted_status_timestamp`)"
   ]
  },
  {
   "cell_type": "markdown",
   "metadata": {},
   "source": [
    "#### Define\n",
    "Drop all rows containing retweets, where these columns will be non-null: `retweeted_status_id`, `retweeted_status_user_id`, `retweeted_status_timestamp`."
   ]
  },
  {
   "cell_type": "markdown",
   "metadata": {},
   "source": [
    "#### Code"
   ]
  },
  {
   "cell_type": "code",
   "execution_count": 334,
   "metadata": {
    "scrolled": true
   },
   "outputs": [
    {
     "name": "stdout",
     "output_type": "stream",
     "text": [
      "# of retweets:  181\n"
     ]
    }
   ],
   "source": [
    "print(\"# of retweets:  {}\".\n",
    "      format(sum(df_archive_clean['retweeted_status_id'].notnull())))"
   ]
  },
  {
   "cell_type": "code",
   "execution_count": 335,
   "metadata": {},
   "outputs": [],
   "source": [
    "# ~ = not\n",
    "df_archive_clean = df_archive_clean.loc[df_archive_clean['retweeted_status_id'].isna()]"
   ]
  },
  {
   "cell_type": "markdown",
   "metadata": {},
   "source": [
    "#### Test"
   ]
  },
  {
   "cell_type": "code",
   "execution_count": 336,
   "metadata": {},
   "outputs": [
    {
     "name": "stdout",
     "output_type": "stream",
     "text": [
      "# of rows dropped:  181\n"
     ]
    }
   ],
   "source": [
    "# Confirm the rows are dropped; compare with original table length\n",
    "print(\"# of rows dropped:  {}\".format(len_archive - df_archive_clean.shape[0]))\n",
    "\n",
    "# Reset the variable for length of the archive\n",
    "len_archive = df_archive_clean.shape[0]"
   ]
  },
  {
   "cell_type": "code",
   "execution_count": 337,
   "metadata": {
    "scrolled": false
   },
   "outputs": [
    {
     "name": "stdout",
     "output_type": "stream",
     "text": [
      "<class 'pandas.core.frame.DataFrame'>\n",
      "Int64Index: 2175 entries, 0 to 2355\n",
      "Data columns (total 17 columns):\n",
      " #   Column                      Non-Null Count  Dtype  \n",
      "---  ------                      --------------  -----  \n",
      " 0   tweet_id                    2175 non-null   int64  \n",
      " 1   in_reply_to_status_id       78 non-null     float64\n",
      " 2   in_reply_to_user_id         78 non-null     float64\n",
      " 3   timestamp                   2175 non-null   object \n",
      " 4   source                      2175 non-null   object \n",
      " 5   text                        2175 non-null   object \n",
      " 6   retweeted_status_id         0 non-null      float64\n",
      " 7   retweeted_status_user_id    0 non-null      float64\n",
      " 8   retweeted_status_timestamp  0 non-null      object \n",
      " 9   expanded_urls               2117 non-null   object \n",
      " 10  rating_numerator            2175 non-null   int64  \n",
      " 11  rating_denominator          2175 non-null   int64  \n",
      " 12  name                        2175 non-null   object \n",
      " 13  doggo                       2175 non-null   object \n",
      " 14  floofer                     2175 non-null   object \n",
      " 15  pupper                      2175 non-null   object \n",
      " 16  puppo                       2175 non-null   object \n",
      "dtypes: float64(4), int64(3), object(10)\n",
      "memory usage: 305.9+ KB\n"
     ]
    }
   ],
   "source": [
    "df_archive_clean.info()"
   ]
  },
  {
   "cell_type": "markdown",
   "metadata": {},
   "source": [
    "<a id='1.2'></a>\n",
    "### Problem 1.2 \n",
    "There are 78 replies (`in_reply_to_status_id`, `in_reply_to_user_id`)"
   ]
  },
  {
   "cell_type": "markdown",
   "metadata": {},
   "source": [
    "#### Define\n",
    "Drop all rows that are replies, those that have non-null values in these columns: `in_reply_to_status_id`, `in_reply_to_user_id`."
   ]
  },
  {
   "cell_type": "markdown",
   "metadata": {},
   "source": [
    "#### Code"
   ]
  },
  {
   "cell_type": "code",
   "execution_count": 338,
   "metadata": {
    "scrolled": false
   },
   "outputs": [
    {
     "name": "stdout",
     "output_type": "stream",
     "text": [
      "# of replies:  78\n"
     ]
    }
   ],
   "source": [
    "print(\"# of replies:  {}\".format(sum(df_archive_clean['in_reply_to_status_id'].notnull())))"
   ]
  },
  {
   "cell_type": "code",
   "execution_count": 339,
   "metadata": {},
   "outputs": [],
   "source": [
    "df_archive_clean = df_archive_clean.loc[df_archive_clean['in_reply_to_status_id'].isna()]"
   ]
  },
  {
   "cell_type": "markdown",
   "metadata": {},
   "source": [
    "#### Test"
   ]
  },
  {
   "cell_type": "code",
   "execution_count": 340,
   "metadata": {},
   "outputs": [
    {
     "name": "stdout",
     "output_type": "stream",
     "text": [
      "# of rows dropped:  78\n"
     ]
    }
   ],
   "source": [
    "# Confirm the rows are dropped; compare with original table length\n",
    "print(\"# of rows dropped:  {}\".\n",
    "      format(len_archive - df_archive_clean.shape[0]))\n",
    "\n",
    "# Reset the variable for length of the archive\n",
    "len_archive = df_archive_clean.shape[0]"
   ]
  },
  {
   "cell_type": "code",
   "execution_count": 341,
   "metadata": {
    "scrolled": false
   },
   "outputs": [
    {
     "name": "stdout",
     "output_type": "stream",
     "text": [
      "<class 'pandas.core.frame.DataFrame'>\n",
      "Int64Index: 2097 entries, 0 to 2355\n",
      "Data columns (total 17 columns):\n",
      " #   Column                      Non-Null Count  Dtype  \n",
      "---  ------                      --------------  -----  \n",
      " 0   tweet_id                    2097 non-null   int64  \n",
      " 1   in_reply_to_status_id       0 non-null      float64\n",
      " 2   in_reply_to_user_id         0 non-null      float64\n",
      " 3   timestamp                   2097 non-null   object \n",
      " 4   source                      2097 non-null   object \n",
      " 5   text                        2097 non-null   object \n",
      " 6   retweeted_status_id         0 non-null      float64\n",
      " 7   retweeted_status_user_id    0 non-null      float64\n",
      " 8   retweeted_status_timestamp  0 non-null      object \n",
      " 9   expanded_urls               2094 non-null   object \n",
      " 10  rating_numerator            2097 non-null   int64  \n",
      " 11  rating_denominator          2097 non-null   int64  \n",
      " 12  name                        2097 non-null   object \n",
      " 13  doggo                       2097 non-null   object \n",
      " 14  floofer                     2097 non-null   object \n",
      " 15  pupper                      2097 non-null   object \n",
      " 16  puppo                       2097 non-null   object \n",
      "dtypes: float64(4), int64(3), object(10)\n",
      "memory usage: 294.9+ KB\n"
     ]
    }
   ],
   "source": [
    "df_archive_clean.info()"
   ]
  },
  {
   "cell_type": "markdown",
   "metadata": {},
   "source": [
    "<a id='1.10'></a>\n",
    "### Problem 1.10\n",
    "The columns related to retweets are not applicable for original tweets."
   ]
  },
  {
   "cell_type": "markdown",
   "metadata": {},
   "source": [
    "#### Define\n",
    "Since we don't want retweets, we can drop all columns related to retweets: `retweeted_status_id`, `retweeted_status_user_id` and `retweeted_status_timestamp`."
   ]
  },
  {
   "cell_type": "markdown",
   "metadata": {},
   "source": [
    "#### Code"
   ]
  },
  {
   "cell_type": "code",
   "execution_count": 342,
   "metadata": {},
   "outputs": [],
   "source": [
    "# Drop columns\n",
    "df_archive_clean.drop(['retweeted_status_id',\n",
    "                       'retweeted_status_user_id',\n",
    "                       'retweeted_status_timestamp'], axis = 1, inplace = True)"
   ]
  },
  {
   "cell_type": "markdown",
   "metadata": {},
   "source": [
    "#### Test"
   ]
  },
  {
   "cell_type": "code",
   "execution_count": 343,
   "metadata": {
    "scrolled": true
   },
   "outputs": [
    {
     "data": {
      "text/plain": [
       "['tweet_id',\n",
       " 'in_reply_to_status_id',\n",
       " 'in_reply_to_user_id',\n",
       " 'timestamp',\n",
       " 'source',\n",
       " 'text',\n",
       " 'expanded_urls',\n",
       " 'rating_numerator',\n",
       " 'rating_denominator',\n",
       " 'name',\n",
       " 'doggo',\n",
       " 'floofer',\n",
       " 'pupper',\n",
       " 'puppo']"
      ]
     },
     "execution_count": 343,
     "metadata": {},
     "output_type": "execute_result"
    }
   ],
   "source": [
    "# Confirm all retweet related columns are gone\n",
    "list(df_archive_clean)"
   ]
  },
  {
   "cell_type": "markdown",
   "metadata": {},
   "source": [
    "<a id='1.11'></a>\n",
    "### Problem 1.11\n",
    "The columns related to replies are not applicable for original tweets."
   ]
  },
  {
   "cell_type": "markdown",
   "metadata": {},
   "source": [
    "#### Define\n",
    "Drop all columns related to replies:  `in_reply_to_status_id` and `in_reply_to_user_id`."
   ]
  },
  {
   "cell_type": "markdown",
   "metadata": {},
   "source": [
    "#### Code"
   ]
  },
  {
   "cell_type": "code",
   "execution_count": 344,
   "metadata": {},
   "outputs": [],
   "source": [
    "# Drop columns\n",
    "df_archive_clean.drop(['in_reply_to_status_id',\n",
    "                       'in_reply_to_user_id'], axis = 1, inplace = True)"
   ]
  },
  {
   "cell_type": "markdown",
   "metadata": {},
   "source": [
    "#### Test"
   ]
  },
  {
   "cell_type": "code",
   "execution_count": 345,
   "metadata": {
    "scrolled": true
   },
   "outputs": [
    {
     "data": {
      "text/plain": [
       "['tweet_id',\n",
       " 'timestamp',\n",
       " 'source',\n",
       " 'text',\n",
       " 'expanded_urls',\n",
       " 'rating_numerator',\n",
       " 'rating_denominator',\n",
       " 'name',\n",
       " 'doggo',\n",
       " 'floofer',\n",
       " 'pupper',\n",
       " 'puppo']"
      ]
     },
     "execution_count": 345,
     "metadata": {},
     "output_type": "execute_result"
    }
   ],
   "source": [
    "# Confirm all retweet related columns are gone\n",
    "list(df_archive_clean)"
   ]
  },
  {
   "cell_type": "markdown",
   "metadata": {},
   "source": [
    "<a id='1.3'></a>\n",
    "### Problem 1.3\n",
    "Tweets with missing data in `expanded_urls` (links to the tweet)."
   ]
  },
  {
   "cell_type": "markdown",
   "metadata": {},
   "source": [
    "#### Define\n",
    "Drop tweets with missing data in the `expanded_urls`."
   ]
  },
  {
   "cell_type": "markdown",
   "metadata": {},
   "source": [
    "#### Code"
   ]
  },
  {
   "cell_type": "code",
   "execution_count": 346,
   "metadata": {},
   "outputs": [],
   "source": [
    "# Drop rows\n",
    "df_archive_clean = df_archive_clean.loc[df_archive_clean['expanded_urls'].notnull()]"
   ]
  },
  {
   "cell_type": "markdown",
   "metadata": {},
   "source": [
    "#### Test"
   ]
  },
  {
   "cell_type": "code",
   "execution_count": 347,
   "metadata": {},
   "outputs": [
    {
     "name": "stdout",
     "output_type": "stream",
     "text": [
      "<class 'pandas.core.frame.DataFrame'>\n",
      "Int64Index: 2094 entries, 0 to 2355\n",
      "Data columns (total 12 columns):\n",
      " #   Column              Non-Null Count  Dtype \n",
      "---  ------              --------------  ----- \n",
      " 0   tweet_id            2094 non-null   int64 \n",
      " 1   timestamp           2094 non-null   object\n",
      " 2   source              2094 non-null   object\n",
      " 3   text                2094 non-null   object\n",
      " 4   expanded_urls       2094 non-null   object\n",
      " 5   rating_numerator    2094 non-null   int64 \n",
      " 6   rating_denominator  2094 non-null   int64 \n",
      " 7   name                2094 non-null   object\n",
      " 8   doggo               2094 non-null   object\n",
      " 9   floofer             2094 non-null   object\n",
      " 10  pupper              2094 non-null   object\n",
      " 11  puppo               2094 non-null   object\n",
      "dtypes: int64(3), object(9)\n",
      "memory usage: 212.7+ KB\n"
     ]
    }
   ],
   "source": [
    "# Confirm all retweet related columns are gone\n",
    "df_archive_clean.info()"
   ]
  },
  {
   "cell_type": "markdown",
   "metadata": {},
   "source": [
    "<a id='1.4'></a>\n",
    "### Problem 1.4\n",
    "The `timestamp` column is in string format, it's the wrong data type."
   ]
  },
  {
   "cell_type": "markdown",
   "metadata": {},
   "source": [
    "#### Define\n",
    "Convert  `timestamp` to datetime data type."
   ]
  },
  {
   "cell_type": "markdown",
   "metadata": {},
   "source": [
    "#### Code"
   ]
  },
  {
   "cell_type": "code",
   "execution_count": 348,
   "metadata": {},
   "outputs": [],
   "source": [
    "# Drop rows\n",
    "df_archive_clean['timestamp'] = pd.to_datetime(df_archive_clean['timestamp'])"
   ]
  },
  {
   "cell_type": "code",
   "execution_count": 357,
   "metadata": {},
   "outputs": [
    {
     "data": {
      "text/plain": [
       "0      2017-08-01 16:23:56+00:00\n",
       "1      2017-08-01 00:17:27+00:00\n",
       "2      2017-07-31 00:18:03+00:00\n",
       "3      2017-07-30 15:58:51+00:00\n",
       "4      2017-07-29 16:00:24+00:00\n",
       "                  ...           \n",
       "2351   2015-11-16 00:24:50+00:00\n",
       "2352   2015-11-16 00:04:52+00:00\n",
       "2353   2015-11-15 23:21:54+00:00\n",
       "2354   2015-11-15 23:05:30+00:00\n",
       "2355   2015-11-15 22:32:08+00:00\n",
       "Name: timestamp, Length: 2094, dtype: datetime64[ns, UTC]"
      ]
     },
     "execution_count": 357,
     "metadata": {},
     "output_type": "execute_result"
    }
   ],
   "source": [
    "# Perform floor operation on the data to the secondly freq.\n",
    "df_archive_clean.timestamp.dt.floor(freq = 'S')"
   ]
  },
  {
   "cell_type": "markdown",
   "metadata": {},
   "source": [
    "#### Test"
   ]
  },
  {
   "cell_type": "code",
   "execution_count": 358,
   "metadata": {
    "scrolled": true
   },
   "outputs": [
    {
     "name": "stdout",
     "output_type": "stream",
     "text": [
      "<class 'pandas.core.frame.DataFrame'>\n",
      "Int64Index: 2094 entries, 0 to 2355\n",
      "Data columns (total 12 columns):\n",
      " #   Column              Non-Null Count  Dtype              \n",
      "---  ------              --------------  -----              \n",
      " 0   tweet_id            2094 non-null   int64              \n",
      " 1   timestamp           2094 non-null   datetime64[ns, UTC]\n",
      " 2   source              2094 non-null   object             \n",
      " 3   text                2094 non-null   object             \n",
      " 4   expanded_urls       2094 non-null   object             \n",
      " 5   rating_numerator    2094 non-null   int64              \n",
      " 6   rating_denominator  2094 non-null   int64              \n",
      " 7   name                2094 non-null   object             \n",
      " 8   doggo               2094 non-null   object             \n",
      " 9   floofer             2094 non-null   object             \n",
      " 10  pupper              2094 non-null   object             \n",
      " 11  puppo               2094 non-null   object             \n",
      "dtypes: datetime64[ns, UTC](1), int64(3), object(8)\n",
      "memory usage: 212.7+ KB\n"
     ]
    }
   ],
   "source": [
    "# Confirm all replies related columns are gone\n",
    "df_archive_clean.info()"
   ]
  },
  {
   "cell_type": "markdown",
   "metadata": {},
   "source": [
    "<a id='1.5'></a>\n",
    "### Problem 1.5\n",
    "Erroneous datatypes for `tweet_id`."
   ]
  },
  {
   "cell_type": "markdown",
   "metadata": {},
   "source": [
    "#### Define\n",
    "Convert  `tweet_id` to string datatype (object)."
   ]
  },
  {
   "cell_type": "markdown",
   "metadata": {},
   "source": [
    "#### Code"
   ]
  },
  {
   "cell_type": "code",
   "execution_count": 370,
   "metadata": {
    "scrolled": true
   },
   "outputs": [
    {
     "data": {
      "text/plain": [
       "count    2.094000e+03\n",
       "mean     7.365113e+17\n",
       "std      6.710561e+16\n",
       "min      6.660209e+17\n",
       "25%      6.768137e+17\n",
       "50%      7.097095e+17\n",
       "75%      7.876377e+17\n",
       "max      8.924206e+17\n",
       "Name: tweet_id, dtype: float64"
      ]
     },
     "execution_count": 370,
     "metadata": {},
     "output_type": "execute_result"
    }
   ],
   "source": [
    "# Check how many characters\n",
    "df_archive_clean['tweet_id'].describe()"
   ]
  },
  {
   "cell_type": "markdown",
   "metadata": {},
   "source": [
    "There are 18 characters in tweet ID."
   ]
  },
  {
   "cell_type": "code",
   "execution_count": 371,
   "metadata": {},
   "outputs": [],
   "source": [
    "# Convert to str dtype and make sure it is 18 characters\n",
    "df_archive_clean['tweet_id'] = df_archive_clean['tweet_id'].astype(str).str.pad(width=18, side='left', fillchar='0')"
   ]
  },
  {
   "cell_type": "markdown",
   "metadata": {},
   "source": [
    "#### Test"
   ]
  },
  {
   "cell_type": "code",
   "execution_count": 372,
   "metadata": {
    "scrolled": false
   },
   "outputs": [
    {
     "name": "stdout",
     "output_type": "stream",
     "text": [
      "<class 'pandas.core.frame.DataFrame'>\n",
      "Int64Index: 2094 entries, 0 to 2355\n",
      "Data columns (total 12 columns):\n",
      " #   Column              Non-Null Count  Dtype              \n",
      "---  ------              --------------  -----              \n",
      " 0   tweet_id            2094 non-null   object             \n",
      " 1   timestamp           2094 non-null   datetime64[ns, UTC]\n",
      " 2   source              2094 non-null   object             \n",
      " 3   text                2094 non-null   object             \n",
      " 4   expanded_urls       2094 non-null   object             \n",
      " 5   rating_numerator    2094 non-null   int64              \n",
      " 6   rating_denominator  2094 non-null   int64              \n",
      " 7   name                2094 non-null   object             \n",
      " 8   doggo               2094 non-null   object             \n",
      " 9   floofer             2094 non-null   object             \n",
      " 10  pupper              2094 non-null   object             \n",
      " 11  puppo               2094 non-null   object             \n",
      "dtypes: datetime64[ns, UTC](1), int64(2), object(9)\n",
      "memory usage: 292.7+ KB\n"
     ]
    }
   ],
   "source": [
    "# Confirm tweet_id is now object\n",
    "df_archive_clean.info()"
   ]
  },
  {
   "cell_type": "markdown",
   "metadata": {},
   "source": [
    "<a id='1.6'></a>\n",
    "### Problem 1.6\n",
    "There are many tweets with regular words in the `name` column that are NOT a valid name."
   ]
  },
  {
   "cell_type": "markdown",
   "metadata": {},
   "source": [
    "#### Define\n",
    "Replace all lowercase words in the `name` column with the string \"None\"."
   ]
  },
  {
   "cell_type": "markdown",
   "metadata": {},
   "source": [
    "#### Code"
   ]
  },
  {
   "cell_type": "code",
   "execution_count": 374,
   "metadata": {},
   "outputs": [],
   "source": [
    "# Find all invalid name\n",
    "names_mask = df_archive_clean.name.str.contains(r'^[a-z]', regex = True)"
   ]
  },
  {
   "cell_type": "code",
   "execution_count": 376,
   "metadata": {},
   "outputs": [],
   "source": [
    "# Replace all of them\n",
    "df_archive_clean.loc[names_mask, 'name'] = 'None'"
   ]
  },
  {
   "cell_type": "markdown",
   "metadata": {},
   "source": [
    "#### Test"
   ]
  },
  {
   "cell_type": "code",
   "execution_count": 384,
   "metadata": {
    "scrolled": true
   },
   "outputs": [
    {
     "data": {
      "text/html": [
       "<div>\n",
       "<style scoped>\n",
       "    .dataframe tbody tr th:only-of-type {\n",
       "        vertical-align: middle;\n",
       "    }\n",
       "\n",
       "    .dataframe tbody tr th {\n",
       "        vertical-align: top;\n",
       "    }\n",
       "\n",
       "    .dataframe thead th {\n",
       "        text-align: right;\n",
       "    }\n",
       "</style>\n",
       "<table border=\"1\" class=\"dataframe\">\n",
       "  <thead>\n",
       "    <tr style=\"text-align: right;\">\n",
       "      <th></th>\n",
       "      <th>tweet_id</th>\n",
       "      <th>timestamp</th>\n",
       "      <th>source</th>\n",
       "      <th>text</th>\n",
       "      <th>expanded_urls</th>\n",
       "      <th>rating_numerator</th>\n",
       "      <th>rating_denominator</th>\n",
       "      <th>name</th>\n",
       "      <th>doggo</th>\n",
       "      <th>floofer</th>\n",
       "      <th>pupper</th>\n",
       "      <th>puppo</th>\n",
       "    </tr>\n",
       "  </thead>\n",
       "  <tbody>\n",
       "    <tr>\n",
       "      <th>1854</th>\n",
       "      <td>675534494439489536</td>\n",
       "      <td>2015-12-12 04:35:48+00:00</td>\n",
       "      <td>&lt;a href=\"http://twitter.com/download/iphone\" r...</td>\n",
       "      <td>Seriously guys?! Only send in dogs. I only rat...</td>\n",
       "      <td>https://twitter.com/dog_rates/status/675534494...</td>\n",
       "      <td>11</td>\n",
       "      <td>10</td>\n",
       "      <td>None</td>\n",
       "      <td>None</td>\n",
       "      <td>None</td>\n",
       "      <td>None</td>\n",
       "      <td>None</td>\n",
       "    </tr>\n",
       "    <tr>\n",
       "      <th>2273</th>\n",
       "      <td>667470559035432960</td>\n",
       "      <td>2015-11-19 22:32:36+00:00</td>\n",
       "      <td>&lt;a href=\"http://twitter.com\" rel=\"nofollow\"&gt;Tw...</td>\n",
       "      <td>This is a northern Wahoo named Kohl. He runs t...</td>\n",
       "      <td>https://twitter.com/dog_rates/status/667470559...</td>\n",
       "      <td>11</td>\n",
       "      <td>10</td>\n",
       "      <td>None</td>\n",
       "      <td>None</td>\n",
       "      <td>None</td>\n",
       "      <td>None</td>\n",
       "      <td>None</td>\n",
       "    </tr>\n",
       "    <tr>\n",
       "      <th>1259</th>\n",
       "      <td>710272297844797440</td>\n",
       "      <td>2016-03-17 01:11:26+00:00</td>\n",
       "      <td>&lt;a href=\"http://twitter.com/download/iphone\" r...</td>\n",
       "      <td>We 👏🏻 only 👏🏻 rate 👏🏻 dogs. Pls stop sending i...</td>\n",
       "      <td>https://twitter.com/dog_rates/status/710272297...</td>\n",
       "      <td>11</td>\n",
       "      <td>10</td>\n",
       "      <td>None</td>\n",
       "      <td>None</td>\n",
       "      <td>None</td>\n",
       "      <td>None</td>\n",
       "      <td>None</td>\n",
       "    </tr>\n",
       "    <tr>\n",
       "      <th>2333</th>\n",
       "      <td>666337882303524864</td>\n",
       "      <td>2015-11-16 19:31:45+00:00</td>\n",
       "      <td>&lt;a href=\"http://twitter.com/download/iphone\" r...</td>\n",
       "      <td>This is an extremely rare horned Parthenon. No...</td>\n",
       "      <td>https://twitter.com/dog_rates/status/666337882...</td>\n",
       "      <td>9</td>\n",
       "      <td>10</td>\n",
       "      <td>None</td>\n",
       "      <td>None</td>\n",
       "      <td>None</td>\n",
       "      <td>None</td>\n",
       "      <td>None</td>\n",
       "    </tr>\n",
       "    <tr>\n",
       "      <th>1004</th>\n",
       "      <td>747816857231626240</td>\n",
       "      <td>2016-06-28 15:40:07+00:00</td>\n",
       "      <td>&lt;a href=\"http://twitter.com/download/iphone\" r...</td>\n",
       "      <td>Viewer discretion is advised. This is a terrib...</td>\n",
       "      <td>https://twitter.com/dog_rates/status/747816857...</td>\n",
       "      <td>4</td>\n",
       "      <td>10</td>\n",
       "      <td>None</td>\n",
       "      <td>None</td>\n",
       "      <td>None</td>\n",
       "      <td>None</td>\n",
       "      <td>None</td>\n",
       "    </tr>\n",
       "    <tr>\n",
       "      <th>1040</th>\n",
       "      <td>744223424764059648</td>\n",
       "      <td>2016-06-18 17:41:06+00:00</td>\n",
       "      <td>&lt;a href=\"http://twitter.com/download/iphone\" r...</td>\n",
       "      <td>This is actually a pupper and I'd pet it so we...</td>\n",
       "      <td>https://twitter.com/strange_animals/status/672...</td>\n",
       "      <td>12</td>\n",
       "      <td>10</td>\n",
       "      <td>None</td>\n",
       "      <td>None</td>\n",
       "      <td>None</td>\n",
       "      <td>pupper</td>\n",
       "      <td>None</td>\n",
       "    </tr>\n",
       "    <tr>\n",
       "      <th>649</th>\n",
       "      <td>792913359805018113</td>\n",
       "      <td>2016-10-31 02:17:31+00:00</td>\n",
       "      <td>&lt;a href=\"http://twitter.com/download/iphone\" r...</td>\n",
       "      <td>Here is a perfect example of someone who has t...</td>\n",
       "      <td>https://twitter.com/dog_rates/status/792913359...</td>\n",
       "      <td>13</td>\n",
       "      <td>10</td>\n",
       "      <td>None</td>\n",
       "      <td>None</td>\n",
       "      <td>None</td>\n",
       "      <td>None</td>\n",
       "      <td>None</td>\n",
       "    </tr>\n",
       "    <tr>\n",
       "      <th>1385</th>\n",
       "      <td>700747788515020802</td>\n",
       "      <td>2016-02-19 18:24:26+00:00</td>\n",
       "      <td>&lt;a href=\"http://twitter.com/download/iphone\" r...</td>\n",
       "      <td>We only rate dogs. Pls stop sending in non-can...</td>\n",
       "      <td>https://twitter.com/dog_rates/status/700747788...</td>\n",
       "      <td>11</td>\n",
       "      <td>10</td>\n",
       "      <td>None</td>\n",
       "      <td>None</td>\n",
       "      <td>None</td>\n",
       "      <td>None</td>\n",
       "      <td>None</td>\n",
       "    </tr>\n",
       "    <tr>\n",
       "      <th>2204</th>\n",
       "      <td>668636665813057536</td>\n",
       "      <td>2015-11-23 03:46:18+00:00</td>\n",
       "      <td>&lt;a href=\"http://twitter.com/download/iphone\" r...</td>\n",
       "      <td>This is an Irish Rigatoni terrier named Berta....</td>\n",
       "      <td>https://twitter.com/dog_rates/status/668636665...</td>\n",
       "      <td>10</td>\n",
       "      <td>10</td>\n",
       "      <td>None</td>\n",
       "      <td>None</td>\n",
       "      <td>None</td>\n",
       "      <td>None</td>\n",
       "      <td>None</td>\n",
       "    </tr>\n",
       "    <tr>\n",
       "      <th>2212</th>\n",
       "      <td>668587383441514497</td>\n",
       "      <td>2015-11-23 00:30:28+00:00</td>\n",
       "      <td>&lt;a href=\"http://vine.co\" rel=\"nofollow\"&gt;Vine -...</td>\n",
       "      <td>Never forget this vine. You will not stop watc...</td>\n",
       "      <td>https://vine.co/v/ea0OwvPTx9l</td>\n",
       "      <td>13</td>\n",
       "      <td>10</td>\n",
       "      <td>None</td>\n",
       "      <td>None</td>\n",
       "      <td>None</td>\n",
       "      <td>None</td>\n",
       "      <td>None</td>\n",
       "    </tr>\n",
       "  </tbody>\n",
       "</table>\n",
       "</div>"
      ],
      "text/plain": [
       "                tweet_id                 timestamp  \\\n",
       "1854  675534494439489536 2015-12-12 04:35:48+00:00   \n",
       "2273  667470559035432960 2015-11-19 22:32:36+00:00   \n",
       "1259  710272297844797440 2016-03-17 01:11:26+00:00   \n",
       "2333  666337882303524864 2015-11-16 19:31:45+00:00   \n",
       "1004  747816857231626240 2016-06-28 15:40:07+00:00   \n",
       "1040  744223424764059648 2016-06-18 17:41:06+00:00   \n",
       "649   792913359805018113 2016-10-31 02:17:31+00:00   \n",
       "1385  700747788515020802 2016-02-19 18:24:26+00:00   \n",
       "2204  668636665813057536 2015-11-23 03:46:18+00:00   \n",
       "2212  668587383441514497 2015-11-23 00:30:28+00:00   \n",
       "\n",
       "                                                 source  \\\n",
       "1854  <a href=\"http://twitter.com/download/iphone\" r...   \n",
       "2273  <a href=\"http://twitter.com\" rel=\"nofollow\">Tw...   \n",
       "1259  <a href=\"http://twitter.com/download/iphone\" r...   \n",
       "2333  <a href=\"http://twitter.com/download/iphone\" r...   \n",
       "1004  <a href=\"http://twitter.com/download/iphone\" r...   \n",
       "1040  <a href=\"http://twitter.com/download/iphone\" r...   \n",
       "649   <a href=\"http://twitter.com/download/iphone\" r...   \n",
       "1385  <a href=\"http://twitter.com/download/iphone\" r...   \n",
       "2204  <a href=\"http://twitter.com/download/iphone\" r...   \n",
       "2212  <a href=\"http://vine.co\" rel=\"nofollow\">Vine -...   \n",
       "\n",
       "                                                   text  \\\n",
       "1854  Seriously guys?! Only send in dogs. I only rat...   \n",
       "2273  This is a northern Wahoo named Kohl. He runs t...   \n",
       "1259  We 👏🏻 only 👏🏻 rate 👏🏻 dogs. Pls stop sending i...   \n",
       "2333  This is an extremely rare horned Parthenon. No...   \n",
       "1004  Viewer discretion is advised. This is a terrib...   \n",
       "1040  This is actually a pupper and I'd pet it so we...   \n",
       "649   Here is a perfect example of someone who has t...   \n",
       "1385  We only rate dogs. Pls stop sending in non-can...   \n",
       "2204  This is an Irish Rigatoni terrier named Berta....   \n",
       "2212  Never forget this vine. You will not stop watc...   \n",
       "\n",
       "                                          expanded_urls  rating_numerator  \\\n",
       "1854  https://twitter.com/dog_rates/status/675534494...                11   \n",
       "2273  https://twitter.com/dog_rates/status/667470559...                11   \n",
       "1259  https://twitter.com/dog_rates/status/710272297...                11   \n",
       "2333  https://twitter.com/dog_rates/status/666337882...                 9   \n",
       "1004  https://twitter.com/dog_rates/status/747816857...                 4   \n",
       "1040  https://twitter.com/strange_animals/status/672...                12   \n",
       "649   https://twitter.com/dog_rates/status/792913359...                13   \n",
       "1385  https://twitter.com/dog_rates/status/700747788...                11   \n",
       "2204  https://twitter.com/dog_rates/status/668636665...                10   \n",
       "2212                      https://vine.co/v/ea0OwvPTx9l                13   \n",
       "\n",
       "      rating_denominator  name doggo floofer  pupper puppo  \n",
       "1854                  10  None  None    None    None  None  \n",
       "2273                  10  None  None    None    None  None  \n",
       "1259                  10  None  None    None    None  None  \n",
       "2333                  10  None  None    None    None  None  \n",
       "1004                  10  None  None    None    None  None  \n",
       "1040                  10  None  None    None  pupper  None  \n",
       "649                   10  None  None    None    None  None  \n",
       "1385                  10  None  None    None    None  None  \n",
       "2204                  10  None  None    None    None  None  \n",
       "2212                  10  None  None    None    None  None  "
      ]
     },
     "execution_count": 384,
     "metadata": {},
     "output_type": "execute_result"
    }
   ],
   "source": [
    "# Confirm no invalid name found\n",
    "df_archive_clean[names_mask].sample(10)"
   ]
  },
  {
   "cell_type": "markdown",
   "metadata": {},
   "source": [
    "<a id='1.7'></a>\n",
    "### Problem 1.7\n",
    "Some tweets have wrong values extracted for `rating_denominators`; text contains the tweeter's rating."
   ]
  },
  {
   "cell_type": "markdown",
   "metadata": {},
   "source": [
    "#### Define\n",
    "- Standardize this field with only value of **10** is accepted. \n",
    "- Extract right values from text and drop those with invalid denominator."
   ]
  },
  {
   "cell_type": "markdown",
   "metadata": {},
   "source": [
    "#### Code"
   ]
  },
  {
   "cell_type": "code",
   "execution_count": 462,
   "metadata": {},
   "outputs": [],
   "source": [
    "# Find data with denomiator not equal to 10\n",
    "denominator_mask = df_archive_clean['rating_denominator'] != 10\n",
    "df_denominator_mask = df_archive_clean.loc[mask, ['tweet_id', 'text', 'rating_numerator', 'rating_denominator']]"
   ]
  },
  {
   "cell_type": "code",
   "execution_count": 466,
   "metadata": {},
   "outputs": [],
   "source": [
    "# Use regex to match possible rating value(s) from text\n",
    "df_denominator_mask['rating_found'] = df_denominator_mask['text'].apply(lambda x: re.findall('\\d+\\/[0-9]+', x))"
   ]
  },
  {
   "cell_type": "code",
   "execution_count": 467,
   "metadata": {
    "scrolled": false
   },
   "outputs": [
    {
     "data": {
      "text/html": [
       "<div>\n",
       "<style scoped>\n",
       "    .dataframe tbody tr th:only-of-type {\n",
       "        vertical-align: middle;\n",
       "    }\n",
       "\n",
       "    .dataframe tbody tr th {\n",
       "        vertical-align: top;\n",
       "    }\n",
       "\n",
       "    .dataframe thead th {\n",
       "        text-align: right;\n",
       "    }\n",
       "</style>\n",
       "<table border=\"1\" class=\"dataframe\">\n",
       "  <thead>\n",
       "    <tr style=\"text-align: right;\">\n",
       "      <th></th>\n",
       "      <th>tweet_id</th>\n",
       "      <th>text</th>\n",
       "      <th>rating_numerator</th>\n",
       "      <th>rating_denominator</th>\n",
       "      <th>rating_found</th>\n",
       "    </tr>\n",
       "  </thead>\n",
       "  <tbody>\n",
       "    <tr>\n",
       "      <th>433</th>\n",
       "      <td>820690176645140481</td>\n",
       "      <td>The floofs have been released I repeat the flo...</td>\n",
       "      <td>84</td>\n",
       "      <td>70</td>\n",
       "      <td>[84/70]</td>\n",
       "    </tr>\n",
       "    <tr>\n",
       "      <th>516</th>\n",
       "      <td>810984652412424192</td>\n",
       "      <td>Meet Sam. She smiles 24/7 &amp;amp; secretly aspir...</td>\n",
       "      <td>24</td>\n",
       "      <td>7</td>\n",
       "      <td>[24/7]</td>\n",
       "    </tr>\n",
       "    <tr>\n",
       "      <th>902</th>\n",
       "      <td>758467244762497024</td>\n",
       "      <td>Why does this never happen at my front door......</td>\n",
       "      <td>165</td>\n",
       "      <td>150</td>\n",
       "      <td>[165/150]</td>\n",
       "    </tr>\n",
       "    <tr>\n",
       "      <th>1068</th>\n",
       "      <td>740373189193256964</td>\n",
       "      <td>After so many requests, this is Bretagne. She ...</td>\n",
       "      <td>9</td>\n",
       "      <td>11</td>\n",
       "      <td>[9/11, 14/10]</td>\n",
       "    </tr>\n",
       "    <tr>\n",
       "      <th>1120</th>\n",
       "      <td>731156023742988288</td>\n",
       "      <td>Say hello to this unbelievably well behaved sq...</td>\n",
       "      <td>204</td>\n",
       "      <td>170</td>\n",
       "      <td>[204/170]</td>\n",
       "    </tr>\n",
       "    <tr>\n",
       "      <th>1165</th>\n",
       "      <td>722974582966214656</td>\n",
       "      <td>Happy 4/20 from the squad! 13/10 for all https...</td>\n",
       "      <td>4</td>\n",
       "      <td>20</td>\n",
       "      <td>[4/20, 13/10]</td>\n",
       "    </tr>\n",
       "    <tr>\n",
       "      <th>1202</th>\n",
       "      <td>716439118184652801</td>\n",
       "      <td>This is Bluebert. He just saw that both #Final...</td>\n",
       "      <td>50</td>\n",
       "      <td>50</td>\n",
       "      <td>[50/50, 11/10]</td>\n",
       "    </tr>\n",
       "    <tr>\n",
       "      <th>1228</th>\n",
       "      <td>713900603437621249</td>\n",
       "      <td>Happy Saturday here's 9 puppers on a bench. 99...</td>\n",
       "      <td>99</td>\n",
       "      <td>90</td>\n",
       "      <td>[99/90]</td>\n",
       "    </tr>\n",
       "    <tr>\n",
       "      <th>1254</th>\n",
       "      <td>710658690886586372</td>\n",
       "      <td>Here's a brigade of puppers. All look very pre...</td>\n",
       "      <td>80</td>\n",
       "      <td>80</td>\n",
       "      <td>[80/80]</td>\n",
       "    </tr>\n",
       "    <tr>\n",
       "      <th>1274</th>\n",
       "      <td>709198395643068416</td>\n",
       "      <td>From left to right:\\nCletus, Jerome, Alejandro...</td>\n",
       "      <td>45</td>\n",
       "      <td>50</td>\n",
       "      <td>[45/50]</td>\n",
       "    </tr>\n",
       "    <tr>\n",
       "      <th>1351</th>\n",
       "      <td>704054845121142784</td>\n",
       "      <td>Here is a whole flock of puppers.  60/50 I'll ...</td>\n",
       "      <td>60</td>\n",
       "      <td>50</td>\n",
       "      <td>[60/50]</td>\n",
       "    </tr>\n",
       "    <tr>\n",
       "      <th>1433</th>\n",
       "      <td>697463031882764288</td>\n",
       "      <td>Happy Wednesday here's a bucket of pups. 44/40...</td>\n",
       "      <td>44</td>\n",
       "      <td>40</td>\n",
       "      <td>[44/40]</td>\n",
       "    </tr>\n",
       "    <tr>\n",
       "      <th>1635</th>\n",
       "      <td>684222868335505415</td>\n",
       "      <td>Someone help the girl is being mugged. Several...</td>\n",
       "      <td>121</td>\n",
       "      <td>110</td>\n",
       "      <td>[121/110]</td>\n",
       "    </tr>\n",
       "    <tr>\n",
       "      <th>1662</th>\n",
       "      <td>682962037429899265</td>\n",
       "      <td>This is Darrel. He just robbed a 7/11 and is i...</td>\n",
       "      <td>7</td>\n",
       "      <td>11</td>\n",
       "      <td>[7/11, 10/10]</td>\n",
       "    </tr>\n",
       "    <tr>\n",
       "      <th>1779</th>\n",
       "      <td>677716515794329600</td>\n",
       "      <td>IT'S PUPPERGEDDON. Total of 144/120 ...I think...</td>\n",
       "      <td>144</td>\n",
       "      <td>120</td>\n",
       "      <td>[144/120]</td>\n",
       "    </tr>\n",
       "    <tr>\n",
       "      <th>1843</th>\n",
       "      <td>675853064436391936</td>\n",
       "      <td>Here we have an entire platoon of puppers. Tot...</td>\n",
       "      <td>88</td>\n",
       "      <td>80</td>\n",
       "      <td>[88/80]</td>\n",
       "    </tr>\n",
       "    <tr>\n",
       "      <th>2335</th>\n",
       "      <td>666287406224695296</td>\n",
       "      <td>This is an Albanian 3 1/2 legged  Episcopalian...</td>\n",
       "      <td>1</td>\n",
       "      <td>2</td>\n",
       "      <td>[1/2, 9/10]</td>\n",
       "    </tr>\n",
       "  </tbody>\n",
       "</table>\n",
       "</div>"
      ],
      "text/plain": [
       "                tweet_id                                               text  \\\n",
       "433   820690176645140481  The floofs have been released I repeat the flo...   \n",
       "516   810984652412424192  Meet Sam. She smiles 24/7 &amp; secretly aspir...   \n",
       "902   758467244762497024  Why does this never happen at my front door......   \n",
       "1068  740373189193256964  After so many requests, this is Bretagne. She ...   \n",
       "1120  731156023742988288  Say hello to this unbelievably well behaved sq...   \n",
       "1165  722974582966214656  Happy 4/20 from the squad! 13/10 for all https...   \n",
       "1202  716439118184652801  This is Bluebert. He just saw that both #Final...   \n",
       "1228  713900603437621249  Happy Saturday here's 9 puppers on a bench. 99...   \n",
       "1254  710658690886586372  Here's a brigade of puppers. All look very pre...   \n",
       "1274  709198395643068416  From left to right:\\nCletus, Jerome, Alejandro...   \n",
       "1351  704054845121142784  Here is a whole flock of puppers.  60/50 I'll ...   \n",
       "1433  697463031882764288  Happy Wednesday here's a bucket of pups. 44/40...   \n",
       "1635  684222868335505415  Someone help the girl is being mugged. Several...   \n",
       "1662  682962037429899265  This is Darrel. He just robbed a 7/11 and is i...   \n",
       "1779  677716515794329600  IT'S PUPPERGEDDON. Total of 144/120 ...I think...   \n",
       "1843  675853064436391936  Here we have an entire platoon of puppers. Tot...   \n",
       "2335  666287406224695296  This is an Albanian 3 1/2 legged  Episcopalian...   \n",
       "\n",
       "      rating_numerator  rating_denominator    rating_found  \n",
       "433                 84                  70         [84/70]  \n",
       "516                 24                   7          [24/7]  \n",
       "902                165                 150       [165/150]  \n",
       "1068                 9                  11   [9/11, 14/10]  \n",
       "1120               204                 170       [204/170]  \n",
       "1165                 4                  20   [4/20, 13/10]  \n",
       "1202                50                  50  [50/50, 11/10]  \n",
       "1228                99                  90         [99/90]  \n",
       "1254                80                  80         [80/80]  \n",
       "1274                45                  50         [45/50]  \n",
       "1351                60                  50         [60/50]  \n",
       "1433                44                  40         [44/40]  \n",
       "1635               121                 110       [121/110]  \n",
       "1662                 7                  11   [7/11, 10/10]  \n",
       "1779               144                 120       [144/120]  \n",
       "1843                88                  80         [88/80]  \n",
       "2335                 1                   2     [1/2, 9/10]  "
      ]
     },
     "execution_count": 467,
     "metadata": {},
     "output_type": "execute_result"
    }
   ],
   "source": [
    "df_denominator_mask"
   ]
  },
  {
   "cell_type": "markdown",
   "metadata": {},
   "source": [
    "I will replace for those tweet with denominator equals to 10 only. Drop others."
   ]
  },
  {
   "cell_type": "code",
   "execution_count": 470,
   "metadata": {},
   "outputs": [],
   "source": [
    "# Tweet ID 740373189193256964\n",
    "mask_row = (df_archive_clean['tweet_id'] == '740373189193256964')\n",
    "df_archive_clean.loc[mask_row, 'rating_numerator'] = 14\n",
    "df_archive_clean.loc[mask_row, 'rating_denominator'] = 10"
   ]
  },
  {
   "cell_type": "code",
   "execution_count": 471,
   "metadata": {},
   "outputs": [],
   "source": [
    "# Tweet ID 722974582966214656\n",
    "mask_row = (df_archive_clean['tweet_id'] == '722974582966214656')\n",
    "df_archive_clean.loc[mask_row, 'rating_numerator'] = 13\n",
    "df_archive_clean.loc[mask_row, 'rating_denominator'] = 10"
   ]
  },
  {
   "cell_type": "code",
   "execution_count": 473,
   "metadata": {},
   "outputs": [],
   "source": [
    "# Tweet ID 716439118184652801\n",
    "mask_row = (df_archive_clean['tweet_id'] == '716439118184652801')\n",
    "df_archive_clean.loc[mask_row, 'rating_numerator'] = 11\n",
    "df_archive_clean.loc[mask_row, 'rating_denominator'] = 10"
   ]
  },
  {
   "cell_type": "code",
   "execution_count": 474,
   "metadata": {},
   "outputs": [],
   "source": [
    "# Tweet ID 682962037429899265\n",
    "mask_row = (df_archive_clean['tweet_id'] == '682962037429899265')\n",
    "df_archive_clean.loc[mask_row, 'rating_numerator'] = 10\n",
    "df_archive_clean.loc[mask_row, 'rating_denominator'] = 10"
   ]
  },
  {
   "cell_type": "code",
   "execution_count": 475,
   "metadata": {},
   "outputs": [],
   "source": [
    "# Tweet ID 666287406224695296\n",
    "mask_row = (df_archive_clean['tweet_id'] == '666287406224695296')\n",
    "df_archive_clean.loc[mask_row, 'rating_numerator'] = 9\n",
    "df_archive_clean.loc[mask_row, 'rating_denominator'] = 10"
   ]
  },
  {
   "cell_type": "code",
   "execution_count": 479,
   "metadata": {},
   "outputs": [],
   "source": [
    "# Drop the remaining tweets with rating_denominator values \n",
    "# that are NOT equal to 10\n",
    "df_archive_clean = df_archive_clean.loc[df_archive_clean['rating_denominator'] == 10]"
   ]
  },
  {
   "cell_type": "markdown",
   "metadata": {},
   "source": [
    "#### Test"
   ]
  },
  {
   "cell_type": "code",
   "execution_count": 482,
   "metadata": {
    "scrolled": false
   },
   "outputs": [
    {
     "data": {
      "text/html": [
       "<div>\n",
       "<style scoped>\n",
       "    .dataframe tbody tr th:only-of-type {\n",
       "        vertical-align: middle;\n",
       "    }\n",
       "\n",
       "    .dataframe tbody tr th {\n",
       "        vertical-align: top;\n",
       "    }\n",
       "\n",
       "    .dataframe thead th {\n",
       "        text-align: right;\n",
       "    }\n",
       "</style>\n",
       "<table border=\"1\" class=\"dataframe\">\n",
       "  <thead>\n",
       "    <tr style=\"text-align: right;\">\n",
       "      <th></th>\n",
       "      <th>tweet_id</th>\n",
       "      <th>timestamp</th>\n",
       "      <th>source</th>\n",
       "      <th>text</th>\n",
       "      <th>expanded_urls</th>\n",
       "      <th>rating_numerator</th>\n",
       "      <th>rating_denominator</th>\n",
       "      <th>name</th>\n",
       "      <th>doggo</th>\n",
       "      <th>floofer</th>\n",
       "      <th>pupper</th>\n",
       "      <th>puppo</th>\n",
       "    </tr>\n",
       "  </thead>\n",
       "  <tbody>\n",
       "    <tr>\n",
       "      <th>1068</th>\n",
       "      <td>740373189193256964</td>\n",
       "      <td>2016-06-08 02:41:38+00:00</td>\n",
       "      <td>&lt;a href=\"http://twitter.com/download/iphone\" r...</td>\n",
       "      <td>After so many requests, this is Bretagne. She ...</td>\n",
       "      <td>https://twitter.com/dog_rates/status/740373189...</td>\n",
       "      <td>14</td>\n",
       "      <td>10</td>\n",
       "      <td>None</td>\n",
       "      <td>None</td>\n",
       "      <td>None</td>\n",
       "      <td>None</td>\n",
       "      <td>None</td>\n",
       "    </tr>\n",
       "    <tr>\n",
       "      <th>1165</th>\n",
       "      <td>722974582966214656</td>\n",
       "      <td>2016-04-21 02:25:47+00:00</td>\n",
       "      <td>&lt;a href=\"http://twitter.com/download/iphone\" r...</td>\n",
       "      <td>Happy 4/20 from the squad! 13/10 for all https...</td>\n",
       "      <td>https://twitter.com/dog_rates/status/722974582...</td>\n",
       "      <td>13</td>\n",
       "      <td>10</td>\n",
       "      <td>None</td>\n",
       "      <td>None</td>\n",
       "      <td>None</td>\n",
       "      <td>None</td>\n",
       "      <td>None</td>\n",
       "    </tr>\n",
       "    <tr>\n",
       "      <th>1202</th>\n",
       "      <td>716439118184652801</td>\n",
       "      <td>2016-04-03 01:36:11+00:00</td>\n",
       "      <td>&lt;a href=\"http://twitter.com/download/iphone\" r...</td>\n",
       "      <td>This is Bluebert. He just saw that both #Final...</td>\n",
       "      <td>https://twitter.com/dog_rates/status/716439118...</td>\n",
       "      <td>11</td>\n",
       "      <td>10</td>\n",
       "      <td>Bluebert</td>\n",
       "      <td>None</td>\n",
       "      <td>None</td>\n",
       "      <td>None</td>\n",
       "      <td>None</td>\n",
       "    </tr>\n",
       "    <tr>\n",
       "      <th>1662</th>\n",
       "      <td>682962037429899265</td>\n",
       "      <td>2016-01-01 16:30:13+00:00</td>\n",
       "      <td>&lt;a href=\"http://twitter.com/download/iphone\" r...</td>\n",
       "      <td>This is Darrel. He just robbed a 7/11 and is i...</td>\n",
       "      <td>https://twitter.com/dog_rates/status/682962037...</td>\n",
       "      <td>10</td>\n",
       "      <td>10</td>\n",
       "      <td>Darrel</td>\n",
       "      <td>None</td>\n",
       "      <td>None</td>\n",
       "      <td>None</td>\n",
       "      <td>None</td>\n",
       "    </tr>\n",
       "    <tr>\n",
       "      <th>2335</th>\n",
       "      <td>666287406224695296</td>\n",
       "      <td>2015-11-16 16:11:11+00:00</td>\n",
       "      <td>&lt;a href=\"http://twitter.com/download/iphone\" r...</td>\n",
       "      <td>This is an Albanian 3 1/2 legged  Episcopalian...</td>\n",
       "      <td>https://twitter.com/dog_rates/status/666287406...</td>\n",
       "      <td>9</td>\n",
       "      <td>10</td>\n",
       "      <td>None</td>\n",
       "      <td>None</td>\n",
       "      <td>None</td>\n",
       "      <td>None</td>\n",
       "      <td>None</td>\n",
       "    </tr>\n",
       "  </tbody>\n",
       "</table>\n",
       "</div>"
      ],
      "text/plain": [
       "                tweet_id                 timestamp  \\\n",
       "1068  740373189193256964 2016-06-08 02:41:38+00:00   \n",
       "1165  722974582966214656 2016-04-21 02:25:47+00:00   \n",
       "1202  716439118184652801 2016-04-03 01:36:11+00:00   \n",
       "1662  682962037429899265 2016-01-01 16:30:13+00:00   \n",
       "2335  666287406224695296 2015-11-16 16:11:11+00:00   \n",
       "\n",
       "                                                 source  \\\n",
       "1068  <a href=\"http://twitter.com/download/iphone\" r...   \n",
       "1165  <a href=\"http://twitter.com/download/iphone\" r...   \n",
       "1202  <a href=\"http://twitter.com/download/iphone\" r...   \n",
       "1662  <a href=\"http://twitter.com/download/iphone\" r...   \n",
       "2335  <a href=\"http://twitter.com/download/iphone\" r...   \n",
       "\n",
       "                                                   text  \\\n",
       "1068  After so many requests, this is Bretagne. She ...   \n",
       "1165  Happy 4/20 from the squad! 13/10 for all https...   \n",
       "1202  This is Bluebert. He just saw that both #Final...   \n",
       "1662  This is Darrel. He just robbed a 7/11 and is i...   \n",
       "2335  This is an Albanian 3 1/2 legged  Episcopalian...   \n",
       "\n",
       "                                          expanded_urls  rating_numerator  \\\n",
       "1068  https://twitter.com/dog_rates/status/740373189...                14   \n",
       "1165  https://twitter.com/dog_rates/status/722974582...                13   \n",
       "1202  https://twitter.com/dog_rates/status/716439118...                11   \n",
       "1662  https://twitter.com/dog_rates/status/682962037...                10   \n",
       "2335  https://twitter.com/dog_rates/status/666287406...                 9   \n",
       "\n",
       "      rating_denominator      name doggo floofer pupper puppo  \n",
       "1068                  10      None  None    None   None  None  \n",
       "1165                  10      None  None    None   None  None  \n",
       "1202                  10  Bluebert  None    None   None  None  \n",
       "1662                  10    Darrel  None    None   None  None  \n",
       "2335                  10      None  None    None   None  None  "
      ]
     },
     "execution_count": 482,
     "metadata": {},
     "output_type": "execute_result"
    }
   ],
   "source": [
    "# Check tweets that replace with new rating found\n",
    "df_archive_clean[(df_archive_clean.tweet_id == '740373189193256964') | \\\n",
    "                 (df_archive_clean.tweet_id == '722974582966214656') | \\\n",
    "                 (df_archive_clean.tweet_id == '716439118184652801') | \\\n",
    "                 (df_archive_clean.tweet_id == '682962037429899265') | \\\n",
    "                 (df_archive_clean.tweet_id == '666287406224695296') ]"
   ]
  },
  {
   "cell_type": "code",
   "execution_count": 483,
   "metadata": {
    "scrolled": true
   },
   "outputs": [
    {
     "data": {
      "text/plain": [
       "10    2082\n",
       "Name: rating_denominator, dtype: int64"
      ]
     },
     "execution_count": 483,
     "metadata": {},
     "output_type": "execute_result"
    }
   ],
   "source": [
    "# Confirm all rating denominator are 10\n",
    "df_archive_clean['rating_denominator'].value_counts()"
   ]
  },
  {
   "cell_type": "markdown",
   "metadata": {},
   "source": [
    "<a id='1.8'></a>\n",
    "### Problem 1.8\n",
    "Outliers found in `rating_numerator` which don't make sense."
   ]
  },
  {
   "cell_type": "markdown",
   "metadata": {},
   "source": [
    "#### Define\n",
    "Drop tweets that have `rating_numerator` > 15."
   ]
  },
  {
   "cell_type": "markdown",
   "metadata": {},
   "source": [
    "#### Code"
   ]
  },
  {
   "cell_type": "code",
   "execution_count": 484,
   "metadata": {},
   "outputs": [
    {
     "data": {
      "text/plain": [
       "1776    1\n",
       "420     1\n",
       "75      1\n",
       "27      1\n",
       "26      1\n",
       "Name: rating_numerator, dtype: int64"
      ]
     },
     "execution_count": 484,
     "metadata": {},
     "output_type": "execute_result"
    }
   ],
   "source": [
    "# Display numerators greater than 15\n",
    "mask = df_archive_clean['rating_numerator'] > 15\n",
    "df_archive_clean[mask]['rating_numerator'].value_counts().sort_index(ascending = False)"
   ]
  },
  {
   "cell_type": "code",
   "execution_count": 485,
   "metadata": {},
   "outputs": [],
   "source": [
    "# Remove numerator > 15\n",
    "df_archive_clean = df_archive_clean[df_archive_clean.rating_numerator <= 15]"
   ]
  },
  {
   "cell_type": "markdown",
   "metadata": {},
   "source": [
    "#### Test"
   ]
  },
  {
   "cell_type": "code",
   "execution_count": 486,
   "metadata": {
    "scrolled": false
   },
   "outputs": [
    {
     "data": {
      "text/plain": [
       "14     39\n",
       "13    288\n",
       "12    485\n",
       "11    414\n",
       "10    435\n",
       "9     153\n",
       "8      98\n",
       "7      51\n",
       "6      32\n",
       "5      34\n",
       "4      15\n",
       "3      19\n",
       "2       9\n",
       "1       4\n",
       "0       1\n",
       "Name: rating_numerator, dtype: int64"
      ]
     },
     "execution_count": 486,
     "metadata": {},
     "output_type": "execute_result"
    }
   ],
   "source": [
    "# Display ALL numerators\n",
    "df_archive_clean.rating_numerator.value_counts().sort_index(ascending = False)"
   ]
  },
  {
   "cell_type": "markdown",
   "metadata": {},
   "source": [
    "<a id='1.9'></a>\n",
    "### Problem 1.9\n",
    "The `source` column can be simplified by extracting and replacing with it's display string."
   ]
  },
  {
   "cell_type": "markdown",
   "metadata": {},
   "source": [
    "#### Define\n",
    "Replace the `source` string with the display portion of itself. Extract the string between ``<a href=\"\">`` and ``</a>``."
   ]
  },
  {
   "cell_type": "markdown",
   "metadata": {},
   "source": [
    "#### Code"
   ]
  },
  {
   "cell_type": "code",
   "execution_count": 487,
   "metadata": {},
   "outputs": [],
   "source": [
    "# Extract string \n",
    "df_archive_clean['source'] = df_archive_clean['source'].str.extract('^<a.+>(.+)</a>$')"
   ]
  },
  {
   "cell_type": "markdown",
   "metadata": {},
   "source": [
    "#### Test"
   ]
  },
  {
   "cell_type": "code",
   "execution_count": 488,
   "metadata": {
    "scrolled": true
   },
   "outputs": [
    {
     "data": {
      "text/plain": [
       "Twitter for iPhone     1946\n",
       "Vine - Make a Scene      91\n",
       "Twitter Web Client       30\n",
       "TweetDeck                10\n",
       "Name: source, dtype: int64"
      ]
     },
     "execution_count": 488,
     "metadata": {},
     "output_type": "execute_result"
    }
   ],
   "source": [
    "df_archive_clean.source.value_counts()"
   ]
  },
  {
   "cell_type": "markdown",
   "metadata": {},
   "source": [
    "<a id='1.12'></a>\n",
    "### Problem 1.12\n",
    "There are 4 columns for dog stages (`doggo`, `floofer`, `pupper`, `puppo`)."
   ]
  },
  {
   "cell_type": "markdown",
   "metadata": {},
   "source": [
    "#### Define\n",
    "Melt the 4 columns with the dog stages:\n",
    "- Create a temporary column called none to store the None values; use lowercase 'n' to avoid confusion with 'None' special NA value.\n",
    "- Create a new column stage to store the categories: doggo, floofer, pupper, puppo, as well as None, and select the stage from the column that contains a value.\n",
    "- Cast the stage column to categorical data type.\n",
    "- Drop the 4 original dog stage columns, and the temporary none column."
   ]
  },
  {
   "cell_type": "markdown",
   "metadata": {},
   "source": [
    "#### Code"
   ]
  },
  {
   "cell_type": "code",
   "execution_count": 489,
   "metadata": {
    "scrolled": true
   },
   "outputs": [
    {
     "data": {
      "text/html": [
       "<div>\n",
       "<style scoped>\n",
       "    .dataframe tbody tr th:only-of-type {\n",
       "        vertical-align: middle;\n",
       "    }\n",
       "\n",
       "    .dataframe tbody tr th {\n",
       "        vertical-align: top;\n",
       "    }\n",
       "\n",
       "    .dataframe thead th {\n",
       "        text-align: right;\n",
       "    }\n",
       "</style>\n",
       "<table border=\"1\" class=\"dataframe\">\n",
       "  <thead>\n",
       "    <tr style=\"text-align: right;\">\n",
       "      <th></th>\n",
       "      <th>doggo</th>\n",
       "      <th>floofer</th>\n",
       "      <th>pupper</th>\n",
       "      <th>puppo</th>\n",
       "    </tr>\n",
       "  </thead>\n",
       "  <tbody>\n",
       "    <tr>\n",
       "      <th>count</th>\n",
       "      <td>2077</td>\n",
       "      <td>2077</td>\n",
       "      <td>2077</td>\n",
       "      <td>2077</td>\n",
       "    </tr>\n",
       "    <tr>\n",
       "      <th>unique</th>\n",
       "      <td>2</td>\n",
       "      <td>2</td>\n",
       "      <td>2</td>\n",
       "      <td>2</td>\n",
       "    </tr>\n",
       "    <tr>\n",
       "      <th>top</th>\n",
       "      <td>None</td>\n",
       "      <td>None</td>\n",
       "      <td>None</td>\n",
       "      <td>None</td>\n",
       "    </tr>\n",
       "    <tr>\n",
       "      <th>freq</th>\n",
       "      <td>1994</td>\n",
       "      <td>2067</td>\n",
       "      <td>1849</td>\n",
       "      <td>2053</td>\n",
       "    </tr>\n",
       "  </tbody>\n",
       "</table>\n",
       "</div>"
      ],
      "text/plain": [
       "       doggo floofer pupper puppo\n",
       "count   2077    2077   2077  2077\n",
       "unique     2       2      2     2\n",
       "top     None    None   None  None\n",
       "freq    1994    2067   1849  2053"
      ]
     },
     "execution_count": 489,
     "metadata": {},
     "output_type": "execute_result"
    }
   ],
   "source": [
    "df_archive_clean[['doggo', 'floofer', 'pupper', 'puppo']].describe()"
   ]
  },
  {
   "cell_type": "code",
   "execution_count": 492,
   "metadata": {
    "scrolled": true
   },
   "outputs": [
    {
     "data": {
      "text/plain": [
       "0    1743\n",
       "1     323\n",
       "2      11\n",
       "Name: none, dtype: int64"
      ]
     },
     "execution_count": 492,
     "metadata": {},
     "output_type": "execute_result"
    }
   ],
   "source": [
    "# Replace the stage name with 1, and 'None' with 0, like a dummy variable\n",
    "make_dummy = lambda x: 0 if x == 'None' else 1\n",
    "\n",
    "df_archive_clean['doggo'] = df_archive_clean['doggo'].apply(make_dummy)\n",
    "df_archive_clean['floofer'] = df_archive_clean['floofer'].apply(make_dummy)\n",
    "df_archive_clean['pupper'] = df_archive_clean['pupper'].apply(make_dummy)\n",
    "df_archive_clean['puppo'] = df_archive_clean['puppo'].apply(make_dummy)\n",
    "\n",
    "# By adding the stage columns, we can see how many are 'none' and how many stages are set\n",
    "df_archive_clean['none'] = df_archive_clean['doggo'] + df_archive_clean['floofer'] + \\\n",
    "                        df_archive_clean['pupper'] + df_archive_clean['puppo']\n",
    "\n",
    "# have a look at what we have before we continue...\n",
    "df_archive_clean['none'].value_counts()"
   ]
  },
  {
   "cell_type": "code",
   "execution_count": 499,
   "metadata": {},
   "outputs": [
    {
     "data": {
      "text/plain": [
       "0    2053\n",
       "1      24\n",
       "Name: puppo, dtype: int64"
      ]
     },
     "execution_count": 499,
     "metadata": {},
     "output_type": "execute_result"
    }
   ],
   "source": [
    "df_archive_clean['puppo'].value_counts()"
   ]
  },
  {
   "cell_type": "markdown",
   "metadata": {},
   "source": [
    "#### NOTES:\n",
    ">Turns out there are 11 tweets that have 2 dog stages set, so these must be tweets about multiple dogs. As there are only 11 entries, I'll just carry on with selecting the first of the dog stages in increasing count order - floofer, puppo, doggo and pupper - so we don't lose too much information."
   ]
  },
  {
   "cell_type": "code",
   "execution_count": 500,
   "metadata": {},
   "outputs": [],
   "source": [
    "# If there are NO stages specified then set 'None' to 1\n",
    "stage_none = lambda x: 1 if x == 0 else 0\n",
    "\n",
    "# reset values in 'none' \n",
    "df_archive_clean['none'] = df_archive_clean['none'].apply(stage_none)\n",
    "\n",
    "# Order the stages in increasing count order: floofer, puppo, doggo and pupper\n",
    "# set the choice order for dog stage based on count order\n",
    "stage = ['floofer', 'puppo', 'doggo', 'pupper', 'none']\n",
    "\n",
    "# Set the conditions for selecting the dog stage based on count order\n",
    "conditions = [\n",
    "    (df_archive_clean[stage[0]] == 1),\n",
    "    (df_archive_clean[stage[1]] == 1),\n",
    "    (df_archive_clean[stage[2]] == 1),\n",
    "    (df_archive_clean[stage[3]] == 1),\n",
    "    (df_archive_clean[stage[4]] == 1)]\n",
    "\n",
    "# Select the dog stage based on the first successful condition; stage[4] is 'None'\n",
    "df_archive_clean['stage'] = np.select(conditions, stage, default = stage[4])\n",
    "\n",
    "# Now we can drop the original 4 dog stage columns, AND the temporary 'None'\n",
    "df_archive_clean.drop(stage, axis = 1, inplace = True)\n",
    "\n",
    "# Set the 'stage' column data type to category\n",
    "df_archive_clean['stage'] = df_archive_clean.stage.astype('category')"
   ]
  },
  {
   "cell_type": "markdown",
   "metadata": {},
   "source": [
    " [Source](https://code.i-harness.com/en/q/19c9fbc)  for algorithm"
   ]
  },
  {
   "cell_type": "markdown",
   "metadata": {},
   "source": [
    "#### Test"
   ]
  },
  {
   "cell_type": "code",
   "execution_count": 502,
   "metadata": {
    "scrolled": false
   },
   "outputs": [
    {
     "name": "stdout",
     "output_type": "stream",
     "text": [
      "<class 'pandas.core.frame.DataFrame'>\n",
      "Int64Index: 2077 entries, 0 to 2355\n",
      "Data columns (total 9 columns):\n",
      " #   Column              Non-Null Count  Dtype              \n",
      "---  ------              --------------  -----              \n",
      " 0   tweet_id            2077 non-null   object             \n",
      " 1   timestamp           2077 non-null   datetime64[ns, UTC]\n",
      " 2   source              2077 non-null   object             \n",
      " 3   text                2077 non-null   object             \n",
      " 4   expanded_urls       2077 non-null   object             \n",
      " 5   rating_numerator    2077 non-null   int64              \n",
      " 6   rating_denominator  2077 non-null   int64              \n",
      " 7   name                2077 non-null   object             \n",
      " 8   stage               2077 non-null   category           \n",
      "dtypes: category(1), datetime64[ns, UTC](1), int64(2), object(5)\n",
      "memory usage: 148.3+ KB\n"
     ]
    }
   ],
   "source": [
    "df_archive_clean.info()"
   ]
  },
  {
   "cell_type": "code",
   "execution_count": 503,
   "metadata": {
    "scrolled": false
   },
   "outputs": [
    {
     "data": {
      "text/plain": [
       "none       1743\n",
       "pupper      219\n",
       "doggo        81\n",
       "puppo        24\n",
       "floofer      10\n",
       "Name: stage, dtype: int64"
      ]
     },
     "execution_count": 503,
     "metadata": {},
     "output_type": "execute_result"
    }
   ],
   "source": [
    "df_archive_clean['stage'].value_counts()"
   ]
  },
  {
   "cell_type": "markdown",
   "metadata": {},
   "source": [
    "<a id='2.1'></a>\n",
    "### Problem 2.1\n",
    "Erroneous datatypes for `tweet_id`."
   ]
  },
  {
   "cell_type": "markdown",
   "metadata": {},
   "source": [
    "#### Define\n",
    "Convert  `tweet_id` to string datatype (object)."
   ]
  },
  {
   "cell_type": "markdown",
   "metadata": {},
   "source": [
    "#### Code"
   ]
  },
  {
   "cell_type": "code",
   "execution_count": 511,
   "metadata": {},
   "outputs": [],
   "source": [
    "# Convert to str dtype and make sure it is 18 characters\n",
    "df_predictions_clean['tweet_id'] = df_predictions_clean['tweet_id'].astype(str).str.pad(width=18, side='left', fillchar='0')"
   ]
  },
  {
   "cell_type": "markdown",
   "metadata": {},
   "source": [
    "#### Test"
   ]
  },
  {
   "cell_type": "code",
   "execution_count": 512,
   "metadata": {
    "scrolled": false
   },
   "outputs": [
    {
     "name": "stdout",
     "output_type": "stream",
     "text": [
      "<class 'pandas.core.frame.DataFrame'>\n",
      "RangeIndex: 2075 entries, 0 to 2074\n",
      "Data columns (total 14 columns):\n",
      " #   Column      Non-Null Count  Dtype  \n",
      "---  ------      --------------  -----  \n",
      " 0   tweet_id    2075 non-null   object \n",
      " 1   jpg_url     2075 non-null   object \n",
      " 2   img_num     2075 non-null   int64  \n",
      " 3   p1          2075 non-null   object \n",
      " 4   p1_conf     2075 non-null   float64\n",
      " 5   p1_dog      2075 non-null   bool   \n",
      " 6   p2          2075 non-null   object \n",
      " 7   p2_conf     2075 non-null   float64\n",
      " 8   p2_dog      2075 non-null   bool   \n",
      " 9   p3          2075 non-null   object \n",
      " 10  p3_conf     2075 non-null   float64\n",
      " 11  p3_dog      2075 non-null   bool   \n",
      " 12  breed       2075 non-null   object \n",
      " 13  confidence  2075 non-null   float64\n",
      "dtypes: bool(3), float64(4), int64(1), object(6)\n",
      "memory usage: 184.5+ KB\n"
     ]
    }
   ],
   "source": [
    "# Confirm tweet_id is now object\n",
    "df_predictions_clean.info()"
   ]
  },
  {
   "cell_type": "markdown",
   "metadata": {},
   "source": [
    "<a id='2.3'></a>\n",
    "### Problem 2.3\n",
    "The best dog breed prediction and associated confidence level can be combined with the archive table; these pieces of information provide additional data about the dog in the tweet based on the tweet's image.\n",
    "\n",
    "**NOTE:** \n",
    ">We only want to keep tweets that have images. This also solves <a href=2.2> Problem 2.2 </a> issue, that there are fewer image predictions than tweets in the archive."
   ]
  },
  {
   "cell_type": "markdown",
   "metadata": {},
   "source": [
    "#### Define\n",
    "This is a 2-step process, first creating the columns in the **`df_predictions_clean`** table, then merging to **`df_archive_clean`**.\n",
    "\n",
    ">Part 1:\n",
    "- Create two new columns in predictions called `breed` and `confidence`: check each dog breed prediction flag in order (`p1_dog`, `p2_dog`, `p3_dog`), and copy the breed with the highest confidence level into the `breed` column.\n",
    "- Copy the associated confidence level into the new `confidence` column.\n",
    "- For cases where all 3 prediction flags are False (NOT a valid dog breed), set `breed` as 'none' and `confidence` to 0.\n",
    ">\n",
    ">Part 2:\n",
    "- Merge the new `breed` and `confidence` columns into the tweet archive table, using an 'inner' join so that we are left with only tweets with images.\n",
    "- Now we can fix the confidence column; round the values up to a whole number in percentage format."
   ]
  },
  {
   "cell_type": "markdown",
   "metadata": {},
   "source": [
    "#### Code - Part 1"
   ]
  },
  {
   "cell_type": "markdown",
   "metadata": {},
   "source": [
    "Refer to [here](https://code.i-harness.com/en/q/19c9fbc)."
   ]
  },
  {
   "cell_type": "code",
   "execution_count": 506,
   "metadata": {},
   "outputs": [],
   "source": [
    "# Setup the conditions for selection\n",
    "conditions = [(df_predictions_clean['p1_dog'] == True),\n",
    "              (df_predictions_clean['p2_dog'] == True),\n",
    "              (df_predictions_clean['p3_dog'] == True)]\n",
    "\n",
    "# Set the choice order based on the selection conditions for predicted breed\n",
    "choices_breed = [df_predictions_clean['p1'], \n",
    "                 df_predictions_clean['p2'],\n",
    "                 df_predictions_clean['p3']]\n",
    "\n",
    "# Set the choice order for confidence level based on the selection conditions\n",
    "choices_confidence = [df_predictions_clean['p1_conf'], \n",
    "                      df_predictions_clean['p2_conf'], \n",
    "                      df_predictions_clean['p3_conf']]\n",
    "\n",
    "# Select the predicted breed based on the first successful condition\n",
    "df_predictions_clean['breed'] = np.select(conditions, choices_breed, \n",
    "                                       default = 'none')\n",
    "\n",
    "# Select the predicted confidence level based on the first successful condition\n",
    "df_predictions_clean['confidence'] = np.select(conditions, choices_confidence, \n",
    "                                            default = 0)"
   ]
  },
  {
   "cell_type": "markdown",
   "metadata": {},
   "source": [
    "#### Test"
   ]
  },
  {
   "cell_type": "code",
   "execution_count": 507,
   "metadata": {
    "scrolled": true
   },
   "outputs": [
    {
     "data": {
      "text/html": [
       "<div>\n",
       "<style scoped>\n",
       "    .dataframe tbody tr th:only-of-type {\n",
       "        vertical-align: middle;\n",
       "    }\n",
       "\n",
       "    .dataframe tbody tr th {\n",
       "        vertical-align: top;\n",
       "    }\n",
       "\n",
       "    .dataframe thead th {\n",
       "        text-align: right;\n",
       "    }\n",
       "</style>\n",
       "<table border=\"1\" class=\"dataframe\">\n",
       "  <thead>\n",
       "    <tr style=\"text-align: right;\">\n",
       "      <th></th>\n",
       "      <th>tweet_id</th>\n",
       "      <th>jpg_url</th>\n",
       "      <th>img_num</th>\n",
       "      <th>p1</th>\n",
       "      <th>p1_conf</th>\n",
       "      <th>p1_dog</th>\n",
       "      <th>p2</th>\n",
       "      <th>p2_conf</th>\n",
       "      <th>p2_dog</th>\n",
       "      <th>p3</th>\n",
       "      <th>p3_conf</th>\n",
       "      <th>p3_dog</th>\n",
       "      <th>breed</th>\n",
       "      <th>confidence</th>\n",
       "    </tr>\n",
       "  </thead>\n",
       "  <tbody>\n",
       "    <tr>\n",
       "      <th>582</th>\n",
       "      <td>678798276842360832</td>\n",
       "      <td>https://pbs.twimg.com/media/CWuTbAKUsAAvZHh.jpg</td>\n",
       "      <td>1</td>\n",
       "      <td>Airedale</td>\n",
       "      <td>0.583122</td>\n",
       "      <td>True</td>\n",
       "      <td>silky_terrier</td>\n",
       "      <td>1.295670e-01</td>\n",
       "      <td>True</td>\n",
       "      <td>Lakeland_terrier</td>\n",
       "      <td>9.472660e-02</td>\n",
       "      <td>True</td>\n",
       "      <td>Airedale</td>\n",
       "      <td>0.583122</td>\n",
       "    </tr>\n",
       "    <tr>\n",
       "      <th>106</th>\n",
       "      <td>667866724293877760</td>\n",
       "      <td>https://pbs.twimg.com/media/CUS9PlUWwAANeAD.jpg</td>\n",
       "      <td>1</td>\n",
       "      <td>jigsaw_puzzle</td>\n",
       "      <td>1.000000</td>\n",
       "      <td>False</td>\n",
       "      <td>prayer_rug</td>\n",
       "      <td>1.011300e-08</td>\n",
       "      <td>False</td>\n",
       "      <td>doormat</td>\n",
       "      <td>1.740170e-10</td>\n",
       "      <td>False</td>\n",
       "      <td>none</td>\n",
       "      <td>0.000000</td>\n",
       "    </tr>\n",
       "    <tr>\n",
       "      <th>449</th>\n",
       "      <td>674737130913071104</td>\n",
       "      <td>https://pbs.twimg.com/media/CV0l10AU8AAfg-a.jpg</td>\n",
       "      <td>1</td>\n",
       "      <td>Pomeranian</td>\n",
       "      <td>0.948537</td>\n",
       "      <td>True</td>\n",
       "      <td>schipperke</td>\n",
       "      <td>1.430990e-02</td>\n",
       "      <td>True</td>\n",
       "      <td>Chihuahua</td>\n",
       "      <td>8.120240e-03</td>\n",
       "      <td>True</td>\n",
       "      <td>Pomeranian</td>\n",
       "      <td>0.948537</td>\n",
       "    </tr>\n",
       "    <tr>\n",
       "      <th>1499</th>\n",
       "      <td>783821107061198850</td>\n",
       "      <td>https://pbs.twimg.com/media/CuCxIzyWEAQTnQA.jpg</td>\n",
       "      <td>1</td>\n",
       "      <td>Lakeland_terrier</td>\n",
       "      <td>0.265659</td>\n",
       "      <td>True</td>\n",
       "      <td>golden_retriever</td>\n",
       "      <td>1.964140e-01</td>\n",
       "      <td>True</td>\n",
       "      <td>standard_poodle</td>\n",
       "      <td>1.335340e-01</td>\n",
       "      <td>True</td>\n",
       "      <td>Lakeland_terrier</td>\n",
       "      <td>0.265659</td>\n",
       "    </tr>\n",
       "    <tr>\n",
       "      <th>355</th>\n",
       "      <td>672594978741354496</td>\n",
       "      <td>https://pbs.twimg.com/media/CVWJkJXWsAInlZl.jpg</td>\n",
       "      <td>1</td>\n",
       "      <td>Great_Pyrenees</td>\n",
       "      <td>0.755945</td>\n",
       "      <td>True</td>\n",
       "      <td>Old_English_sheepdog</td>\n",
       "      <td>8.233680e-02</td>\n",
       "      <td>True</td>\n",
       "      <td>Afghan_hound</td>\n",
       "      <td>2.703660e-02</td>\n",
       "      <td>True</td>\n",
       "      <td>Great_Pyrenees</td>\n",
       "      <td>0.755945</td>\n",
       "    </tr>\n",
       "    <tr>\n",
       "      <th>779</th>\n",
       "      <td>689905486972461056</td>\n",
       "      <td>https://pbs.twimg.com/media/CZMJYCRVAAE35Wk.jpg</td>\n",
       "      <td>4</td>\n",
       "      <td>Pomeranian</td>\n",
       "      <td>0.943331</td>\n",
       "      <td>True</td>\n",
       "      <td>Shetland_sheepdog</td>\n",
       "      <td>2.367510e-02</td>\n",
       "      <td>True</td>\n",
       "      <td>chow</td>\n",
       "      <td>7.164950e-03</td>\n",
       "      <td>True</td>\n",
       "      <td>Pomeranian</td>\n",
       "      <td>0.943331</td>\n",
       "    </tr>\n",
       "    <tr>\n",
       "      <th>397</th>\n",
       "      <td>673662677122719744</td>\n",
       "      <td>https://pbs.twimg.com/media/CVlUfBbUwAQyfcD.jpg</td>\n",
       "      <td>1</td>\n",
       "      <td>Labrador_retriever</td>\n",
       "      <td>0.957670</td>\n",
       "      <td>True</td>\n",
       "      <td>beagle</td>\n",
       "      <td>1.241270e-02</td>\n",
       "      <td>True</td>\n",
       "      <td>golden_retriever</td>\n",
       "      <td>5.689130e-03</td>\n",
       "      <td>True</td>\n",
       "      <td>Labrador_retriever</td>\n",
       "      <td>0.957670</td>\n",
       "    </tr>\n",
       "    <tr>\n",
       "      <th>184</th>\n",
       "      <td>669354382627049472</td>\n",
       "      <td>https://pbs.twimg.com/media/CUoGQjdXAAAkaz2.jpg</td>\n",
       "      <td>1</td>\n",
       "      <td>Chihuahua</td>\n",
       "      <td>0.973990</td>\n",
       "      <td>True</td>\n",
       "      <td>French_bulldog</td>\n",
       "      <td>1.083200e-02</td>\n",
       "      <td>True</td>\n",
       "      <td>Pekinese</td>\n",
       "      <td>2.098650e-03</td>\n",
       "      <td>True</td>\n",
       "      <td>Chihuahua</td>\n",
       "      <td>0.973990</td>\n",
       "    </tr>\n",
       "    <tr>\n",
       "      <th>1032</th>\n",
       "      <td>711652651650457602</td>\n",
       "      <td>https://pbs.twimg.com/media/CeBMT6-WIAA7Qqf.jpg</td>\n",
       "      <td>1</td>\n",
       "      <td>llama</td>\n",
       "      <td>0.856789</td>\n",
       "      <td>False</td>\n",
       "      <td>Arabian_camel</td>\n",
       "      <td>9.872700e-02</td>\n",
       "      <td>False</td>\n",
       "      <td>neck_brace</td>\n",
       "      <td>1.637720e-02</td>\n",
       "      <td>False</td>\n",
       "      <td>none</td>\n",
       "      <td>0.000000</td>\n",
       "    </tr>\n",
       "    <tr>\n",
       "      <th>236</th>\n",
       "      <td>670428280563085312</td>\n",
       "      <td>https://pbs.twimg.com/media/CU3W9ELWEAEdUA0.jpg</td>\n",
       "      <td>1</td>\n",
       "      <td>chow</td>\n",
       "      <td>0.335269</td>\n",
       "      <td>True</td>\n",
       "      <td>golden_retriever</td>\n",
       "      <td>3.058500e-01</td>\n",
       "      <td>True</td>\n",
       "      <td>Tibetan_mastiff</td>\n",
       "      <td>6.332530e-02</td>\n",
       "      <td>True</td>\n",
       "      <td>chow</td>\n",
       "      <td>0.335269</td>\n",
       "    </tr>\n",
       "  </tbody>\n",
       "</table>\n",
       "</div>"
      ],
      "text/plain": [
       "                tweet_id                                          jpg_url  \\\n",
       "582   678798276842360832  https://pbs.twimg.com/media/CWuTbAKUsAAvZHh.jpg   \n",
       "106   667866724293877760  https://pbs.twimg.com/media/CUS9PlUWwAANeAD.jpg   \n",
       "449   674737130913071104  https://pbs.twimg.com/media/CV0l10AU8AAfg-a.jpg   \n",
       "1499  783821107061198850  https://pbs.twimg.com/media/CuCxIzyWEAQTnQA.jpg   \n",
       "355   672594978741354496  https://pbs.twimg.com/media/CVWJkJXWsAInlZl.jpg   \n",
       "779   689905486972461056  https://pbs.twimg.com/media/CZMJYCRVAAE35Wk.jpg   \n",
       "397   673662677122719744  https://pbs.twimg.com/media/CVlUfBbUwAQyfcD.jpg   \n",
       "184   669354382627049472  https://pbs.twimg.com/media/CUoGQjdXAAAkaz2.jpg   \n",
       "1032  711652651650457602  https://pbs.twimg.com/media/CeBMT6-WIAA7Qqf.jpg   \n",
       "236   670428280563085312  https://pbs.twimg.com/media/CU3W9ELWEAEdUA0.jpg   \n",
       "\n",
       "      img_num                  p1   p1_conf  p1_dog                    p2  \\\n",
       "582         1            Airedale  0.583122    True         silky_terrier   \n",
       "106         1       jigsaw_puzzle  1.000000   False            prayer_rug   \n",
       "449         1          Pomeranian  0.948537    True            schipperke   \n",
       "1499        1    Lakeland_terrier  0.265659    True      golden_retriever   \n",
       "355         1      Great_Pyrenees  0.755945    True  Old_English_sheepdog   \n",
       "779         4          Pomeranian  0.943331    True     Shetland_sheepdog   \n",
       "397         1  Labrador_retriever  0.957670    True                beagle   \n",
       "184         1           Chihuahua  0.973990    True        French_bulldog   \n",
       "1032        1               llama  0.856789   False         Arabian_camel   \n",
       "236         1                chow  0.335269    True      golden_retriever   \n",
       "\n",
       "           p2_conf  p2_dog                p3       p3_conf  p3_dog  \\\n",
       "582   1.295670e-01    True  Lakeland_terrier  9.472660e-02    True   \n",
       "106   1.011300e-08   False           doormat  1.740170e-10   False   \n",
       "449   1.430990e-02    True         Chihuahua  8.120240e-03    True   \n",
       "1499  1.964140e-01    True   standard_poodle  1.335340e-01    True   \n",
       "355   8.233680e-02    True      Afghan_hound  2.703660e-02    True   \n",
       "779   2.367510e-02    True              chow  7.164950e-03    True   \n",
       "397   1.241270e-02    True  golden_retriever  5.689130e-03    True   \n",
       "184   1.083200e-02    True          Pekinese  2.098650e-03    True   \n",
       "1032  9.872700e-02   False        neck_brace  1.637720e-02   False   \n",
       "236   3.058500e-01    True   Tibetan_mastiff  6.332530e-02    True   \n",
       "\n",
       "                   breed  confidence  \n",
       "582             Airedale    0.583122  \n",
       "106                 none    0.000000  \n",
       "449           Pomeranian    0.948537  \n",
       "1499    Lakeland_terrier    0.265659  \n",
       "355       Great_Pyrenees    0.755945  \n",
       "779           Pomeranian    0.943331  \n",
       "397   Labrador_retriever    0.957670  \n",
       "184            Chihuahua    0.973990  \n",
       "1032                none    0.000000  \n",
       "236                 chow    0.335269  "
      ]
     },
     "execution_count": 507,
     "metadata": {},
     "output_type": "execute_result"
    }
   ],
   "source": [
    "df_predictions_clean.sample(10)"
   ]
  },
  {
   "cell_type": "markdown",
   "metadata": {},
   "source": [
    "#### Code - Part 2"
   ]
  },
  {
   "cell_type": "code",
   "execution_count": 513,
   "metadata": {},
   "outputs": [],
   "source": [
    "# Merge the breed and confidence columns to archive\n",
    "mask_cols = ['tweet_id', 'breed', 'confidence']\n",
    "df_archive_clean = pd.merge(df_archive_clean, df_predictions_clean[mask_cols],\n",
    "                            on = 'tweet_id', how = 'inner')\n",
    "\n",
    "# Change data type for the confidence interval to a rounded, whole integer (%)\n",
    "df_archive_clean['confidence'] = (df_archive_clean['confidence'] * 100).astype(int)\n",
    "\n",
    "# after the two columns are merged, we can drop them from the 'predictions' table\n",
    "df_predictions_clean.drop(['breed', 'confidence'], axis = 1, inplace = True)"
   ]
  },
  {
   "cell_type": "markdown",
   "metadata": {},
   "source": [
    "#### Test - Part 2"
   ]
  },
  {
   "cell_type": "code",
   "execution_count": 514,
   "metadata": {
    "scrolled": true
   },
   "outputs": [
    {
     "name": "stdout",
     "output_type": "stream",
     "text": [
      "<class 'pandas.core.frame.DataFrame'>\n",
      "Int64Index: 1954 entries, 0 to 1953\n",
      "Data columns (total 11 columns):\n",
      " #   Column              Non-Null Count  Dtype              \n",
      "---  ------              --------------  -----              \n",
      " 0   tweet_id            1954 non-null   object             \n",
      " 1   timestamp           1954 non-null   datetime64[ns, UTC]\n",
      " 2   source              1954 non-null   object             \n",
      " 3   text                1954 non-null   object             \n",
      " 4   expanded_urls       1954 non-null   object             \n",
      " 5   rating_numerator    1954 non-null   int64              \n",
      " 6   rating_denominator  1954 non-null   int64              \n",
      " 7   name                1954 non-null   object             \n",
      " 8   stage               1954 non-null   category           \n",
      " 9   breed               1954 non-null   object             \n",
      " 10  confidence          1954 non-null   int32              \n",
      "dtypes: category(1), datetime64[ns, UTC](1), int32(1), int64(2), object(6)\n",
      "memory usage: 162.4+ KB\n"
     ]
    }
   ],
   "source": [
    "df_archive_clean.info()"
   ]
  },
  {
   "cell_type": "code",
   "execution_count": 517,
   "metadata": {
    "scrolled": false
   },
   "outputs": [
    {
     "data": {
      "text/html": [
       "<div>\n",
       "<style scoped>\n",
       "    .dataframe tbody tr th:only-of-type {\n",
       "        vertical-align: middle;\n",
       "    }\n",
       "\n",
       "    .dataframe tbody tr th {\n",
       "        vertical-align: top;\n",
       "    }\n",
       "\n",
       "    .dataframe thead th {\n",
       "        text-align: right;\n",
       "    }\n",
       "</style>\n",
       "<table border=\"1\" class=\"dataframe\">\n",
       "  <thead>\n",
       "    <tr style=\"text-align: right;\">\n",
       "      <th></th>\n",
       "      <th>tweet_id</th>\n",
       "      <th>timestamp</th>\n",
       "      <th>source</th>\n",
       "      <th>text</th>\n",
       "      <th>expanded_urls</th>\n",
       "      <th>rating_numerator</th>\n",
       "      <th>rating_denominator</th>\n",
       "      <th>name</th>\n",
       "      <th>stage</th>\n",
       "      <th>breed</th>\n",
       "      <th>confidence</th>\n",
       "    </tr>\n",
       "  </thead>\n",
       "  <tbody>\n",
       "    <tr>\n",
       "      <th>1710</th>\n",
       "      <td>670474236058800128</td>\n",
       "      <td>2015-11-28 05:28:09+00:00</td>\n",
       "      <td>Twitter for iPhone</td>\n",
       "      <td>Honor to rate this dog. Great teeth. Nice horn...</td>\n",
       "      <td>https://twitter.com/dog_rates/status/670474236...</td>\n",
       "      <td>10</td>\n",
       "      <td>10</td>\n",
       "      <td>None</td>\n",
       "      <td>none</td>\n",
       "      <td>none</td>\n",
       "      <td>0</td>\n",
       "    </tr>\n",
       "    <tr>\n",
       "      <th>1219</th>\n",
       "      <td>688064179421470721</td>\n",
       "      <td>2016-01-15 18:24:18+00:00</td>\n",
       "      <td>Twitter for iPhone</td>\n",
       "      <td>This is Kilo. He's a Pouncing Brioche. Really ...</td>\n",
       "      <td>https://twitter.com/dog_rates/status/688064179...</td>\n",
       "      <td>11</td>\n",
       "      <td>10</td>\n",
       "      <td>Kilo</td>\n",
       "      <td>none</td>\n",
       "      <td>Eskimo_dog</td>\n",
       "      <td>24</td>\n",
       "    </tr>\n",
       "    <tr>\n",
       "      <th>1852</th>\n",
       "      <td>667806454573760512</td>\n",
       "      <td>2015-11-20 20:47:20+00:00</td>\n",
       "      <td>Twitter for iPhone</td>\n",
       "      <td>This is Filup. He is overcome with joy after f...</td>\n",
       "      <td>https://twitter.com/dog_rates/status/667806454...</td>\n",
       "      <td>10</td>\n",
       "      <td>10</td>\n",
       "      <td>Filup</td>\n",
       "      <td>none</td>\n",
       "      <td>Chihuahua</td>\n",
       "      <td>18</td>\n",
       "    </tr>\n",
       "    <tr>\n",
       "      <th>1729</th>\n",
       "      <td>670374371102445568</td>\n",
       "      <td>2015-11-27 22:51:19+00:00</td>\n",
       "      <td>Twitter for iPhone</td>\n",
       "      <td>Meet Daisy. She's rebellious. Full of teen ang...</td>\n",
       "      <td>https://twitter.com/dog_rates/status/670374371...</td>\n",
       "      <td>12</td>\n",
       "      <td>10</td>\n",
       "      <td>Daisy</td>\n",
       "      <td>none</td>\n",
       "      <td>English_springer</td>\n",
       "      <td>97</td>\n",
       "    </tr>\n",
       "    <tr>\n",
       "      <th>1263</th>\n",
       "      <td>685169283572338688</td>\n",
       "      <td>2016-01-07 18:41:01+00:00</td>\n",
       "      <td>Twitter for iPhone</td>\n",
       "      <td>Meet Gerbald. He just found out he's adopted. ...</td>\n",
       "      <td>https://twitter.com/dog_rates/status/685169283...</td>\n",
       "      <td>11</td>\n",
       "      <td>10</td>\n",
       "      <td>Gerbald</td>\n",
       "      <td>pupper</td>\n",
       "      <td>Bernese_mountain_dog</td>\n",
       "      <td>97</td>\n",
       "    </tr>\n",
       "    <tr>\n",
       "      <th>576</th>\n",
       "      <td>772152991789019136</td>\n",
       "      <td>2016-09-03 19:23:13+00:00</td>\n",
       "      <td>Twitter for iPhone</td>\n",
       "      <td>Here's a couple rufferees making sure all the ...</td>\n",
       "      <td>https://twitter.com/dog_rates/status/772152991...</td>\n",
       "      <td>10</td>\n",
       "      <td>10</td>\n",
       "      <td>None</td>\n",
       "      <td>none</td>\n",
       "      <td>golden_retriever</td>\n",
       "      <td>27</td>\n",
       "    </tr>\n",
       "    <tr>\n",
       "      <th>1139</th>\n",
       "      <td>693647888581312512</td>\n",
       "      <td>2016-01-31 04:11:58+00:00</td>\n",
       "      <td>Twitter for iPhone</td>\n",
       "      <td>What kind of person sends in a pic without a d...</td>\n",
       "      <td>https://twitter.com/dog_rates/status/693647888...</td>\n",
       "      <td>7</td>\n",
       "      <td>10</td>\n",
       "      <td>None</td>\n",
       "      <td>none</td>\n",
       "      <td>none</td>\n",
       "      <td>0</td>\n",
       "    </tr>\n",
       "    <tr>\n",
       "      <th>1037</th>\n",
       "      <td>703631701117943808</td>\n",
       "      <td>2016-02-27 17:24:05+00:00</td>\n",
       "      <td>Twitter for iPhone</td>\n",
       "      <td>This is Bella. Based on this picture she's at ...</td>\n",
       "      <td>https://twitter.com/dog_rates/status/703631701...</td>\n",
       "      <td>11</td>\n",
       "      <td>10</td>\n",
       "      <td>Bella</td>\n",
       "      <td>none</td>\n",
       "      <td>none</td>\n",
       "      <td>0</td>\n",
       "    </tr>\n",
       "    <tr>\n",
       "      <th>1013</th>\n",
       "      <td>706265994973601792</td>\n",
       "      <td>2016-03-05 23:51:49+00:00</td>\n",
       "      <td>Twitter for iPhone</td>\n",
       "      <td>This is Kara. She's been trying to solve that ...</td>\n",
       "      <td>https://twitter.com/dog_rates/status/706265994...</td>\n",
       "      <td>11</td>\n",
       "      <td>10</td>\n",
       "      <td>Kara</td>\n",
       "      <td>none</td>\n",
       "      <td>papillon</td>\n",
       "      <td>74</td>\n",
       "    </tr>\n",
       "    <tr>\n",
       "      <th>1639</th>\n",
       "      <td>671768281401958400</td>\n",
       "      <td>2015-12-01 19:10:13+00:00</td>\n",
       "      <td>Twitter for iPhone</td>\n",
       "      <td>When you try to recreate the scene from Lady &amp;...</td>\n",
       "      <td>https://twitter.com/dog_rates/status/671768281...</td>\n",
       "      <td>10</td>\n",
       "      <td>10</td>\n",
       "      <td>None</td>\n",
       "      <td>none</td>\n",
       "      <td>Chihuahua</td>\n",
       "      <td>50</td>\n",
       "    </tr>\n",
       "  </tbody>\n",
       "</table>\n",
       "</div>"
      ],
      "text/plain": [
       "                tweet_id                 timestamp              source  \\\n",
       "1710  670474236058800128 2015-11-28 05:28:09+00:00  Twitter for iPhone   \n",
       "1219  688064179421470721 2016-01-15 18:24:18+00:00  Twitter for iPhone   \n",
       "1852  667806454573760512 2015-11-20 20:47:20+00:00  Twitter for iPhone   \n",
       "1729  670374371102445568 2015-11-27 22:51:19+00:00  Twitter for iPhone   \n",
       "1263  685169283572338688 2016-01-07 18:41:01+00:00  Twitter for iPhone   \n",
       "576   772152991789019136 2016-09-03 19:23:13+00:00  Twitter for iPhone   \n",
       "1139  693647888581312512 2016-01-31 04:11:58+00:00  Twitter for iPhone   \n",
       "1037  703631701117943808 2016-02-27 17:24:05+00:00  Twitter for iPhone   \n",
       "1013  706265994973601792 2016-03-05 23:51:49+00:00  Twitter for iPhone   \n",
       "1639  671768281401958400 2015-12-01 19:10:13+00:00  Twitter for iPhone   \n",
       "\n",
       "                                                   text  \\\n",
       "1710  Honor to rate this dog. Great teeth. Nice horn...   \n",
       "1219  This is Kilo. He's a Pouncing Brioche. Really ...   \n",
       "1852  This is Filup. He is overcome with joy after f...   \n",
       "1729  Meet Daisy. She's rebellious. Full of teen ang...   \n",
       "1263  Meet Gerbald. He just found out he's adopted. ...   \n",
       "576   Here's a couple rufferees making sure all the ...   \n",
       "1139  What kind of person sends in a pic without a d...   \n",
       "1037  This is Bella. Based on this picture she's at ...   \n",
       "1013  This is Kara. She's been trying to solve that ...   \n",
       "1639  When you try to recreate the scene from Lady &...   \n",
       "\n",
       "                                          expanded_urls  rating_numerator  \\\n",
       "1710  https://twitter.com/dog_rates/status/670474236...                10   \n",
       "1219  https://twitter.com/dog_rates/status/688064179...                11   \n",
       "1852  https://twitter.com/dog_rates/status/667806454...                10   \n",
       "1729  https://twitter.com/dog_rates/status/670374371...                12   \n",
       "1263  https://twitter.com/dog_rates/status/685169283...                11   \n",
       "576   https://twitter.com/dog_rates/status/772152991...                10   \n",
       "1139  https://twitter.com/dog_rates/status/693647888...                 7   \n",
       "1037  https://twitter.com/dog_rates/status/703631701...                11   \n",
       "1013  https://twitter.com/dog_rates/status/706265994...                11   \n",
       "1639  https://twitter.com/dog_rates/status/671768281...                10   \n",
       "\n",
       "      rating_denominator     name   stage                 breed  confidence  \n",
       "1710                  10     None    none                  none           0  \n",
       "1219                  10     Kilo    none            Eskimo_dog          24  \n",
       "1852                  10    Filup    none             Chihuahua          18  \n",
       "1729                  10    Daisy    none      English_springer          97  \n",
       "1263                  10  Gerbald  pupper  Bernese_mountain_dog          97  \n",
       "576                   10     None    none      golden_retriever          27  \n",
       "1139                  10     None    none                  none           0  \n",
       "1037                  10    Bella    none                  none           0  \n",
       "1013                  10     Kara    none              papillon          74  \n",
       "1639                  10     None    none             Chihuahua          50  "
      ]
     },
     "execution_count": 517,
     "metadata": {},
     "output_type": "execute_result"
    }
   ],
   "source": [
    "df_archive_clean.sample(10)"
   ]
  },
  {
   "cell_type": "code",
   "execution_count": 518,
   "metadata": {},
   "outputs": [
    {
     "data": {
      "text/plain": [
       "['tweet_id',\n",
       " 'jpg_url',\n",
       " 'img_num',\n",
       " 'p1',\n",
       " 'p1_conf',\n",
       " 'p1_dog',\n",
       " 'p2',\n",
       " 'p2_conf',\n",
       " 'p2_dog',\n",
       " 'p3',\n",
       " 'p3_conf',\n",
       " 'p3_dog']"
      ]
     },
     "execution_count": 518,
     "metadata": {},
     "output_type": "execute_result"
    }
   ],
   "source": [
    "list(df_predictions_clean)"
   ]
  },
  {
   "cell_type": "markdown",
   "metadata": {},
   "source": [
    "<a id='2.2'></a>\n",
    "### Problem 2.2\n",
    "We only want to keep tweets that have images."
   ]
  },
  {
   "cell_type": "markdown",
   "metadata": {},
   "source": [
    "#### Define\n",
    "Merging **`df_predictions`** with **`df_archive`** should solve this problem as well."
   ]
  },
  {
   "cell_type": "markdown",
   "metadata": {},
   "source": [
    "#### Code\n",
    "Nothing to do."
   ]
  },
  {
   "cell_type": "markdown",
   "metadata": {},
   "source": [
    "<a id='3.1'></a>\n",
    "### Problem 3.1\n",
    "Erroneous datatypes for `tweet_id`."
   ]
  },
  {
   "cell_type": "markdown",
   "metadata": {},
   "source": [
    "#### Define\n",
    "Convert  `tweet_id` to string datatype (object)."
   ]
  },
  {
   "cell_type": "markdown",
   "metadata": {},
   "source": [
    "#### Code"
   ]
  },
  {
   "cell_type": "code",
   "execution_count": 526,
   "metadata": {},
   "outputs": [],
   "source": [
    "# Convert to str dtype and make sure it is 18 characters\n",
    "df_json_data_clean['tweet_id'] = df_json_data_clean['tweet_id'].astype(str).str.pad(width=18, side='left', fillchar='0')"
   ]
  },
  {
   "cell_type": "markdown",
   "metadata": {},
   "source": [
    "#### Test"
   ]
  },
  {
   "cell_type": "code",
   "execution_count": 527,
   "metadata": {
    "scrolled": false
   },
   "outputs": [
    {
     "name": "stdout",
     "output_type": "stream",
     "text": [
      "<class 'pandas.core.frame.DataFrame'>\n",
      "RangeIndex: 2329 entries, 0 to 2328\n",
      "Data columns (total 3 columns):\n",
      " #   Column          Non-Null Count  Dtype \n",
      "---  ------          --------------  ----- \n",
      " 0   tweet_id        2329 non-null   object\n",
      " 1   retweet_count   2329 non-null   int64 \n",
      " 2   favorite_count  2329 non-null   int64 \n",
      "dtypes: int64(2), object(1)\n",
      "memory usage: 54.7+ KB\n"
     ]
    }
   ],
   "source": [
    "# Confirm tweet_id is now object\n",
    "df_json_data_clean.info()"
   ]
  },
  {
   "cell_type": "markdown",
   "metadata": {},
   "source": [
    "<a id='3.2'></a>\n",
    "### Problem 3.2\n",
    "The **`df_json_data`** table should be part of the **`df_archive`** table."
   ]
  },
  {
   "cell_type": "markdown",
   "metadata": {},
   "source": [
    "#### Define\n",
    "Merge the `retweet_count` and `favorite_count` columns to the **`df_archive`**  table, joining on `tweet_id`."
   ]
  },
  {
   "cell_type": "markdown",
   "metadata": {},
   "source": [
    "#### Code"
   ]
  },
  {
   "cell_type": "code",
   "execution_count": 528,
   "metadata": {},
   "outputs": [],
   "source": [
    "# Merge dataframe\n",
    "df_archive_clean = pd.merge(df_archive_clean, df_json_data_clean, \n",
    "                         on = 'tweet_id', how = 'left')"
   ]
  },
  {
   "cell_type": "markdown",
   "metadata": {},
   "source": [
    "#### Test"
   ]
  },
  {
   "cell_type": "code",
   "execution_count": 529,
   "metadata": {
    "scrolled": false
   },
   "outputs": [
    {
     "name": "stdout",
     "output_type": "stream",
     "text": [
      "<class 'pandas.core.frame.DataFrame'>\n",
      "Int64Index: 1954 entries, 0 to 1953\n",
      "Data columns (total 13 columns):\n",
      " #   Column              Non-Null Count  Dtype              \n",
      "---  ------              --------------  -----              \n",
      " 0   tweet_id            1954 non-null   object             \n",
      " 1   timestamp           1954 non-null   datetime64[ns, UTC]\n",
      " 2   source              1954 non-null   object             \n",
      " 3   text                1954 non-null   object             \n",
      " 4   expanded_urls       1954 non-null   object             \n",
      " 5   rating_numerator    1954 non-null   int64              \n",
      " 6   rating_denominator  1954 non-null   int64              \n",
      " 7   name                1954 non-null   object             \n",
      " 8   stage               1954 non-null   category           \n",
      " 9   breed               1954 non-null   object             \n",
      " 10  confidence          1954 non-null   int32              \n",
      " 11  retweet_count       1945 non-null   float64            \n",
      " 12  favorite_count      1945 non-null   float64            \n",
      "dtypes: category(1), datetime64[ns, UTC](1), float64(2), int32(1), int64(2), object(6)\n",
      "memory usage: 192.9+ KB\n"
     ]
    }
   ],
   "source": [
    "df_archive_clean.info()"
   ]
  },
  {
   "cell_type": "markdown",
   "metadata": {},
   "source": [
    "<a id='3.2_additional'></a>\n",
    "### Problem 3.2 Additional Cleaning\n",
    "The merge process caused the data types for `retweet_count` and `favorite_count` to change from int64 to float64. There is also missing data for these fields."
   ]
  },
  {
   "cell_type": "markdown",
   "metadata": {},
   "source": [
    "#### Define\n",
    "- Drop tweets with missing value.\n",
    "- Change the data type for the `retweet_count` and `favorite_count` to be int."
   ]
  },
  {
   "cell_type": "markdown",
   "metadata": {},
   "source": [
    "#### Code"
   ]
  },
  {
   "cell_type": "code",
   "execution_count": 531,
   "metadata": {},
   "outputs": [
    {
     "data": {
      "text/html": [
       "<div>\n",
       "<style scoped>\n",
       "    .dataframe tbody tr th:only-of-type {\n",
       "        vertical-align: middle;\n",
       "    }\n",
       "\n",
       "    .dataframe tbody tr th {\n",
       "        vertical-align: top;\n",
       "    }\n",
       "\n",
       "    .dataframe thead th {\n",
       "        text-align: right;\n",
       "    }\n",
       "</style>\n",
       "<table border=\"1\" class=\"dataframe\">\n",
       "  <thead>\n",
       "    <tr style=\"text-align: right;\">\n",
       "      <th></th>\n",
       "      <th>tweet_id</th>\n",
       "      <th>retweet_count</th>\n",
       "      <th>favorite_count</th>\n",
       "    </tr>\n",
       "  </thead>\n",
       "  <tbody>\n",
       "    <tr>\n",
       "      <th>85</th>\n",
       "      <td>872261713294495745</td>\n",
       "      <td>NaN</td>\n",
       "      <td>NaN</td>\n",
       "    </tr>\n",
       "    <tr>\n",
       "      <th>191</th>\n",
       "      <td>844704788403113984</td>\n",
       "      <td>NaN</td>\n",
       "      <td>NaN</td>\n",
       "    </tr>\n",
       "    <tr>\n",
       "      <th>220</th>\n",
       "      <td>837366284874571778</td>\n",
       "      <td>NaN</td>\n",
       "      <td>NaN</td>\n",
       "    </tr>\n",
       "    <tr>\n",
       "      <th>267</th>\n",
       "      <td>829374341691346946</td>\n",
       "      <td>NaN</td>\n",
       "      <td>NaN</td>\n",
       "    </tr>\n",
       "    <tr>\n",
       "      <th>536</th>\n",
       "      <td>779123168116150273</td>\n",
       "      <td>NaN</td>\n",
       "      <td>NaN</td>\n",
       "    </tr>\n",
       "    <tr>\n",
       "      <th>652</th>\n",
       "      <td>758740312047005698</td>\n",
       "      <td>NaN</td>\n",
       "      <td>NaN</td>\n",
       "    </tr>\n",
       "    <tr>\n",
       "      <th>679</th>\n",
       "      <td>754011816964026368</td>\n",
       "      <td>NaN</td>\n",
       "      <td>NaN</td>\n",
       "    </tr>\n",
       "    <tr>\n",
       "      <th>1359</th>\n",
       "      <td>680055455951884288</td>\n",
       "      <td>NaN</td>\n",
       "      <td>NaN</td>\n",
       "    </tr>\n",
       "    <tr>\n",
       "      <th>1426</th>\n",
       "      <td>676957860086095872</td>\n",
       "      <td>NaN</td>\n",
       "      <td>NaN</td>\n",
       "    </tr>\n",
       "  </tbody>\n",
       "</table>\n",
       "</div>"
      ],
      "text/plain": [
       "                tweet_id  retweet_count  favorite_count\n",
       "85    872261713294495745            NaN             NaN\n",
       "191   844704788403113984            NaN             NaN\n",
       "220   837366284874571778            NaN             NaN\n",
       "267   829374341691346946            NaN             NaN\n",
       "536   779123168116150273            NaN             NaN\n",
       "652   758740312047005698            NaN             NaN\n",
       "679   754011816964026368            NaN             NaN\n",
       "1359  680055455951884288            NaN             NaN\n",
       "1426  676957860086095872            NaN             NaN"
      ]
     },
     "execution_count": 531,
     "metadata": {},
     "output_type": "execute_result"
    }
   ],
   "source": [
    "mask_cols = ['tweet_id', 'retweet_count', 'favorite_count']\n",
    "df_archive_clean[df_archive_clean.retweet_count.isna() | df_archive_clean.favorite_count.isna()][mask_cols]"
   ]
  },
  {
   "cell_type": "code",
   "execution_count": 532,
   "metadata": {},
   "outputs": [],
   "source": [
    "# Remove null values\n",
    "df_archive_clean = df_archive_clean[~(df_archive_clean.retweet_count.isna() | df_archive_clean.favorite_count.isna())]"
   ]
  },
  {
   "cell_type": "code",
   "execution_count": 533,
   "metadata": {},
   "outputs": [],
   "source": [
    "# Recast the count columns to int type\n",
    "df_archive_clean['retweet_count'] = df_archive_clean['retweet_count'].astype(int)\n",
    "df_archive_clean['favorite_count'] = df_archive_clean['favorite_count'].astype(int)"
   ]
  },
  {
   "cell_type": "markdown",
   "metadata": {},
   "source": [
    "#### Test"
   ]
  },
  {
   "cell_type": "code",
   "execution_count": 534,
   "metadata": {
    "scrolled": true
   },
   "outputs": [
    {
     "name": "stdout",
     "output_type": "stream",
     "text": [
      "<class 'pandas.core.frame.DataFrame'>\n",
      "Int64Index: 1945 entries, 0 to 1953\n",
      "Data columns (total 13 columns):\n",
      " #   Column              Non-Null Count  Dtype              \n",
      "---  ------              --------------  -----              \n",
      " 0   tweet_id            1945 non-null   object             \n",
      " 1   timestamp           1945 non-null   datetime64[ns, UTC]\n",
      " 2   source              1945 non-null   object             \n",
      " 3   text                1945 non-null   object             \n",
      " 4   expanded_urls       1945 non-null   object             \n",
      " 5   rating_numerator    1945 non-null   int64              \n",
      " 6   rating_denominator  1945 non-null   int64              \n",
      " 7   name                1945 non-null   object             \n",
      " 8   stage               1945 non-null   category           \n",
      " 9   breed               1945 non-null   object             \n",
      " 10  confidence          1945 non-null   int32              \n",
      " 11  retweet_count       1945 non-null   int32              \n",
      " 12  favorite_count      1945 non-null   int32              \n",
      "dtypes: category(1), datetime64[ns, UTC](1), int32(3), int64(2), object(6)\n",
      "memory usage: 176.8+ KB\n"
     ]
    }
   ],
   "source": [
    "df_archive_clean.info()"
   ]
  },
  {
   "cell_type": "markdown",
   "metadata": {},
   "source": [
    "<a id='1.13'></a>\n",
    "### Problem 1.13\n",
    "Columns with numerical data are located to the far right of the table, which makes it difficult to readily see the data that will be used for analyses."
   ]
  },
  {
   "cell_type": "markdown",
   "metadata": {},
   "source": [
    "#### Define\n",
    "Reorder the column placement: bring numerical columns to the left."
   ]
  },
  {
   "cell_type": "markdown",
   "metadata": {},
   "source": [
    "#### Code"
   ]
  },
  {
   "cell_type": "code",
   "execution_count": 550,
   "metadata": {
    "scrolled": true
   },
   "outputs": [
    {
     "name": "stdout",
     "output_type": "stream",
     "text": [
      "['tweet_id', 'timestamp', 'source', 'text', 'expanded_urls', 'rating_numerator', 'rating_denominator', 'name', 'stage', 'breed', 'confidence', 'retweet_count', 'favorite_count']\n"
     ]
    }
   ],
   "source": [
    "# All cols in dataset\n",
    "col_list = list(df_archive_clean.columns)\n",
    "print(col_list)"
   ]
  },
  {
   "cell_type": "code",
   "execution_count": 560,
   "metadata": {},
   "outputs": [],
   "source": [
    "# Set new order\n",
    "new_order = ['tweet_id', 'timestamp', 'rating_numerator',  'rating_denominator', 'retweet_count', 'favorite_count',\n",
    "            'breed', 'confidence', 'name', 'stage', 'source', 'text', 'expanded_urls']\n",
    "\n",
    "df_archive_clean = df_archive_clean[new_order]"
   ]
  },
  {
   "cell_type": "markdown",
   "metadata": {},
   "source": [
    "#### Test"
   ]
  },
  {
   "cell_type": "code",
   "execution_count": 561,
   "metadata": {
    "scrolled": true
   },
   "outputs": [
    {
     "data": {
      "text/html": [
       "<div>\n",
       "<style scoped>\n",
       "    .dataframe tbody tr th:only-of-type {\n",
       "        vertical-align: middle;\n",
       "    }\n",
       "\n",
       "    .dataframe tbody tr th {\n",
       "        vertical-align: top;\n",
       "    }\n",
       "\n",
       "    .dataframe thead th {\n",
       "        text-align: right;\n",
       "    }\n",
       "</style>\n",
       "<table border=\"1\" class=\"dataframe\">\n",
       "  <thead>\n",
       "    <tr style=\"text-align: right;\">\n",
       "      <th></th>\n",
       "      <th>tweet_id</th>\n",
       "      <th>timestamp</th>\n",
       "      <th>rating_numerator</th>\n",
       "      <th>rating_denominator</th>\n",
       "      <th>retweet_count</th>\n",
       "      <th>favorite_count</th>\n",
       "      <th>breed</th>\n",
       "      <th>confidence</th>\n",
       "      <th>name</th>\n",
       "      <th>stage</th>\n",
       "      <th>source</th>\n",
       "      <th>text</th>\n",
       "      <th>expanded_urls</th>\n",
       "    </tr>\n",
       "  </thead>\n",
       "  <tbody>\n",
       "    <tr>\n",
       "      <th>654</th>\n",
       "      <td>758405701903519748</td>\n",
       "      <td>2016-07-27 20:56:24+00:00</td>\n",
       "      <td>10</td>\n",
       "      <td>10</td>\n",
       "      <td>1927</td>\n",
       "      <td>5241</td>\n",
       "      <td>Chesapeake_Bay_retriever</td>\n",
       "      <td>70</td>\n",
       "      <td>Odie</td>\n",
       "      <td>none</td>\n",
       "      <td>Twitter for iPhone</td>\n",
       "      <td>This is Odie. He falls asleep wherever he want...</td>\n",
       "      <td>https://twitter.com/dog_rates/status/758405701...</td>\n",
       "    </tr>\n",
       "  </tbody>\n",
       "</table>\n",
       "</div>"
      ],
      "text/plain": [
       "               tweet_id                 timestamp  rating_numerator  \\\n",
       "654  758405701903519748 2016-07-27 20:56:24+00:00                10   \n",
       "\n",
       "     rating_denominator  retweet_count  favorite_count  \\\n",
       "654                  10           1927            5241   \n",
       "\n",
       "                        breed  confidence  name stage              source  \\\n",
       "654  Chesapeake_Bay_retriever          70  Odie  none  Twitter for iPhone   \n",
       "\n",
       "                                                  text  \\\n",
       "654  This is Odie. He falls asleep wherever he want...   \n",
       "\n",
       "                                         expanded_urls  \n",
       "654  https://twitter.com/dog_rates/status/758405701...  "
      ]
     },
     "execution_count": 561,
     "metadata": {},
     "output_type": "execute_result"
    }
   ],
   "source": [
    "df_archive_clean.sample()"
   ]
  },
  {
   "cell_type": "markdown",
   "metadata": {},
   "source": [
    "### Store Data\n",
    "The cleaned twitter archive data in **`df_archive_clean`** is ready for the analysis phase. The **`df_predictions_clean`** and **`df_json_data_clean`** tables have not been cleaned as they will not be used again. Now we store the **`df_archive_clean`** table into the **`twitter_archive_master.csv`** file."
   ]
  },
  {
   "cell_type": "code",
   "execution_count": 562,
   "metadata": {},
   "outputs": [],
   "source": [
    "# Store dataset\n",
    "df_archive_clean.to_csv('dataset/twitter_archive_master.csv', index = False)"
   ]
  },
  {
   "cell_type": "code",
   "execution_count": 563,
   "metadata": {},
   "outputs": [
    {
     "data": {
      "text/plain": [
       "['image-predictions.tsv',\n",
       " 'tweet_data_extra.csv',\n",
       " 'tweet_json.txt',\n",
       " 'twitter-archive-enhanced.csv',\n",
       " 'twitter_archive_master.csv']"
      ]
     },
     "execution_count": 563,
     "metadata": {},
     "output_type": "execute_result"
    }
   ],
   "source": [
    "# Check if the file is exist\n",
    "os.listdir(folder_name)"
   ]
  },
  {
   "cell_type": "markdown",
   "metadata": {},
   "source": [
    "<a id='analyze'></a>\n",
    "## Analyze Data"
   ]
  },
  {
   "cell_type": "markdown",
   "metadata": {},
   "source": [
    "The following analyses, tables and plots, are created with the cleaned data from the previous section. The variables that are used primarily - rating, timestamp, retweet_count, favorite_count and breed - have all undergone cleaning to varying degrees."
   ]
  },
  {
   "cell_type": "code",
   "execution_count": 564,
   "metadata": {},
   "outputs": [],
   "source": [
    "# Read the cleaned dataset\n",
    "df = pd.read_csv('dataset/twitter_archive_master.csv')"
   ]
  },
  {
   "cell_type": "code",
   "execution_count": 612,
   "metadata": {},
   "outputs": [],
   "source": [
    "df['timestamp'] = pd.to_datetime(df['timestamp'])"
   ]
  },
  {
   "cell_type": "markdown",
   "metadata": {},
   "source": [
    "### Simple Statistics & Univariate Analysis"
   ]
  },
  {
   "cell_type": "code",
   "execution_count": 565,
   "metadata": {
    "scrolled": true
   },
   "outputs": [
    {
     "data": {
      "text/html": [
       "<div>\n",
       "<style scoped>\n",
       "    .dataframe tbody tr th:only-of-type {\n",
       "        vertical-align: middle;\n",
       "    }\n",
       "\n",
       "    .dataframe tbody tr th {\n",
       "        vertical-align: top;\n",
       "    }\n",
       "\n",
       "    .dataframe thead th {\n",
       "        text-align: right;\n",
       "    }\n",
       "</style>\n",
       "<table border=\"1\" class=\"dataframe\">\n",
       "  <thead>\n",
       "    <tr style=\"text-align: right;\">\n",
       "      <th></th>\n",
       "      <th>rating_numerator</th>\n",
       "      <th>retweet_count</th>\n",
       "      <th>favorite_count</th>\n",
       "      <th>confidence</th>\n",
       "    </tr>\n",
       "  </thead>\n",
       "  <tbody>\n",
       "    <tr>\n",
       "      <th>count</th>\n",
       "      <td>1945.000000</td>\n",
       "      <td>1945.000000</td>\n",
       "      <td>1945.000000</td>\n",
       "      <td>1945.000000</td>\n",
       "    </tr>\n",
       "    <tr>\n",
       "      <th>mean</th>\n",
       "      <td>10.533676</td>\n",
       "      <td>2483.288946</td>\n",
       "      <td>8365.629306</td>\n",
       "      <td>45.979949</td>\n",
       "    </tr>\n",
       "    <tr>\n",
       "      <th>std</th>\n",
       "      <td>2.175675</td>\n",
       "      <td>4445.147466</td>\n",
       "      <td>12304.162578</td>\n",
       "      <td>33.807904</td>\n",
       "    </tr>\n",
       "    <tr>\n",
       "      <th>min</th>\n",
       "      <td>0.000000</td>\n",
       "      <td>11.000000</td>\n",
       "      <td>72.000000</td>\n",
       "      <td>0.000000</td>\n",
       "    </tr>\n",
       "    <tr>\n",
       "      <th>25%</th>\n",
       "      <td>10.000000</td>\n",
       "      <td>549.000000</td>\n",
       "      <td>1774.000000</td>\n",
       "      <td>14.000000</td>\n",
       "    </tr>\n",
       "    <tr>\n",
       "      <th>50%</th>\n",
       "      <td>11.000000</td>\n",
       "      <td>1194.000000</td>\n",
       "      <td>3768.000000</td>\n",
       "      <td>45.000000</td>\n",
       "    </tr>\n",
       "    <tr>\n",
       "      <th>75%</th>\n",
       "      <td>12.000000</td>\n",
       "      <td>2835.000000</td>\n",
       "      <td>10452.000000</td>\n",
       "      <td>77.000000</td>\n",
       "    </tr>\n",
       "    <tr>\n",
       "      <th>max</th>\n",
       "      <td>14.000000</td>\n",
       "      <td>78055.000000</td>\n",
       "      <td>156601.000000</td>\n",
       "      <td>99.000000</td>\n",
       "    </tr>\n",
       "  </tbody>\n",
       "</table>\n",
       "</div>"
      ],
      "text/plain": [
       "       rating_numerator  retweet_count  favorite_count   confidence\n",
       "count       1945.000000    1945.000000     1945.000000  1945.000000\n",
       "mean          10.533676    2483.288946     8365.629306    45.979949\n",
       "std            2.175675    4445.147466    12304.162578    33.807904\n",
       "min            0.000000      11.000000       72.000000     0.000000\n",
       "25%           10.000000     549.000000     1774.000000    14.000000\n",
       "50%           11.000000    1194.000000     3768.000000    45.000000\n",
       "75%           12.000000    2835.000000    10452.000000    77.000000\n",
       "max           14.000000   78055.000000   156601.000000    99.000000"
      ]
     },
     "execution_count": 565,
     "metadata": {},
     "output_type": "execute_result"
    }
   ],
   "source": [
    "df[['rating_numerator', 'retweet_count', 'favorite_count', 'confidence']].describe()"
   ]
  },
  {
   "cell_type": "code",
   "execution_count": 570,
   "metadata": {},
   "outputs": [],
   "source": [
    "# Removing the rainbow colors and use only ONE color\n",
    "base_color = sns.color_palette()[0]"
   ]
  },
  {
   "cell_type": "code",
   "execution_count": 571,
   "metadata": {},
   "outputs": [],
   "source": [
    "# Set sns style\n",
    "sns.set(style=\"darkgrid\")"
   ]
  },
  {
   "cell_type": "markdown",
   "metadata": {},
   "source": [
    "#### Distribution of rating"
   ]
  },
  {
   "cell_type": "code",
   "execution_count": 605,
   "metadata": {
    "scrolled": false
   },
   "outputs": [
    {
     "data": {
      "image/png": "[encoded data removed]",
      "text/plain": [
       "<Figure size 1058.4x595.44 with 1 Axes>"
      ]
     },
     "metadata": {},
     "output_type": "display_data"
    }
   ],
   "source": [
    "plt.figure(figsize=[14.70, 8.27])\n",
    "df['rating_numerator'].plot(kind = 'hist', bins = 15)\n",
    "plt.xlim(0, 15)\n",
    "plt.ylabel('Number of Tweets', fontsize = 14)\n",
    "plt.xlabel('Rating', fontsize = 14)\n",
    "plt.title('Distribution of Ratings', fontsize = 16);"
   ]
  },
  {
   "cell_type": "markdown",
   "metadata": {},
   "source": [
    ">The distribution of ratings is very skewed to the left. From the descriptive statistics above we see that 75% of all ratings are between 10 and 14 inclusive (the IQR is from 10 to 12)."
   ]
  },
  {
   "cell_type": "code",
   "execution_count": 575,
   "metadata": {},
   "outputs": [
    {
     "name": "stdout",
     "output_type": "stream",
     "text": [
      "Number of tweets with rating 10 and above: 1536\n",
      "Percentage of tweets: 79%\n"
     ]
    }
   ],
   "source": [
    "# Percentage of tweets with rating of 10 and above\n",
    "rating_above10 = sum(df['rating_numerator'] >= 10)\n",
    "rating_above10_perc = round(rating_above10 * 100 / df.shape[0])\n",
    "print(\"Number of tweets with rating 10 and above: {}\".format(rating_above10))\n",
    "print(\"Percentage of tweets: {}%\".format(round(rating_above10_perc, 3)))"
   ]
  },
  {
   "cell_type": "markdown",
   "metadata": {},
   "source": [
    "#### What is the most favourited tweet to date? Top 5?"
   ]
  },
  {
   "cell_type": "code",
   "execution_count": 578,
   "metadata": {
    "scrolled": false
   },
   "outputs": [
    {
     "data": {
      "text/html": [
       "<div>\n",
       "<style scoped>\n",
       "    .dataframe tbody tr th:only-of-type {\n",
       "        vertical-align: middle;\n",
       "    }\n",
       "\n",
       "    .dataframe tbody tr th {\n",
       "        vertical-align: top;\n",
       "    }\n",
       "\n",
       "    .dataframe thead th {\n",
       "        text-align: right;\n",
       "    }\n",
       "</style>\n",
       "<table border=\"1\" class=\"dataframe\">\n",
       "  <thead>\n",
       "    <tr style=\"text-align: right;\">\n",
       "      <th></th>\n",
       "      <th>tweet_id</th>\n",
       "      <th>timestamp</th>\n",
       "      <th>rating_numerator</th>\n",
       "      <th>rating_denominator</th>\n",
       "      <th>retweet_count</th>\n",
       "      <th>favorite_count</th>\n",
       "      <th>breed</th>\n",
       "      <th>confidence</th>\n",
       "      <th>name</th>\n",
       "      <th>stage</th>\n",
       "      <th>source</th>\n",
       "      <th>text</th>\n",
       "      <th>expanded_urls</th>\n",
       "    </tr>\n",
       "  </thead>\n",
       "  <tbody>\n",
       "    <tr>\n",
       "      <th>756</th>\n",
       "      <td>744234799360020481</td>\n",
       "      <td>2016-06-18 18:26:18+00:00</td>\n",
       "      <td>13</td>\n",
       "      <td>10</td>\n",
       "      <td>78055</td>\n",
       "      <td>156601</td>\n",
       "      <td>Labrador_retriever</td>\n",
       "      <td>82</td>\n",
       "      <td>None</td>\n",
       "      <td>doggo</td>\n",
       "      <td>Twitter for iPhone</td>\n",
       "      <td>Here's a doggo realizing you can stand in a po...</td>\n",
       "      <td>https://twitter.com/dog_rates/status/744234799...</td>\n",
       "    </tr>\n",
       "    <tr>\n",
       "      <th>302</th>\n",
       "      <td>822872901745569793</td>\n",
       "      <td>2017-01-21 18:26:02+00:00</td>\n",
       "      <td>13</td>\n",
       "      <td>10</td>\n",
       "      <td>43975</td>\n",
       "      <td>133351</td>\n",
       "      <td>Lakeland_terrier</td>\n",
       "      <td>19</td>\n",
       "      <td>None</td>\n",
       "      <td>puppo</td>\n",
       "      <td>Twitter for iPhone</td>\n",
       "      <td>Here's a super supportive puppo participating ...</td>\n",
       "      <td>https://twitter.com/dog_rates/status/822872901...</td>\n",
       "    </tr>\n",
       "    <tr>\n",
       "      <th>391</th>\n",
       "      <td>807106840509214720</td>\n",
       "      <td>2016-12-09 06:17:20+00:00</td>\n",
       "      <td>13</td>\n",
       "      <td>10</td>\n",
       "      <td>56903</td>\n",
       "      <td>120954</td>\n",
       "      <td>Chihuahua</td>\n",
       "      <td>50</td>\n",
       "      <td>Stephan</td>\n",
       "      <td>none</td>\n",
       "      <td>Twitter for iPhone</td>\n",
       "      <td>This is Stephan. He just wants to help. 13/10 ...</td>\n",
       "      <td>https://twitter.com/dog_rates/status/807106840...</td>\n",
       "    </tr>\n",
       "    <tr>\n",
       "      <th>107</th>\n",
       "      <td>866450705531457537</td>\n",
       "      <td>2017-05-22 00:28:40+00:00</td>\n",
       "      <td>13</td>\n",
       "      <td>10</td>\n",
       "      <td>33044</td>\n",
       "      <td>116674</td>\n",
       "      <td>French_bulldog</td>\n",
       "      <td>90</td>\n",
       "      <td>Jamesy</td>\n",
       "      <td>pupper</td>\n",
       "      <td>Twitter for iPhone</td>\n",
       "      <td>This is Jamesy. He gives a kiss to every other...</td>\n",
       "      <td>https://twitter.com/dog_rates/status/866450705...</td>\n",
       "    </tr>\n",
       "    <tr>\n",
       "      <th>791</th>\n",
       "      <td>739238157791694849</td>\n",
       "      <td>2016-06-04 23:31:25+00:00</td>\n",
       "      <td>13</td>\n",
       "      <td>10</td>\n",
       "      <td>57857</td>\n",
       "      <td>115648</td>\n",
       "      <td>Eskimo_dog</td>\n",
       "      <td>50</td>\n",
       "      <td>None</td>\n",
       "      <td>doggo</td>\n",
       "      <td>Twitter for iPhone</td>\n",
       "      <td>Here's a doggo blowing bubbles. It's downright...</td>\n",
       "      <td>https://twitter.com/dog_rates/status/739238157...</td>\n",
       "    </tr>\n",
       "  </tbody>\n",
       "</table>\n",
       "</div>"
      ],
      "text/plain": [
       "               tweet_id                  timestamp  rating_numerator  \\\n",
       "756  744234799360020481  2016-06-18 18:26:18+00:00                13   \n",
       "302  822872901745569793  2017-01-21 18:26:02+00:00                13   \n",
       "391  807106840509214720  2016-12-09 06:17:20+00:00                13   \n",
       "107  866450705531457537  2017-05-22 00:28:40+00:00                13   \n",
       "791  739238157791694849  2016-06-04 23:31:25+00:00                13   \n",
       "\n",
       "     rating_denominator  retweet_count  favorite_count               breed  \\\n",
       "756                  10          78055          156601  Labrador_retriever   \n",
       "302                  10          43975          133351    Lakeland_terrier   \n",
       "391                  10          56903          120954           Chihuahua   \n",
       "107                  10          33044          116674      French_bulldog   \n",
       "791                  10          57857          115648          Eskimo_dog   \n",
       "\n",
       "     confidence     name   stage              source  \\\n",
       "756          82     None   doggo  Twitter for iPhone   \n",
       "302          19     None   puppo  Twitter for iPhone   \n",
       "391          50  Stephan    none  Twitter for iPhone   \n",
       "107          90   Jamesy  pupper  Twitter for iPhone   \n",
       "791          50     None   doggo  Twitter for iPhone   \n",
       "\n",
       "                                                  text  \\\n",
       "756  Here's a doggo realizing you can stand in a po...   \n",
       "302  Here's a super supportive puppo participating ...   \n",
       "391  This is Stephan. He just wants to help. 13/10 ...   \n",
       "107  This is Jamesy. He gives a kiss to every other...   \n",
       "791  Here's a doggo blowing bubbles. It's downright...   \n",
       "\n",
       "                                         expanded_urls  \n",
       "756  https://twitter.com/dog_rates/status/744234799...  \n",
       "302  https://twitter.com/dog_rates/status/822872901...  \n",
       "391  https://twitter.com/dog_rates/status/807106840...  \n",
       "107  https://twitter.com/dog_rates/status/866450705...  \n",
       "791  https://twitter.com/dog_rates/status/739238157...  "
      ]
     },
     "execution_count": 578,
     "metadata": {},
     "output_type": "execute_result"
    }
   ],
   "source": [
    "df.sort_values(by = 'favorite_count', ascending = False).head(5)"
   ]
  },
  {
   "cell_type": "markdown",
   "metadata": {},
   "source": [
    "#### What is the most retweeted  tweet to date? Top 5?"
   ]
  },
  {
   "cell_type": "code",
   "execution_count": 579,
   "metadata": {
    "scrolled": false
   },
   "outputs": [
    {
     "data": {
      "text/html": [
       "<div>\n",
       "<style scoped>\n",
       "    .dataframe tbody tr th:only-of-type {\n",
       "        vertical-align: middle;\n",
       "    }\n",
       "\n",
       "    .dataframe tbody tr th {\n",
       "        vertical-align: top;\n",
       "    }\n",
       "\n",
       "    .dataframe thead th {\n",
       "        text-align: right;\n",
       "    }\n",
       "</style>\n",
       "<table border=\"1\" class=\"dataframe\">\n",
       "  <thead>\n",
       "    <tr style=\"text-align: right;\">\n",
       "      <th></th>\n",
       "      <th>tweet_id</th>\n",
       "      <th>timestamp</th>\n",
       "      <th>rating_numerator</th>\n",
       "      <th>rating_denominator</th>\n",
       "      <th>retweet_count</th>\n",
       "      <th>favorite_count</th>\n",
       "      <th>breed</th>\n",
       "      <th>confidence</th>\n",
       "      <th>name</th>\n",
       "      <th>stage</th>\n",
       "      <th>source</th>\n",
       "      <th>text</th>\n",
       "      <th>expanded_urls</th>\n",
       "    </tr>\n",
       "  </thead>\n",
       "  <tbody>\n",
       "    <tr>\n",
       "      <th>756</th>\n",
       "      <td>744234799360020481</td>\n",
       "      <td>2016-06-18 18:26:18+00:00</td>\n",
       "      <td>13</td>\n",
       "      <td>10</td>\n",
       "      <td>78055</td>\n",
       "      <td>156601</td>\n",
       "      <td>Labrador_retriever</td>\n",
       "      <td>82</td>\n",
       "      <td>None</td>\n",
       "      <td>doggo</td>\n",
       "      <td>Twitter for iPhone</td>\n",
       "      <td>Here's a doggo realizing you can stand in a po...</td>\n",
       "      <td>https://twitter.com/dog_rates/status/744234799...</td>\n",
       "    </tr>\n",
       "    <tr>\n",
       "      <th>791</th>\n",
       "      <td>739238157791694849</td>\n",
       "      <td>2016-06-04 23:31:25+00:00</td>\n",
       "      <td>13</td>\n",
       "      <td>10</td>\n",
       "      <td>57857</td>\n",
       "      <td>115648</td>\n",
       "      <td>Eskimo_dog</td>\n",
       "      <td>50</td>\n",
       "      <td>None</td>\n",
       "      <td>doggo</td>\n",
       "      <td>Twitter for iPhone</td>\n",
       "      <td>Here's a doggo blowing bubbles. It's downright...</td>\n",
       "      <td>https://twitter.com/dog_rates/status/739238157...</td>\n",
       "    </tr>\n",
       "    <tr>\n",
       "      <th>391</th>\n",
       "      <td>807106840509214720</td>\n",
       "      <td>2016-12-09 06:17:20+00:00</td>\n",
       "      <td>13</td>\n",
       "      <td>10</td>\n",
       "      <td>56903</td>\n",
       "      <td>120954</td>\n",
       "      <td>Chihuahua</td>\n",
       "      <td>50</td>\n",
       "      <td>Stephan</td>\n",
       "      <td>none</td>\n",
       "      <td>Twitter for iPhone</td>\n",
       "      <td>This is Stephan. He just wants to help. 13/10 ...</td>\n",
       "      <td>https://twitter.com/dog_rates/status/807106840...</td>\n",
       "    </tr>\n",
       "    <tr>\n",
       "      <th>302</th>\n",
       "      <td>822872901745569793</td>\n",
       "      <td>2017-01-21 18:26:02+00:00</td>\n",
       "      <td>13</td>\n",
       "      <td>10</td>\n",
       "      <td>43975</td>\n",
       "      <td>133351</td>\n",
       "      <td>Lakeland_terrier</td>\n",
       "      <td>19</td>\n",
       "      <td>None</td>\n",
       "      <td>puppo</td>\n",
       "      <td>Twitter for iPhone</td>\n",
       "      <td>Here's a super supportive puppo participating ...</td>\n",
       "      <td>https://twitter.com/dog_rates/status/822872901...</td>\n",
       "    </tr>\n",
       "    <tr>\n",
       "      <th>58</th>\n",
       "      <td>879415818425184262</td>\n",
       "      <td>2017-06-26 19:07:24+00:00</td>\n",
       "      <td>13</td>\n",
       "      <td>10</td>\n",
       "      <td>40660</td>\n",
       "      <td>99474</td>\n",
       "      <td>English_springer</td>\n",
       "      <td>38</td>\n",
       "      <td>Duddles</td>\n",
       "      <td>none</td>\n",
       "      <td>Twitter for iPhone</td>\n",
       "      <td>This is Duddles. He did an attempt. 13/10 some...</td>\n",
       "      <td>https://twitter.com/dog_rates/status/879415818...</td>\n",
       "    </tr>\n",
       "  </tbody>\n",
       "</table>\n",
       "</div>"
      ],
      "text/plain": [
       "               tweet_id                  timestamp  rating_numerator  \\\n",
       "756  744234799360020481  2016-06-18 18:26:18+00:00                13   \n",
       "791  739238157791694849  2016-06-04 23:31:25+00:00                13   \n",
       "391  807106840509214720  2016-12-09 06:17:20+00:00                13   \n",
       "302  822872901745569793  2017-01-21 18:26:02+00:00                13   \n",
       "58   879415818425184262  2017-06-26 19:07:24+00:00                13   \n",
       "\n",
       "     rating_denominator  retweet_count  favorite_count               breed  \\\n",
       "756                  10          78055          156601  Labrador_retriever   \n",
       "791                  10          57857          115648          Eskimo_dog   \n",
       "391                  10          56903          120954           Chihuahua   \n",
       "302                  10          43975          133351    Lakeland_terrier   \n",
       "58                   10          40660           99474    English_springer   \n",
       "\n",
       "     confidence     name  stage              source  \\\n",
       "756          82     None  doggo  Twitter for iPhone   \n",
       "791          50     None  doggo  Twitter for iPhone   \n",
       "391          50  Stephan   none  Twitter for iPhone   \n",
       "302          19     None  puppo  Twitter for iPhone   \n",
       "58           38  Duddles   none  Twitter for iPhone   \n",
       "\n",
       "                                                  text  \\\n",
       "756  Here's a doggo realizing you can stand in a po...   \n",
       "791  Here's a doggo blowing bubbles. It's downright...   \n",
       "391  This is Stephan. He just wants to help. 13/10 ...   \n",
       "302  Here's a super supportive puppo participating ...   \n",
       "58   This is Duddles. He did an attempt. 13/10 some...   \n",
       "\n",
       "                                         expanded_urls  \n",
       "756  https://twitter.com/dog_rates/status/744234799...  \n",
       "791  https://twitter.com/dog_rates/status/739238157...  \n",
       "391  https://twitter.com/dog_rates/status/807106840...  \n",
       "302  https://twitter.com/dog_rates/status/822872901...  \n",
       "58   https://twitter.com/dog_rates/status/879415818...  "
      ]
     },
     "execution_count": 579,
     "metadata": {},
     "output_type": "execute_result"
    }
   ],
   "source": [
    "df.sort_values(by = 'retweet_count', ascending = False).head(5)"
   ]
  },
  {
   "cell_type": "markdown",
   "metadata": {},
   "source": [
    "> There are 4 tweets that are in the top 5 for both variables, but the most popular tweet is also the same as the most retweeted tweet; it has been retweeted over 83,000 times and favourited over 164,000 times!"
   ]
  },
  {
   "cell_type": "markdown",
   "metadata": {},
   "source": [
    "#### What is the most common stage?"
   ]
  },
  {
   "cell_type": "code",
   "execution_count": 580,
   "metadata": {
    "scrolled": true
   },
   "outputs": [
    {
     "name": "stdout",
     "output_type": "stream",
     "text": [
      "Number of tweets with stage: 301\n",
      "Percentage of tweets: 15%\n"
     ]
    }
   ],
   "source": [
    "with_stage_sum = sum(df['stage'] != 'none')\n",
    "tweets_with_stage = round(with_stage_sum * 100 / df.shape[0])\n",
    "print(\"Number of tweets with stage: {}\".format(with_stage_sum))\n",
    "print(\"Percentage of tweets: {}%\".format(round(tweets_with_stage, 3)))"
   ]
  },
  {
   "cell_type": "markdown",
   "metadata": {},
   "source": [
    "> Only a small proportion of tweets with dog stages identified."
   ]
  },
  {
   "cell_type": "code",
   "execution_count": 582,
   "metadata": {
    "scrolled": true
   },
   "outputs": [
    {
     "data": {
      "text/plain": [
       "pupper     200\n",
       "doggo       70\n",
       "puppo       23\n",
       "floofer      8\n",
       "Name: stage, dtype: int64"
      ]
     },
     "execution_count": 582,
     "metadata": {},
     "output_type": "execute_result"
    }
   ],
   "source": [
    "df[df['stage'] != 'none']['stage'].value_counts()"
   ]
  },
  {
   "cell_type": "markdown",
   "metadata": {},
   "source": [
    "> pupper is the most common stage."
   ]
  },
  {
   "cell_type": "markdown",
   "metadata": {},
   "source": [
    "#### What are the 10 most common breeds of dogs tweeted about? (Excluding the category 'none'.)"
   ]
  },
  {
   "cell_type": "code",
   "execution_count": 587,
   "metadata": {},
   "outputs": [
    {
     "name": "stdout",
     "output_type": "stream",
     "text": [
      "Number of tweets with 'none' predicted breed: 302 (16%)\n",
      "Number of distinct breeds: 113\n"
     ]
    }
   ],
   "source": [
    "str = \"Number of tweets with 'none' predicted breed: {} ({}%)\"\n",
    "none_count = sum(df['breed'] == 'none')\n",
    "none_perc = none_count * 100 / df.shape[0]\n",
    "print(str.format(none_count, round(none_perc)))\n",
    "\n",
    "str = \"Number of distinct breeds: {}\"\n",
    "print(str.format(len(df['breed'].unique())))"
   ]
  },
  {
   "cell_type": "code",
   "execution_count": 588,
   "metadata": {},
   "outputs": [
    {
     "name": "stdout",
     "output_type": "stream",
     "text": [
      "Breed and number of tweets\n",
      "--------------------------\n",
      "golden_retriever      154\n",
      "Labrador_retriever    100\n",
      "Pembroke               94\n",
      "Chihuahua              90\n",
      "pug                    62\n",
      "toy_poodle             49\n",
      "chow                   47\n",
      "Samoyed                41\n",
      "Pomeranian             40\n",
      "malamute               33\n",
      "Name: breed, dtype: int64\n",
      "\n",
      "Top 10 dog breeds make up 37% of all tweets\n"
     ]
    }
   ],
   "source": [
    "top10_breeds_count = \\\n",
    "df[df['breed'] != 'none'].breed.value_counts().head(10)\n",
    "print(\"Breed and number of tweets\")\n",
    "print(\"--------------------------\")\n",
    "print(top10_breeds_count)\n",
    "\n",
    "top10_per = round(sum(top10_breeds_count) * 100 / df.shape[0])\n",
    "print(\"\\nTop 10 dog breeds make up {}% of all tweets\".format(top10_per))"
   ]
  },
  {
   "cell_type": "code",
   "execution_count": 604,
   "metadata": {
    "scrolled": false
   },
   "outputs": [
    {
     "data": {
      "image/png": "[encoded data removed]",
      "text/plain": [
       "<Figure size 1058.4x595.44 with 1 Axes>"
      ]
     },
     "metadata": {},
     "output_type": "display_data"
    }
   ],
   "source": [
    "plt.figure(figsize=[14.70, 8.27])\n",
    "plt.barh(top10_breeds_count.index, top10_breeds_count)\n",
    "plt.xlabel('Number of Tweets', fontsize = 14, weight = 'bold')\n",
    "plt.ylabel('Dog Breed', fontsize = 14, weight = 'bold')\n",
    "plt.title('Top 10 Dog Breeds by Tweet Count', fontsize = 16, weight = 'bold')\n",
    "plt.gca().invert_yaxis();"
   ]
  },
  {
   "cell_type": "markdown",
   "metadata": {},
   "source": [
    "> The bar chart above shows that the most common dog that is tweeted about, with 154 tweets, is the Golden Retriever, as identified (predicted) by the neural network. Labrador Retrievers, Pembrokes and Chihuahuas are fairly close together in 2nd, 3rd, and 4th place. Further down we'll take a look at what are the most favourited dog breeds."
   ]
  },
  {
   "cell_type": "markdown",
   "metadata": {},
   "source": [
    "### Bivariate Analysis"
   ]
  },
  {
   "cell_type": "code",
   "execution_count": 602,
   "metadata": {
    "scrolled": false
   },
   "outputs": [
    {
     "data": {
      "image/png": "[encoded data removed]",
      "text/plain": [
       "<Figure size 720x720 with 20 Axes>"
      ]
     },
     "metadata": {},
     "output_type": "display_data"
    }
   ],
   "source": [
    "sns.pairplot(df, vars = ['rating_numerator', 'retweet_count', 'favorite_count', 'confidence'], \n",
    "             diag_kind = 'kde', plot_kws = {'alpha': 0.2});"
   ]
  },
  {
   "cell_type": "markdown",
   "metadata": {},
   "source": [
    "#### Which dog breeds have the highest overall favourite counts?"
   ]
  },
  {
   "cell_type": "code",
   "execution_count": 597,
   "metadata": {
    "scrolled": true
   },
   "outputs": [
    {
     "data": {
      "text/plain": [
       "breed\n",
       "golden_retriever      1800448\n",
       "Labrador_retriever    1111171\n",
       "Pembroke               971815\n",
       "Chihuahua              719466\n",
       "French_bulldog         563119\n",
       "Samoyed                517612\n",
       "chow                   416183\n",
       "cocker_spaniel         379851\n",
       "pug                    350729\n",
       "malamute               327913\n",
       "Name: favorite_count, dtype: int64"
      ]
     },
     "execution_count": 597,
     "metadata": {},
     "output_type": "execute_result"
    }
   ],
   "source": [
    "fav_counts_breed = df[df['breed'] != 'none']\n",
    "fav_counts_breed = fav_counts_breed.groupby(['breed'])\n",
    "fav_counts_breed = fav_counts_breed['favorite_count'].sum()\n",
    "fav_counts_breed = fav_counts_breed.sort_values(ascending = False)\n",
    "top10_breeds_fav_counts = fav_counts_breed.head(10)\n",
    "top10_breeds_fav_counts"
   ]
  },
  {
   "cell_type": "code",
   "execution_count": 606,
   "metadata": {},
   "outputs": [
    {
     "data": {
      "image/png": "[encoded data removed]",
      "text/plain": [
       "<Figure size 1058.4x595.44 with 1 Axes>"
      ]
     },
     "metadata": {},
     "output_type": "display_data"
    }
   ],
   "source": [
    "plt.figure(figsize=[14.70, 8.27])\n",
    "plt.barh(top10_breeds_fav_counts.index, top10_breeds_fav_counts, color = 'g')\n",
    "plt.xlabel('Aggregate Favorite Count', fontsize = 14, weight = 'bold')\n",
    "plt.ylabel('Dog Breed', fontsize = 12, weight = 'bold')\n",
    "plt.title('Top 10 Dog Breeds by Aggregate Favorite Count', fontsize = 16, weight = 'bold')\n",
    "plt.gca().invert_yaxis();"
   ]
  },
  {
   "cell_type": "markdown",
   "metadata": {},
   "source": [
    "> The plot above shows the top 10 dog breeds ranked by aggregate favourite counts. It looks very similar to the barplot ealier of top 10 dog breeds ranked by tweet, and in fact the top 4 dog breeds are the same. This also makes sense, as these dogs have the highest number of tweets."
   ]
  },
  {
   "cell_type": "code",
   "execution_count": 607,
   "metadata": {},
   "outputs": [
    {
     "data": {
      "text/plain": [
       "['pug',\n",
       " 'chow',\n",
       " 'Chihuahua',\n",
       " 'Samoyed',\n",
       " 'Labrador_retriever',\n",
       " 'golden_retriever',\n",
       " 'Pembroke',\n",
       " 'malamute']"
      ]
     },
     "execution_count": 607,
     "metadata": {},
     "output_type": "execute_result"
    }
   ],
   "source": [
    "list(set(top10_breeds_count.index) & set(top10_breeds_fav_counts.index))"
   ]
  },
  {
   "cell_type": "markdown",
   "metadata": {},
   "source": [
    "> Both groups have these 8 dog breeds in common."
   ]
  },
  {
   "cell_type": "markdown",
   "metadata": {},
   "source": [
    "#### How are ratings distributed within each of the dog breeds with highest favourite counts?"
   ]
  },
  {
   "cell_type": "code",
   "execution_count": 609,
   "metadata": {},
   "outputs": [
    {
     "data": {
      "image/png": "[encoded data removed]",
      "text/plain": [
       "<Figure size 1058.4x595.44 with 1 Axes>"
      ]
     },
     "metadata": {},
     "output_type": "display_data"
    }
   ],
   "source": [
    "plt.figure(figsize=[14.70, 8.27])\n",
    "bplot = sns.boxplot(y = 'breed', x = 'rating_numerator',\n",
    "                    data = df,\n",
    "                    orient = 'h',\n",
    "                    width = 0.5,\n",
    "                    palette = \"colorblind\",\n",
    "                    order = top10_breeds_fav_counts.index.tolist())\n",
    "plt.xlim(0, 16)\n",
    "\n",
    "# title and labels\n",
    "plt.suptitle('Ratings for Top 10 Dog Breeds (by Aggregate Favorite Count)', fontsize = 18, weight = 'bold')\n",
    "plt.title('Distribution within Breeds', fontsize = 16, weight = 'bold')\n",
    "plt.ylabel(\"Breed\",  fontsize = 14, weight = 'bold')\n",
    "plt.xlabel('Rating',  fontsize = 14, weight = 'bold');"
   ]
  },
  {
   "cell_type": "markdown",
   "metadata": {},
   "source": [
    "> The boxplot here shows the distribution of ratings within each of the top 10 dog breeds as ranked by aggregate favourite count. All the breeds range between 7 and 13, with a only a few outliers, while four of the breeds have the lower ratings at 10. Another four breeds have the highest ratings at 14."
   ]
  },
  {
   "cell_type": "markdown",
   "metadata": {},
   "source": [
    "#### How are tweet ratings distributed by day?"
   ]
  },
  {
   "cell_type": "code",
   "execution_count": 619,
   "metadata": {},
   "outputs": [],
   "source": [
    "# Add random amount of float between [0.0:0.7) to input x\n",
    "def jitter(x):\n",
    "    random.seed()\n",
    "    return x + random.uniform(0, 0.7)"
   ]
  },
  {
   "cell_type": "code",
   "execution_count": 613,
   "metadata": {},
   "outputs": [],
   "source": [
    "# Return the number of days from a timedelta object x\n",
    "def days_from_start(x):\n",
    "    return x.days\n",
    "\n",
    "# Dtart date\n",
    "first_day = df.timestamp.min()\n",
    "\n",
    "# Array with days corresponding to timestamp\n",
    "we_rate_dogs_days = (df.timestamp - first_day).apply(days_from_start)"
   ]
  },
  {
   "cell_type": "code",
   "execution_count": 624,
   "metadata": {
    "scrolled": false
   },
   "outputs": [
    {
     "data": {
      "image/png": "[encoded data removed]",
      "text/plain": [
       "<Figure size 1058.4x595.44 with 1 Axes>"
      ]
     },
     "metadata": {
      "needs_background": "light"
     },
     "output_type": "display_data"
    }
   ],
   "source": [
    "plt.figure(figsize=[14.70, 8.27])\n",
    "\n",
    "# Add jitter to the rating so it's not so cluttered on each line\n",
    "rating_jitter = df['rating_numerator'].apply(jitter)\n",
    "\n",
    "plt.scatter(we_rate_dogs_days, rating_jitter, s = 10, alpha = 0.6)\n",
    "\n",
    "# Title and labels\n",
    "plt.suptitle('Daily Tweets by Rating', fontsize = 18)\n",
    "plt.title('(Jitter added to points for clarity)', fontsize = 14)\n",
    "\n",
    "plt.xlabel('Days From Beginning', fontsize = 14)\n",
    "plt.ylabel('Rating', fontsize = 14)\n",
    "\n",
    "# Add the line at 10 for reference; ratings are out of 10\n",
    "plt.axhline(y = 10, color = 'r')\n",
    "plt.ylim(0, 16)\n",
    "\n",
    "plt.show();"
   ]
  },
  {
   "cell_type": "markdown",
   "metadata": {},
   "source": [
    "> The plot here has the tweet ratings by day, showing how the ratings are generally over 10 in the latter half of the time period, after the account has been running for 300 days"
   ]
  },
  {
   "cell_type": "markdown",
   "metadata": {},
   "source": [
    "### Multivariate Analysis"
   ]
  },
  {
   "cell_type": "markdown",
   "metadata": {},
   "source": [
    "#### Relationship between favourite and retweet counts with dog rating as colour."
   ]
  },
  {
   "cell_type": "markdown",
   "metadata": {},
   "source": [
    "Adapted from an answer from [StackOverflow](https://stackoverflow.com/questions/25741214/how-to-use-colormaps-to-color-plots-of-pandas-dataframes)."
   ]
  },
  {
   "cell_type": "code",
   "execution_count": 637,
   "metadata": {},
   "outputs": [
    {
     "data": {
      "image/png": "[encoded data removed]",
      "text/plain": [
       "<Figure size 1058.4x595.44 with 2 Axes>"
      ]
     },
     "metadata": {
      "needs_background": "light"
     },
     "output_type": "display_data"
    }
   ],
   "source": [
    "cmap = cm.get_cmap('Spectral') # Colour map (there are many others)\n",
    "plt.figure(figsize=[14.70, 8.27])\n",
    "plt.xscale('log')\n",
    "plt.yscale('log')\n",
    "plt.xlim(df['favorite_count'].min() - 10, df['favorite_count'].max() + 100000)\n",
    "plt.ylim(10, df['retweet_count'].max() + 25000)\n",
    "colours = df['rating_numerator']\n",
    "markers = 25\n",
    "\n",
    "plt.scatter(df['favorite_count'], df['retweet_count'], \n",
    "            c = colours, s = markers, cmap = cmap, edgecolor = 'None', alpha = 0.6)\n",
    "\n",
    "# title and labels\n",
    "plt.suptitle('Favorite Count vs. Retweet Count (Log10 Scale)', fontsize = 18, weight = 'bold')\n",
    "plt.title('with Rating for colour of marker', fontsize = 16, weight = 'bold')\n",
    "plt.xlabel('Favorite Count (log10)', fontsize = 14, weight = 'bold')\n",
    "plt.ylabel('Retweet Count (log10)', fontsize = 14, weight = 'bold')\n",
    "\n",
    "# colour bar\n",
    "cbar = plt.colorbar()\n",
    "cbar.set_label('Rating');"
   ]
  },
  {
   "cell_type": "markdown",
   "metadata": {},
   "source": [
    "#### Favourite counts over time, with dog rating as colour."
   ]
  },
  {
   "cell_type": "code",
   "execution_count": 638,
   "metadata": {
    "scrolled": false
   },
   "outputs": [
    {
     "data": {
      "image/png": "[encoded data removed]",
      "text/plain": [
       "<Figure size 1058.4x595.44 with 2 Axes>"
      ]
     },
     "metadata": {
      "needs_background": "light"
     },
     "output_type": "display_data"
    }
   ],
   "source": [
    "cmap = cm.get_cmap('Spectral') # Colour map (there are many others)\n",
    "plt.figure(figsize=[14.70, 8.27])\n",
    "\n",
    "plt.yscale('log')\n",
    "plt.ylim(df['favorite_count'].min() - 10, \n",
    "         df['favorite_count'].max() + 100000)\n",
    "colours = df['rating_numerator']\n",
    "markers = 25\n",
    "\n",
    "plt.scatter(we_rate_dogs_days, df['favorite_count'], \n",
    "            c = colours, s = markers, cmap = cmap, edgecolor = 'None', alpha = 0.7)\n",
    "\n",
    "# title and labels\n",
    "plt.suptitle('Daily Tweets by Favorite Count (Log10 Scale)', fontsize = 18, weight = 'bold')\n",
    "plt.title('with Rating for colour of marker', fontsize = 14, weight = 'bold')\n",
    "plt.xlabel('Days From Beginning', fontsize = 14, weight = 'bold')\n",
    "plt.ylabel('Favorite Count (log10)', fontsize = 14, weight = 'bold')\n",
    "\n",
    "cbar = plt.colorbar()\n",
    "cbar.set_label('Rating');"
   ]
  },
  {
   "cell_type": "markdown",
   "metadata": {},
   "source": [
    "> In this plot the x-axis scale is reversed showing time in the past, and moving forward from left to right. Clearly, the more recent tweets (younger/fewer days old on the right side) are rated consistently higher (blue and green) than much older tweets (yellow and green). Also interesting is that tweets older than 1100 days have lower favourite counts; this is most likely because this was at the start of the twitter account, and so there weren't as many followers at the time.\n",
    ">\n",
    ">The slope of the line is also increasing at a steady rate from around 1100 days, reflecting the daily increase in tweets being favourited. This clearly shows that the twitter account followers were active, and possibly growing, during the timeframe represented in the archive.\n",
    ">\n",
    ">The older tweets also have much more variability in ratings as seen by the range of colours (more yellow and green), and also in the range of favorite_count."
   ]
  },
  {
   "cell_type": "code",
   "execution_count": null,
   "metadata": {},
   "outputs": [],
   "source": []
  },
  {
   "cell_type": "markdown",
   "metadata": {},
   "source": []
  }
 ],
 "metadata": {
  "kernelspec": {
   "display_name": "Python 3",
   "language": "python",
   "name": "python3"
  },
  "language_info": {
   "codemirror_mode": {
    "name": "ipython",
    "version": 3
   },
   "file_extension": ".py",
   "mimetype": "text/x-python",
   "name": "python",
   "nbconvert_exporter": "python",
   "pygments_lexer": "ipython3",
   "version": "3.7.5"
  }
 },
 "nbformat": 4,
 "nbformat_minor": 4
}
